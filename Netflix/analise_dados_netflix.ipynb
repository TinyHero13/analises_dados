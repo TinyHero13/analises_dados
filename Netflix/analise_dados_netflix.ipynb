{
 "cells": [
  {
   "cell_type": "code",
   "execution_count": 1,
   "metadata": {},
   "outputs": [],
   "source": [
    "import duckdb as db\n",
    "import plotly.express as px\n",
    "from plotly.subplots import make_subplots\n",
    "import plotly.graph_objects as go\n",
    "import pandas as pd"
   ]
  },
  {
   "cell_type": "markdown",
   "metadata": {},
   "source": [
    "Primeiramente vamos analisar o dataset e obter algumas informações dele"
   ]
  },
  {
   "cell_type": "code",
   "execution_count": 2,
   "metadata": {},
   "outputs": [],
   "source": [
    "# Obs: também é possível ler direto csv com o duckdb\n",
    "# db.read_csv('netflix.csv')"
   ]
  },
  {
   "cell_type": "code",
   "execution_count": 3,
   "metadata": {},
   "outputs": [],
   "source": [
    "# Cria a tabela netflix caso não exista\n",
    "db.sql(\"CREATE TABLE IF NOT EXISTS netflix AS SELECT * FROM read_csv('netflix.csv');\")"
   ]
  },
  {
   "cell_type": "code",
   "execution_count": 4,
   "metadata": {},
   "outputs": [],
   "source": [
    "# db.sql(\"DROP TABLE netflix\")"
   ]
  },
  {
   "cell_type": "code",
   "execution_count": 5,
   "metadata": {},
   "outputs": [
    {
     "data": {
      "text/plain": [
       "┌─────────┬──────────┬─────────┬───┬─────────┬───────────┬──────────────────────┬──────────────────────┐\n",
       "│ Show_Id │ Category │  Title  │ … │ Rating  │ Duration  │         Type         │     Description      │\n",
       "│ varchar │ varchar  │ varchar │   │ varchar │  varchar  │       varchar        │       varchar        │\n",
       "├─────────┼──────────┼─────────┼───┼─────────┼───────────┼──────────────────────┼──────────────────────┤\n",
       "│ s1      │ TV Show  │ 3%      │ … │ TV-MA   │ 4 Seasons │ International TV S…  │ In a future where …  │\n",
       "│ s2      │ Movie    │ 07:19   │ … │ TV-MA   │ 93 min    │ Dramas, Internatio…  │ After a devastatin…  │\n",
       "│ s3      │ Movie    │ 23:59   │ … │ R       │ 78 min    │ Horror Movies, Int…  │ When an army recru…  │\n",
       "│ s4      │ Movie    │ 9       │ … │ PG-13   │ 80 min    │ Action & Adventure…  │ In a postapocalypt…  │\n",
       "│ s5      │ Movie    │ 21      │ … │ PG-13   │ 123 min   │ Dramas               │ A brilliant group …  │\n",
       "│ s6      │ TV Show  │ 46      │ … │ TV-MA   │ 1 Season  │ International TV S…  │ A genetics profess…  │\n",
       "│ s7      │ Movie    │ 122     │ … │ TV-MA   │ 95 min    │ Horror Movies, Int…  │ After an awful acc…  │\n",
       "│ s8      │ Movie    │ 187     │ … │ R       │ 119 min   │ Dramas               │ After one of his h…  │\n",
       "│ s9      │ Movie    │ 706     │ … │ TV-14   │ 118 min   │ Horror Movies, Int…  │ When a doctor goes…  │\n",
       "│ s10     │ Movie    │ 1920    │ … │ TV-MA   │ 143 min   │ Horror Movies, Int…  │ An architect and h…  │\n",
       "├─────────┴──────────┴─────────┴───┴─────────┴───────────┴──────────────────────┴──────────────────────┤\n",
       "│ 10 rows                                                                         11 columns (7 shown) │\n",
       "└──────────────────────────────────────────────────────────────────────────────────────────────────────┘"
      ]
     },
     "execution_count": 5,
     "metadata": {},
     "output_type": "execute_result"
    }
   ],
   "source": [
    "db.sql(\"SELECT * FROM netflix LIMIT 10\")"
   ]
  },
  {
   "cell_type": "code",
   "execution_count": 6,
   "metadata": {},
   "outputs": [
    {
     "name": "stdout",
     "output_type": "stream",
     "text": [
      "O dataset possui 7789 linhas\n"
     ]
    }
   ],
   "source": [
    "# Verificando quantas linhas temos em nosso dataset\n",
    "qtd = db.sql(\"SELECT COUNT(*) FROM netflix\").fetchall()[0][0]\n",
    "print(f\"O dataset possui {qtd} linhas\")"
   ]
  },
  {
   "cell_type": "code",
   "execution_count": 7,
   "metadata": {},
   "outputs": [
    {
     "data": {
      "text/plain": [
       "┌──────────────┬─────────────┬─────────┬─────────┬─────────┬─────────┐\n",
       "│ column_name  │ column_type │  null   │   key   │ default │  extra  │\n",
       "│   varchar    │   varchar   │ varchar │ varchar │ varchar │ varchar │\n",
       "├──────────────┼─────────────┼─────────┼─────────┼─────────┼─────────┤\n",
       "│ Show_Id      │ VARCHAR     │ YES     │ NULL    │ NULL    │ NULL    │\n",
       "│ Category     │ VARCHAR     │ YES     │ NULL    │ NULL    │ NULL    │\n",
       "│ Title        │ VARCHAR     │ YES     │ NULL    │ NULL    │ NULL    │\n",
       "│ Director     │ VARCHAR     │ YES     │ NULL    │ NULL    │ NULL    │\n",
       "│ Cast         │ VARCHAR     │ YES     │ NULL    │ NULL    │ NULL    │\n",
       "│ Country      │ VARCHAR     │ YES     │ NULL    │ NULL    │ NULL    │\n",
       "│ Release_Date │ VARCHAR     │ YES     │ NULL    │ NULL    │ NULL    │\n",
       "│ Rating       │ VARCHAR     │ YES     │ NULL    │ NULL    │ NULL    │\n",
       "│ Duration     │ VARCHAR     │ YES     │ NULL    │ NULL    │ NULL    │\n",
       "│ Type         │ VARCHAR     │ YES     │ NULL    │ NULL    │ NULL    │\n",
       "│ Description  │ VARCHAR     │ YES     │ NULL    │ NULL    │ NULL    │\n",
       "├──────────────┴─────────────┴─────────┴─────────┴─────────┴─────────┤\n",
       "│ 11 rows                                                  6 columns │\n",
       "└────────────────────────────────────────────────────────────────────┘"
      ]
     },
     "execution_count": 7,
     "metadata": {},
     "output_type": "execute_result"
    }
   ],
   "source": [
    "db.sql(\"DESCRIBE netflix\")"
   ]
  },
  {
   "cell_type": "markdown",
   "metadata": {},
   "source": [
    "Analisando melhor com pandas"
   ]
  },
  {
   "cell_type": "code",
   "execution_count": 8,
   "metadata": {},
   "outputs": [],
   "source": [
    "df_netflix = db.sql(\"SELECT * FROM netflix\").df()"
   ]
  },
  {
   "cell_type": "code",
   "execution_count": 9,
   "metadata": {},
   "outputs": [
    {
     "data": {
      "text/plain": [
       "Index(['Show_Id', 'Category', 'Title', 'Director', 'Cast', 'Country',\n",
       "       'Release_Date', 'Rating', 'Duration', 'Type', 'Description'],\n",
       "      dtype='object')"
      ]
     },
     "execution_count": 9,
     "metadata": {},
     "output_type": "execute_result"
    }
   ],
   "source": [
    "# Verificando as colunas\n",
    "df_netflix.columns"
   ]
  },
  {
   "cell_type": "markdown",
   "metadata": {},
   "source": [
    "Dicionario dos dados\n",
    "\n",
    "| Coluna       | Descrição                                                |\n",
    "|--------------|----------------------------------------------------------|\n",
    "| Show_Id      | Identificador único de cada show na Netflix.            |\n",
    "| Category     | Categoria do show (por exemplo, filme, série de TV, etc.)|\n",
    "| Title        | Título do show.                                          |\n",
    "| Director     | Diretor do show (se aplicável).                          |\n",
    "| Cast         | Elenco do show.                                          |\n",
    "| Country      | País de origem do show.                                  |\n",
    "| Release_Date | Data de lançamento do show na Netflix.                   |\n",
    "| Rating       | Classificação etária do show.                            |\n",
    "| Duration     | Duração do show (por exemplo, número de temporadas para uma série de TV ou duração de um filme). |\n",
    "| Type         | Tipo do show (por exemplo, se é um filme ou uma série de TV). |\n",
    "| Description  | Descrição ou sinopse do show.     "
   ]
  },
  {
   "cell_type": "code",
   "execution_count": 10,
   "metadata": {},
   "outputs": [
    {
     "name": "stdout",
     "output_type": "stream",
     "text": [
      "<class 'pandas.core.frame.DataFrame'>\n",
      "RangeIndex: 7789 entries, 0 to 7788\n",
      "Data columns (total 11 columns):\n",
      " #   Column        Non-Null Count  Dtype \n",
      "---  ------        --------------  ----- \n",
      " 0   Show_Id       7789 non-null   object\n",
      " 1   Category      7789 non-null   object\n",
      " 2   Title         7789 non-null   object\n",
      " 3   Director      5401 non-null   object\n",
      " 4   Cast          7071 non-null   object\n",
      " 5   Country       7282 non-null   object\n",
      " 6   Release_Date  7779 non-null   object\n",
      " 7   Rating        7782 non-null   object\n",
      " 8   Duration      7789 non-null   object\n",
      " 9   Type          7789 non-null   object\n",
      " 10  Description   7789 non-null   object\n",
      "dtypes: object(11)\n",
      "memory usage: 669.5+ KB\n"
     ]
    }
   ],
   "source": [
    "# Fazendo as verificações no dataset\n",
    "df_netflix.info()"
   ]
  },
  {
   "cell_type": "code",
   "execution_count": 11,
   "metadata": {},
   "outputs": [
    {
     "data": {
      "text/html": [
       "<div>\n",
       "<style scoped>\n",
       "    .dataframe tbody tr th:only-of-type {\n",
       "        vertical-align: middle;\n",
       "    }\n",
       "\n",
       "    .dataframe tbody tr th {\n",
       "        vertical-align: top;\n",
       "    }\n",
       "\n",
       "    .dataframe thead th {\n",
       "        text-align: right;\n",
       "    }\n",
       "</style>\n",
       "<table border=\"1\" class=\"dataframe\">\n",
       "  <thead>\n",
       "    <tr style=\"text-align: right;\">\n",
       "      <th></th>\n",
       "      <th>count</th>\n",
       "      <th>unique</th>\n",
       "      <th>top</th>\n",
       "      <th>freq</th>\n",
       "    </tr>\n",
       "  </thead>\n",
       "  <tbody>\n",
       "    <tr>\n",
       "      <th>Show_Id</th>\n",
       "      <td>7789</td>\n",
       "      <td>7787</td>\n",
       "      <td>s6621</td>\n",
       "      <td>2</td>\n",
       "    </tr>\n",
       "    <tr>\n",
       "      <th>Category</th>\n",
       "      <td>7789</td>\n",
       "      <td>2</td>\n",
       "      <td>Movie</td>\n",
       "      <td>5379</td>\n",
       "    </tr>\n",
       "    <tr>\n",
       "      <th>Title</th>\n",
       "      <td>7789</td>\n",
       "      <td>7787</td>\n",
       "      <td>The Lost Okoroshi</td>\n",
       "      <td>2</td>\n",
       "    </tr>\n",
       "    <tr>\n",
       "      <th>Director</th>\n",
       "      <td>5401</td>\n",
       "      <td>4050</td>\n",
       "      <td>Raúl Campos, Jan Suter</td>\n",
       "      <td>18</td>\n",
       "    </tr>\n",
       "    <tr>\n",
       "      <th>Cast</th>\n",
       "      <td>7071</td>\n",
       "      <td>6831</td>\n",
       "      <td>David Attenborough</td>\n",
       "      <td>18</td>\n",
       "    </tr>\n",
       "    <tr>\n",
       "      <th>Country</th>\n",
       "      <td>7282</td>\n",
       "      <td>681</td>\n",
       "      <td>United States</td>\n",
       "      <td>2556</td>\n",
       "    </tr>\n",
       "    <tr>\n",
       "      <th>Release_Date</th>\n",
       "      <td>7779</td>\n",
       "      <td>1565</td>\n",
       "      <td>January 1, 2020</td>\n",
       "      <td>118</td>\n",
       "    </tr>\n",
       "    <tr>\n",
       "      <th>Rating</th>\n",
       "      <td>7782</td>\n",
       "      <td>14</td>\n",
       "      <td>TV-MA</td>\n",
       "      <td>2865</td>\n",
       "    </tr>\n",
       "    <tr>\n",
       "      <th>Duration</th>\n",
       "      <td>7789</td>\n",
       "      <td>216</td>\n",
       "      <td>1 Season</td>\n",
       "      <td>1608</td>\n",
       "    </tr>\n",
       "    <tr>\n",
       "      <th>Type</th>\n",
       "      <td>7789</td>\n",
       "      <td>492</td>\n",
       "      <td>Documentaries</td>\n",
       "      <td>334</td>\n",
       "    </tr>\n",
       "    <tr>\n",
       "      <th>Description</th>\n",
       "      <td>7789</td>\n",
       "      <td>7769</td>\n",
       "      <td>Multiple women report their husbands as missin...</td>\n",
       "      <td>3</td>\n",
       "    </tr>\n",
       "  </tbody>\n",
       "</table>\n",
       "</div>"
      ],
      "text/plain": [
       "             count unique                                                top  \\\n",
       "Show_Id       7789   7787                                              s6621   \n",
       "Category      7789      2                                              Movie   \n",
       "Title         7789   7787                                  The Lost Okoroshi   \n",
       "Director      5401   4050                             Raúl Campos, Jan Suter   \n",
       "Cast          7071   6831                                 David Attenborough   \n",
       "Country       7282    681                                      United States   \n",
       "Release_Date  7779   1565                                    January 1, 2020   \n",
       "Rating        7782     14                                              TV-MA   \n",
       "Duration      7789    216                                           1 Season   \n",
       "Type          7789    492                                      Documentaries   \n",
       "Description   7789   7769  Multiple women report their husbands as missin...   \n",
       "\n",
       "              freq  \n",
       "Show_Id          2  \n",
       "Category      5379  \n",
       "Title            2  \n",
       "Director        18  \n",
       "Cast            18  \n",
       "Country       2556  \n",
       "Release_Date   118  \n",
       "Rating        2865  \n",
       "Duration      1608  \n",
       "Type           334  \n",
       "Description      3  "
      ]
     },
     "execution_count": 11,
     "metadata": {},
     "output_type": "execute_result"
    }
   ],
   "source": [
    "df_netflix.describe().T"
   ]
  },
  {
   "cell_type": "code",
   "execution_count": 12,
   "metadata": {},
   "outputs": [
    {
     "name": "stdout",
     "output_type": "stream",
     "text": [
      "Quantidade de valor nulo por colunas\n"
     ]
    },
    {
     "data": {
      "text/plain": [
       "Show_Id            0\n",
       "Category           0\n",
       "Title              0\n",
       "Director        2388\n",
       "Cast             718\n",
       "Country          507\n",
       "Release_Date      10\n",
       "Rating             7\n",
       "Duration           0\n",
       "Type               0\n",
       "Description        0\n",
       "dtype: int64"
      ]
     },
     "execution_count": 12,
     "metadata": {},
     "output_type": "execute_result"
    }
   ],
   "source": [
    "print(\"Quantidade de valor nulo por colunas\")\n",
    "df_netflix.isnull().sum()"
   ]
  },
  {
   "cell_type": "markdown",
   "metadata": {},
   "source": [
    "Logo podemos ver que, existem valores que são duplicados e que nas colunas de \"Director\", \"Cast\", \"Country\", \"Release_Date\" e \"Rating\" possuimos valores duplicados."
   ]
  },
  {
   "cell_type": "code",
   "execution_count": 13,
   "metadata": {},
   "outputs": [
    {
     "name": "stdout",
     "output_type": "stream",
     "text": [
      "Valores duplicados por colunas\n"
     ]
    },
    {
     "data": {
      "text/plain": [
       "Show_Id            2\n",
       "Category        7787\n",
       "Title              2\n",
       "Director        3738\n",
       "Cast             957\n",
       "Country         7107\n",
       "Release_Date    6223\n",
       "Rating          7774\n",
       "Duration        7573\n",
       "Type            7297\n",
       "Description       20\n",
       "dtype: int64"
      ]
     },
     "execution_count": 13,
     "metadata": {},
     "output_type": "execute_result"
    }
   ],
   "source": [
    "# Verificando duplicações\n",
    "print(\"Valores duplicados por colunas\")\n",
    "df_netflix.apply(lambda x: x.duplicated().sum())"
   ]
  },
  {
   "cell_type": "code",
   "execution_count": 14,
   "metadata": {},
   "outputs": [
    {
     "data": {
      "text/plain": [
       "┌─────────┬──────────────┐\n",
       "│ Show_Id │ count_star() │\n",
       "│ varchar │    int64     │\n",
       "├─────────┼──────────────┤\n",
       "│ s684    │            2 │\n",
       "│ s6621   │            2 │\n",
       "└─────────┴──────────────┘"
      ]
     },
     "execution_count": 14,
     "metadata": {},
     "output_type": "execute_result"
    }
   ],
   "source": [
    "# Analisando a show_Id pelo sql\n",
    "db.sql(\"\"\" \n",
    "       SELECT \n",
    "            Show_Id, \n",
    "            COUNT(*) \n",
    "       FROM netflix \n",
    "       GROUP BY Show_ID \n",
    "       HAVING COUNT(*) > 1\"\"\")"
   ]
  },
  {
   "cell_type": "code",
   "execution_count": 15,
   "metadata": {},
   "outputs": [
    {
     "data": {
      "text/plain": [
       "┌─────────┬──────────┬──────────┬─────────────┬───┬─────────┬──────────┬──────────────────────┬──────────────────────┐\n",
       "│ Show_Id │ Category │  Title   │  Director   │ … │ Rating  │ Duration │         Type         │     Description      │\n",
       "│ varchar │ varchar  │ varchar  │   varchar   │   │ varchar │ varchar  │       varchar        │       varchar        │\n",
       "├─────────┼──────────┼──────────┼─────────────┼───┼─────────┼──────────┼──────────────────────┼──────────────────────┤\n",
       "│ s684    │ Movie    │ Backfire │ Dave Patten │ … │ TV-MA   │ 97 min   │ Dramas, Independen…  │ When two would-be …  │\n",
       "│ s684    │ Movie    │ Backfire │ Dave Patten │ … │ TV-MA   │ 97 min   │ Dramas, Independen…  │ When two would-be …  │\n",
       "├─────────┴──────────┴──────────┴─────────────┴───┴─────────┴──────────┴──────────────────────┴──────────────────────┤\n",
       "│ 2 rows                                                                                        11 columns (8 shown) │\n",
       "└────────────────────────────────────────────────────────────────────────────────────────────────────────────────────┘"
      ]
     },
     "execution_count": 15,
     "metadata": {},
     "output_type": "execute_result"
    }
   ],
   "source": [
    "db.sql(\"\"\"\n",
    "       SELECT \n",
    "            *\n",
    "        FROM netflix\n",
    "        WHERE Show_id = 's684'\n",
    "        \"\"\")"
   ]
  },
  {
   "cell_type": "code",
   "execution_count": 16,
   "metadata": {},
   "outputs": [
    {
     "data": {
      "text/plain": [
       "6300     s684\n",
       "6622    s6621\n",
       "Name: Show_Id, dtype: object"
      ]
     },
     "execution_count": 16,
     "metadata": {},
     "output_type": "execute_result"
    }
   ],
   "source": [
    "# Fazendo o mesmo código pelo pandas\n",
    "df_netflix[df_netflix['Show_Id'].duplicated()]['Show_Id']"
   ]
  },
  {
   "cell_type": "markdown",
   "metadata": {},
   "source": [
    "Fazendo o tratamento no banco para remover as duplicadas com mesmo id"
   ]
  },
  {
   "cell_type": "code",
   "execution_count": 17,
   "metadata": {},
   "outputs": [
    {
     "data": {
      "text/plain": [
       "┌─────────┬──────────┬──────────┬─────────────┬───┬─────────┬──────────┬──────────────────────┬──────────────────────┐\n",
       "│ Show_Id │ Category │  Title   │  Director   │ … │ Rating  │ Duration │         Type         │     Description      │\n",
       "│ varchar │ varchar  │ varchar  │   varchar   │   │ varchar │ varchar  │       varchar        │       varchar        │\n",
       "├─────────┼──────────┼──────────┼─────────────┼───┼─────────┼──────────┼──────────────────────┼──────────────────────┤\n",
       "│ s684    │ Movie    │ Backfire │ Dave Patten │ … │ TV-MA   │ 97 min   │ Dramas, Independen…  │ When two would-be …  │\n",
       "├─────────┴──────────┴──────────┴─────────────┴───┴─────────┴──────────┴──────────────────────┴──────────────────────┤\n",
       "│ 1 rows                                                                                        11 columns (8 shown) │\n",
       "└────────────────────────────────────────────────────────────────────────────────────────────────────────────────────┘"
      ]
     },
     "execution_count": 17,
     "metadata": {},
     "output_type": "execute_result"
    }
   ],
   "source": [
    "# Função do duckdb que retira as linhas duplicadas no select\n",
    "db.sql(\"\"\" \n",
    "        SELECT * FROM netflix\n",
    "        WHERE Show_id = 's684'\n",
    "        QUALIFY row_number() over (partition by Show_iD ) = 1\n",
    "        \"\"\")"
   ]
  },
  {
   "cell_type": "code",
   "execution_count": 18,
   "metadata": {},
   "outputs": [],
   "source": [
    "# Fazendo a substituição da tabela com a linha cima\n",
    "db.sql(\"\"\" \n",
    "       CREATE OR REPLACE TABLE netflix AS\n",
    "        (\n",
    "            SELECT * FROM netflix\n",
    "            QUALIFY row_number() over (partition by Show_iD ) = 1\n",
    "        )\n",
    "        \"\"\")"
   ]
  },
  {
   "cell_type": "code",
   "execution_count": 19,
   "metadata": {},
   "outputs": [
    {
     "data": {
      "text/plain": [
       "┌─────────┬──────────┬──────────┬─────────────┬───┬─────────┬──────────┬──────────────────────┬──────────────────────┐\n",
       "│ Show_Id │ Category │  Title   │  Director   │ … │ Rating  │ Duration │         Type         │     Description      │\n",
       "│ varchar │ varchar  │ varchar  │   varchar   │   │ varchar │ varchar  │       varchar        │       varchar        │\n",
       "├─────────┼──────────┼──────────┼─────────────┼───┼─────────┼──────────┼──────────────────────┼──────────────────────┤\n",
       "│ s684    │ Movie    │ Backfire │ Dave Patten │ … │ TV-MA   │ 97 min   │ Dramas, Independen…  │ When two would-be …  │\n",
       "├─────────┴──────────┴──────────┴─────────────┴───┴─────────┴──────────┴──────────────────────┴──────────────────────┤\n",
       "│ 1 rows                                                                                        11 columns (8 shown) │\n",
       "└────────────────────────────────────────────────────────────────────────────────────────────────────────────────────┘"
      ]
     },
     "execution_count": 19,
     "metadata": {},
     "output_type": "execute_result"
    }
   ],
   "source": [
    "# Verificando\n",
    "db.sql(\"\"\"\n",
    "       SELECT \n",
    "            *\n",
    "        FROM netflix\n",
    "        WHERE Show_id = 's684'\n",
    "        \"\"\")"
   ]
  },
  {
   "cell_type": "code",
   "execution_count": 20,
   "metadata": {},
   "outputs": [
    {
     "data": {
      "text/plain": [
       "┌──────────────────┐\n",
       "│ QuantidadeLinhas │\n",
       "│      int64       │\n",
       "├──────────────────┤\n",
       "│             7787 │\n",
       "└──────────────────┘"
      ]
     },
     "execution_count": 20,
     "metadata": {},
     "output_type": "execute_result"
    }
   ],
   "source": [
    "# Dando uma olhada na tabela\n",
    "db.sql(\"SELECT COUNT(*) AS QuantidadeLinhas FROM netflix\")"
   ]
  },
  {
   "attachments": {
    "image.png": {
     "image/png": "[encoded data removed]"
    }
   },
   "cell_type": "markdown",
   "metadata": {},
   "source": [
    "![image.png](attachment:image.png)\n",
    "\n",
    "Comparando com a quantidade anterior podemos verificar que a quantidade de linhas duplicadas foi removida com sucesso"
   ]
  },
  {
   "cell_type": "markdown",
   "metadata": {},
   "source": [
    "Outro ponto, vemos que o Release_Date mostra a data completa, sem formatação, como visto abaixo, logo vamos fazer uma formatação na tabela para uma melhor manipulação."
   ]
  },
  {
   "cell_type": "code",
   "execution_count": 21,
   "metadata": {},
   "outputs": [
    {
     "data": {
      "text/plain": [
       "┌─────────────────┬────────────┐\n",
       "│  Release_Date   │    Date    │\n",
       "│     varchar     │    date    │\n",
       "├─────────────────┼────────────┤\n",
       "│ January 8, 2021 │ 2021-01-08 │\n",
       "│ March 21, 2019  │ 2019-03-21 │\n",
       "│ June 15, 2019   │ 2019-06-15 │\n",
       "│ April 18, 2019  │ 2019-04-18 │\n",
       "│ April 8, 2020   │ 2020-04-08 │\n",
       "└─────────────────┴────────────┘"
      ]
     },
     "execution_count": 21,
     "metadata": {},
     "output_type": "execute_result"
    }
   ],
   "source": [
    "# Caso alguém tenha interesse em saber mais sobre formatação de data no duckdb:\n",
    "# https://duckdb.org/docs/sql/functions/dateformat.html\n",
    "\n",
    "db.sql(\"SELECT Release_Date, CAST(strptime(Release_Date, '%B %d, %Y') AS DATE) AS Date FROM netflix LIMIT 5\")"
   ]
  },
  {
   "cell_type": "code",
   "execution_count": 22,
   "metadata": {},
   "outputs": [],
   "source": [
    "# Alterando a coluna de data\n",
    "db.sql(\"\"\"\n",
    "       UPDATE netflix\n",
    "       SET Release_date = CAST(strptime(Release_Date, '%B %d, %Y') AS DATE);\n",
    "       ALTER TABLE netflix\n",
    "       ALTER Release_date TYPE DATE;\n",
    "       \"\"\")"
   ]
  },
  {
   "cell_type": "code",
   "execution_count": 23,
   "metadata": {},
   "outputs": [],
   "source": [
    "# Adicionando uma coluna de ano\n",
    "db.sql(\"\"\"\n",
    "       ALTER TABLE netflix\n",
    "       ADD COLUMN Year INTEGER;\n",
    "       UPDATE netflix\n",
    "       SET Year = Year(Release_Date);\n",
    "       \"\"\")"
   ]
  },
  {
   "cell_type": "code",
   "execution_count": 24,
   "metadata": {},
   "outputs": [
    {
     "data": {
      "text/plain": [
       "┌──────────────┬───────┐\n",
       "│ Release_Date │ Year  │\n",
       "│     date     │ int32 │\n",
       "├──────────────┼───────┤\n",
       "│ 2021-01-08   │  2021 │\n",
       "│ 2019-03-21   │  2019 │\n",
       "│ 2019-06-15   │  2019 │\n",
       "│ 2019-04-18   │  2019 │\n",
       "│ 2020-04-08   │  2020 │\n",
       "└──────────────┴───────┘"
      ]
     },
     "execution_count": 24,
     "metadata": {},
     "output_type": "execute_result"
    }
   ],
   "source": [
    "# Verificando se o ano entrou corretamente\n",
    "db.sql(\"SELECT Release_date, Year FROM netflix LIMIT 5\")"
   ]
  },
  {
   "cell_type": "markdown",
   "metadata": {},
   "source": [
    "## Respondendo algumas perguntas"
   ]
  },
  {
   "cell_type": "markdown",
   "metadata": {},
   "source": [
    "**Para 'House of Cards':** Qual é o ID do show e quem é o diretor deste programa?"
   ]
  },
  {
   "cell_type": "code",
   "execution_count": 25,
   "metadata": {},
   "outputs": [
    {
     "data": {
      "text/plain": [
       "┌─────────┬──────────┬────────────────┬──────────────────────┬───┬──────────────────────┬──────────────────────┬───────┐\n",
       "│ Show_Id │ Category │     Title      │       Director       │ … │         Type         │     Description      │ Year  │\n",
       "│ varchar │ varchar  │    varchar     │       varchar        │   │       varchar        │       varchar        │ int32 │\n",
       "├─────────┼──────────┼────────────────┼──────────────────────┼───┼──────────────────────┼──────────────────────┼───────┤\n",
       "│ s2833   │ TV Show  │ House of Cards │ Robin Wright, Davi…  │ … │ TV Dramas, TV Thri…  │ A ruthless politic…  │  2018 │\n",
       "├─────────┴──────────┴────────────────┴──────────────────────┴───┴──────────────────────┴──────────────────────┴───────┤\n",
       "│ 1 rows                                                                                          12 columns (7 shown) │\n",
       "└──────────────────────────────────────────────────────────────────────────────────────────────────────────────────────┘"
      ]
     },
     "execution_count": 25,
     "metadata": {},
     "output_type": "execute_result"
    }
   ],
   "source": [
    "db.sql(\"SELECT * FROM netflix WHERE Title = 'House of Cards'\")"
   ]
  },
  {
   "cell_type": "markdown",
   "metadata": {},
   "source": [
    "### Para 'House of Cards': Qual é o ID do show e quem é o diretor deste programa?"
   ]
  },
  {
   "cell_type": "code",
   "execution_count": 26,
   "metadata": {},
   "outputs": [
    {
     "name": "stdout",
     "output_type": "stream",
     "text": [
      "O seriado House of Cards, possui o ID s2833 e seus diretores são Robin Wright, David Fincher, Gerald McRaney, John David Coles, David Manson\n"
     ]
    }
   ],
   "source": [
    "result = db.sql(\"SELECT Show_Id, Title, Director FROM netflix WHERE Title = 'House of Cards'\").fetchall()[0]\n",
    "print(f'O seriado {result[1]}, possui o ID {result[0]} e seus diretores são {result[2]}')"
   ]
  },
  {
   "cell_type": "markdown",
   "metadata": {},
   "source": [
    "### Em que ano o maior número de filmes e séries foram lançados? Mostre com um gráfico de barras."
   ]
  },
  {
   "cell_type": "code",
   "execution_count": 27,
   "metadata": {},
   "outputs": [
    {
     "data": {
      "text/html": [
       "<div>\n",
       "<style scoped>\n",
       "    .dataframe tbody tr th:only-of-type {\n",
       "        vertical-align: middle;\n",
       "    }\n",
       "\n",
       "    .dataframe tbody tr th {\n",
       "        vertical-align: top;\n",
       "    }\n",
       "\n",
       "    .dataframe thead th {\n",
       "        text-align: right;\n",
       "    }\n",
       "</style>\n",
       "<table border=\"1\" class=\"dataframe\">\n",
       "  <thead>\n",
       "    <tr style=\"text-align: right;\">\n",
       "      <th></th>\n",
       "      <th>Year</th>\n",
       "      <th>Total</th>\n",
       "    </tr>\n",
       "  </thead>\n",
       "  <tbody>\n",
       "    <tr>\n",
       "      <th>0</th>\n",
       "      <td>2019.0</td>\n",
       "      <td>2153</td>\n",
       "    </tr>\n",
       "    <tr>\n",
       "      <th>1</th>\n",
       "      <td>2020.0</td>\n",
       "      <td>2009</td>\n",
       "    </tr>\n",
       "    <tr>\n",
       "      <th>2</th>\n",
       "      <td>2018.0</td>\n",
       "      <td>1685</td>\n",
       "    </tr>\n",
       "    <tr>\n",
       "      <th>3</th>\n",
       "      <td>2017.0</td>\n",
       "      <td>1225</td>\n",
       "    </tr>\n",
       "    <tr>\n",
       "      <th>4</th>\n",
       "      <td>2016.0</td>\n",
       "      <td>443</td>\n",
       "    </tr>\n",
       "    <tr>\n",
       "      <th>5</th>\n",
       "      <td>2021.0</td>\n",
       "      <td>117</td>\n",
       "    </tr>\n",
       "    <tr>\n",
       "      <th>6</th>\n",
       "      <td>2015.0</td>\n",
       "      <td>88</td>\n",
       "    </tr>\n",
       "    <tr>\n",
       "      <th>7</th>\n",
       "      <td>2014.0</td>\n",
       "      <td>25</td>\n",
       "    </tr>\n",
       "    <tr>\n",
       "      <th>8</th>\n",
       "      <td>2011.0</td>\n",
       "      <td>13</td>\n",
       "    </tr>\n",
       "    <tr>\n",
       "      <th>9</th>\n",
       "      <td>2013.0</td>\n",
       "      <td>11</td>\n",
       "    </tr>\n",
       "    <tr>\n",
       "      <th>10</th>\n",
       "      <td>NaN</td>\n",
       "      <td>10</td>\n",
       "    </tr>\n",
       "    <tr>\n",
       "      <th>11</th>\n",
       "      <td>2012.0</td>\n",
       "      <td>3</td>\n",
       "    </tr>\n",
       "    <tr>\n",
       "      <th>12</th>\n",
       "      <td>2008.0</td>\n",
       "      <td>2</td>\n",
       "    </tr>\n",
       "    <tr>\n",
       "      <th>13</th>\n",
       "      <td>2009.0</td>\n",
       "      <td>2</td>\n",
       "    </tr>\n",
       "    <tr>\n",
       "      <th>14</th>\n",
       "      <td>2010.0</td>\n",
       "      <td>1</td>\n",
       "    </tr>\n",
       "  </tbody>\n",
       "</table>\n",
       "</div>"
      ],
      "text/plain": [
       "      Year  Total\n",
       "0   2019.0   2153\n",
       "1   2020.0   2009\n",
       "2   2018.0   1685\n",
       "3   2017.0   1225\n",
       "4   2016.0    443\n",
       "5   2021.0    117\n",
       "6   2015.0     88\n",
       "7   2014.0     25\n",
       "8   2011.0     13\n",
       "9   2013.0     11\n",
       "10     NaN     10\n",
       "11  2012.0      3\n",
       "12  2008.0      2\n",
       "13  2009.0      2\n",
       "14  2010.0      1"
      ]
     },
     "execution_count": 27,
     "metadata": {},
     "output_type": "execute_result"
    }
   ],
   "source": [
    "year_df = db.sql(\"\"\"\n",
    "            SELECT \n",
    "                Year, \n",
    "                COUNT(*) AS Total \n",
    "            FROM netflix\n",
    "            GROUP BY Year\n",
    "            ORDER BY COUNT(*) DESC;\"\"\").df()\n",
    "year_df"
   ]
  },
  {
   "cell_type": "code",
   "execution_count": 28,
   "metadata": {},
   "outputs": [
    {
     "data": {
      "application/vnd.plotly.v1+json": {
       "config": {
        "plotlyServerURL": "https://plot.ly"
       },
       "data": [
        {
         "alignmentgroup": "True",
         "hovertemplate": "Year=%{x}<br>Total=%{y}<extra></extra>",
         "legendgroup": "",
         "marker": {
          "color": "#636efa",
          "pattern": {
           "shape": ""
          }
         },
         "name": "",
         "offsetgroup": "",
         "orientation": "v",
         "showlegend": false,
         "textposition": "auto",
         "texttemplate": "%{y}",
         "type": "bar",
         "x": [
          2019,
          2020,
          2018,
          2017,
          2016,
          2021,
          2015,
          2014,
          2011,
          2013,
          null,
          2012,
          2008,
          2009,
          2010
         ],
         "xaxis": "x",
         "y": [
          2153,
          2009,
          1685,
          1225,
          443,
          117,
          88,
          25,
          13,
          11,
          10,
          3,
          2,
          2,
          1
         ],
         "yaxis": "y"
        }
       ],
       "layout": {
        "barmode": "relative",
        "legend": {
         "tracegroupgap": 0
        },
        "margin": {
         "t": 60
        },
        "template": {
         "data": {
          "bar": [
           {
            "error_x": {
             "color": "#2a3f5f"
            },
            "error_y": {
             "color": "#2a3f5f"
            },
            "marker": {
             "line": {
              "color": "#E5ECF6",
              "width": 0.5
             },
             "pattern": {
              "fillmode": "overlay",
              "size": 10,
              "solidity": 0.2
             }
            },
            "type": "bar"
           }
          ],
          "barpolar": [
           {
            "marker": {
             "line": {
              "color": "#E5ECF6",
              "width": 0.5
             },
             "pattern": {
              "fillmode": "overlay",
              "size": 10,
              "solidity": 0.2
             }
            },
            "type": "barpolar"
           }
          ],
          "carpet": [
           {
            "aaxis": {
             "endlinecolor": "#2a3f5f",
             "gridcolor": "white",
             "linecolor": "white",
             "minorgridcolor": "white",
             "startlinecolor": "#2a3f5f"
            },
            "baxis": {
             "endlinecolor": "#2a3f5f",
             "gridcolor": "white",
             "linecolor": "white",
             "minorgridcolor": "white",
             "startlinecolor": "#2a3f5f"
            },
            "type": "carpet"
           }
          ],
          "choropleth": [
           {
            "colorbar": {
             "outlinewidth": 0,
             "ticks": ""
            },
            "type": "choropleth"
           }
          ],
          "contour": [
           {
            "colorbar": {
             "outlinewidth": 0,
             "ticks": ""
            },
            "colorscale": [
             [
              0,
              "#0d0887"
             ],
             [
              0.1111111111111111,
              "#46039f"
             ],
             [
              0.2222222222222222,
              "#7201a8"
             ],
             [
              0.3333333333333333,
              "#9c179e"
             ],
             [
              0.4444444444444444,
              "#bd3786"
             ],
             [
              0.5555555555555556,
              "#d8576b"
             ],
             [
              0.6666666666666666,
              "#ed7953"
             ],
             [
              0.7777777777777778,
              "#fb9f3a"
             ],
             [
              0.8888888888888888,
              "#fdca26"
             ],
             [
              1,
              "#f0f921"
             ]
            ],
            "type": "contour"
           }
          ],
          "contourcarpet": [
           {
            "colorbar": {
             "outlinewidth": 0,
             "ticks": ""
            },
            "type": "contourcarpet"
           }
          ],
          "heatmap": [
           {
            "colorbar": {
             "outlinewidth": 0,
             "ticks": ""
            },
            "colorscale": [
             [
              0,
              "#0d0887"
             ],
             [
              0.1111111111111111,
              "#46039f"
             ],
             [
              0.2222222222222222,
              "#7201a8"
             ],
             [
              0.3333333333333333,
              "#9c179e"
             ],
             [
              0.4444444444444444,
              "#bd3786"
             ],
             [
              0.5555555555555556,
              "#d8576b"
             ],
             [
              0.6666666666666666,
              "#ed7953"
             ],
             [
              0.7777777777777778,
              "#fb9f3a"
             ],
             [
              0.8888888888888888,
              "#fdca26"
             ],
             [
              1,
              "#f0f921"
             ]
            ],
            "type": "heatmap"
           }
          ],
          "heatmapgl": [
           {
            "colorbar": {
             "outlinewidth": 0,
             "ticks": ""
            },
            "colorscale": [
             [
              0,
              "#0d0887"
             ],
             [
              0.1111111111111111,
              "#46039f"
             ],
             [
              0.2222222222222222,
              "#7201a8"
             ],
             [
              0.3333333333333333,
              "#9c179e"
             ],
             [
              0.4444444444444444,
              "#bd3786"
             ],
             [
              0.5555555555555556,
              "#d8576b"
             ],
             [
              0.6666666666666666,
              "#ed7953"
             ],
             [
              0.7777777777777778,
              "#fb9f3a"
             ],
             [
              0.8888888888888888,
              "#fdca26"
             ],
             [
              1,
              "#f0f921"
             ]
            ],
            "type": "heatmapgl"
           }
          ],
          "histogram": [
           {
            "marker": {
             "pattern": {
              "fillmode": "overlay",
              "size": 10,
              "solidity": 0.2
             }
            },
            "type": "histogram"
           }
          ],
          "histogram2d": [
           {
            "colorbar": {
             "outlinewidth": 0,
             "ticks": ""
            },
            "colorscale": [
             [
              0,
              "#0d0887"
             ],
             [
              0.1111111111111111,
              "#46039f"
             ],
             [
              0.2222222222222222,
              "#7201a8"
             ],
             [
              0.3333333333333333,
              "#9c179e"
             ],
             [
              0.4444444444444444,
              "#bd3786"
             ],
             [
              0.5555555555555556,
              "#d8576b"
             ],
             [
              0.6666666666666666,
              "#ed7953"
             ],
             [
              0.7777777777777778,
              "#fb9f3a"
             ],
             [
              0.8888888888888888,
              "#fdca26"
             ],
             [
              1,
              "#f0f921"
             ]
            ],
            "type": "histogram2d"
           }
          ],
          "histogram2dcontour": [
           {
            "colorbar": {
             "outlinewidth": 0,
             "ticks": ""
            },
            "colorscale": [
             [
              0,
              "#0d0887"
             ],
             [
              0.1111111111111111,
              "#46039f"
             ],
             [
              0.2222222222222222,
              "#7201a8"
             ],
             [
              0.3333333333333333,
              "#9c179e"
             ],
             [
              0.4444444444444444,
              "#bd3786"
             ],
             [
              0.5555555555555556,
              "#d8576b"
             ],
             [
              0.6666666666666666,
              "#ed7953"
             ],
             [
              0.7777777777777778,
              "#fb9f3a"
             ],
             [
              0.8888888888888888,
              "#fdca26"
             ],
             [
              1,
              "#f0f921"
             ]
            ],
            "type": "histogram2dcontour"
           }
          ],
          "mesh3d": [
           {
            "colorbar": {
             "outlinewidth": 0,
             "ticks": ""
            },
            "type": "mesh3d"
           }
          ],
          "parcoords": [
           {
            "line": {
             "colorbar": {
              "outlinewidth": 0,
              "ticks": ""
             }
            },
            "type": "parcoords"
           }
          ],
          "pie": [
           {
            "automargin": true,
            "type": "pie"
           }
          ],
          "scatter": [
           {
            "fillpattern": {
             "fillmode": "overlay",
             "size": 10,
             "solidity": 0.2
            },
            "type": "scatter"
           }
          ],
          "scatter3d": [
           {
            "line": {
             "colorbar": {
              "outlinewidth": 0,
              "ticks": ""
             }
            },
            "marker": {
             "colorbar": {
              "outlinewidth": 0,
              "ticks": ""
             }
            },
            "type": "scatter3d"
           }
          ],
          "scattercarpet": [
           {
            "marker": {
             "colorbar": {
              "outlinewidth": 0,
              "ticks": ""
             }
            },
            "type": "scattercarpet"
           }
          ],
          "scattergeo": [
           {
            "marker": {
             "colorbar": {
              "outlinewidth": 0,
              "ticks": ""
             }
            },
            "type": "scattergeo"
           }
          ],
          "scattergl": [
           {
            "marker": {
             "colorbar": {
              "outlinewidth": 0,
              "ticks": ""
             }
            },
            "type": "scattergl"
           }
          ],
          "scattermapbox": [
           {
            "marker": {
             "colorbar": {
              "outlinewidth": 0,
              "ticks": ""
             }
            },
            "type": "scattermapbox"
           }
          ],
          "scatterpolar": [
           {
            "marker": {
             "colorbar": {
              "outlinewidth": 0,
              "ticks": ""
             }
            },
            "type": "scatterpolar"
           }
          ],
          "scatterpolargl": [
           {
            "marker": {
             "colorbar": {
              "outlinewidth": 0,
              "ticks": ""
             }
            },
            "type": "scatterpolargl"
           }
          ],
          "scatterternary": [
           {
            "marker": {
             "colorbar": {
              "outlinewidth": 0,
              "ticks": ""
             }
            },
            "type": "scatterternary"
           }
          ],
          "surface": [
           {
            "colorbar": {
             "outlinewidth": 0,
             "ticks": ""
            },
            "colorscale": [
             [
              0,
              "#0d0887"
             ],
             [
              0.1111111111111111,
              "#46039f"
             ],
             [
              0.2222222222222222,
              "#7201a8"
             ],
             [
              0.3333333333333333,
              "#9c179e"
             ],
             [
              0.4444444444444444,
              "#bd3786"
             ],
             [
              0.5555555555555556,
              "#d8576b"
             ],
             [
              0.6666666666666666,
              "#ed7953"
             ],
             [
              0.7777777777777778,
              "#fb9f3a"
             ],
             [
              0.8888888888888888,
              "#fdca26"
             ],
             [
              1,
              "#f0f921"
             ]
            ],
            "type": "surface"
           }
          ],
          "table": [
           {
            "cells": {
             "fill": {
              "color": "#EBF0F8"
             },
             "line": {
              "color": "white"
             }
            },
            "header": {
             "fill": {
              "color": "#C8D4E3"
             },
             "line": {
              "color": "white"
             }
            },
            "type": "table"
           }
          ]
         },
         "layout": {
          "annotationdefaults": {
           "arrowcolor": "#2a3f5f",
           "arrowhead": 0,
           "arrowwidth": 1
          },
          "autotypenumbers": "strict",
          "coloraxis": {
           "colorbar": {
            "outlinewidth": 0,
            "ticks": ""
           }
          },
          "colorscale": {
           "diverging": [
            [
             0,
             "#8e0152"
            ],
            [
             0.1,
             "#c51b7d"
            ],
            [
             0.2,
             "#de77ae"
            ],
            [
             0.3,
             "#f1b6da"
            ],
            [
             0.4,
             "#fde0ef"
            ],
            [
             0.5,
             "#f7f7f7"
            ],
            [
             0.6,
             "#e6f5d0"
            ],
            [
             0.7,
             "#b8e186"
            ],
            [
             0.8,
             "#7fbc41"
            ],
            [
             0.9,
             "#4d9221"
            ],
            [
             1,
             "#276419"
            ]
           ],
           "sequential": [
            [
             0,
             "#0d0887"
            ],
            [
             0.1111111111111111,
             "#46039f"
            ],
            [
             0.2222222222222222,
             "#7201a8"
            ],
            [
             0.3333333333333333,
             "#9c179e"
            ],
            [
             0.4444444444444444,
             "#bd3786"
            ],
            [
             0.5555555555555556,
             "#d8576b"
            ],
            [
             0.6666666666666666,
             "#ed7953"
            ],
            [
             0.7777777777777778,
             "#fb9f3a"
            ],
            [
             0.8888888888888888,
             "#fdca26"
            ],
            [
             1,
             "#f0f921"
            ]
           ],
           "sequentialminus": [
            [
             0,
             "#0d0887"
            ],
            [
             0.1111111111111111,
             "#46039f"
            ],
            [
             0.2222222222222222,
             "#7201a8"
            ],
            [
             0.3333333333333333,
             "#9c179e"
            ],
            [
             0.4444444444444444,
             "#bd3786"
            ],
            [
             0.5555555555555556,
             "#d8576b"
            ],
            [
             0.6666666666666666,
             "#ed7953"
            ],
            [
             0.7777777777777778,
             "#fb9f3a"
            ],
            [
             0.8888888888888888,
             "#fdca26"
            ],
            [
             1,
             "#f0f921"
            ]
           ]
          },
          "colorway": [
           "#636efa",
           "#EF553B",
           "#00cc96",
           "#ab63fa",
           "#FFA15A",
           "#19d3f3",
           "#FF6692",
           "#B6E880",
           "#FF97FF",
           "#FECB52"
          ],
          "font": {
           "color": "#2a3f5f"
          },
          "geo": {
           "bgcolor": "white",
           "lakecolor": "white",
           "landcolor": "#E5ECF6",
           "showlakes": true,
           "showland": true,
           "subunitcolor": "white"
          },
          "hoverlabel": {
           "align": "left"
          },
          "hovermode": "closest",
          "mapbox": {
           "style": "light"
          },
          "paper_bgcolor": "white",
          "plot_bgcolor": "#E5ECF6",
          "polar": {
           "angularaxis": {
            "gridcolor": "white",
            "linecolor": "white",
            "ticks": ""
           },
           "bgcolor": "#E5ECF6",
           "radialaxis": {
            "gridcolor": "white",
            "linecolor": "white",
            "ticks": ""
           }
          },
          "scene": {
           "xaxis": {
            "backgroundcolor": "#E5ECF6",
            "gridcolor": "white",
            "gridwidth": 2,
            "linecolor": "white",
            "showbackground": true,
            "ticks": "",
            "zerolinecolor": "white"
           },
           "yaxis": {
            "backgroundcolor": "#E5ECF6",
            "gridcolor": "white",
            "gridwidth": 2,
            "linecolor": "white",
            "showbackground": true,
            "ticks": "",
            "zerolinecolor": "white"
           },
           "zaxis": {
            "backgroundcolor": "#E5ECF6",
            "gridcolor": "white",
            "gridwidth": 2,
            "linecolor": "white",
            "showbackground": true,
            "ticks": "",
            "zerolinecolor": "white"
           }
          },
          "shapedefaults": {
           "line": {
            "color": "#2a3f5f"
           }
          },
          "ternary": {
           "aaxis": {
            "gridcolor": "white",
            "linecolor": "white",
            "ticks": ""
           },
           "baxis": {
            "gridcolor": "white",
            "linecolor": "white",
            "ticks": ""
           },
           "bgcolor": "#E5ECF6",
           "caxis": {
            "gridcolor": "white",
            "linecolor": "white",
            "ticks": ""
           }
          },
          "title": {
           "x": 0.05
          },
          "xaxis": {
           "automargin": true,
           "gridcolor": "white",
           "linecolor": "white",
           "ticks": "",
           "title": {
            "standoff": 15
           },
           "zerolinecolor": "white",
           "zerolinewidth": 2
          },
          "yaxis": {
           "automargin": true,
           "gridcolor": "white",
           "linecolor": "white",
           "ticks": "",
           "title": {
            "standoff": 15
           },
           "zerolinecolor": "white",
           "zerolinewidth": 2
          }
         }
        },
        "xaxis": {
         "anchor": "y",
         "domain": [
          0,
          1
         ],
         "title": {
          "text": "Year"
         }
        },
        "yaxis": {
         "anchor": "x",
         "domain": [
          0,
          1
         ],
         "title": {
          "text": "Total"
         }
        }
       }
      }
     },
     "metadata": {},
     "output_type": "display_data"
    }
   ],
   "source": [
    "fig = px.bar(year_df, x='Year', y='Total', text_auto=True)\n",
    "fig.show()"
   ]
  },
  {
   "cell_type": "markdown",
   "metadata": {},
   "source": [
    "Logo, vemos que o ano de 2019 foi o que teve a maior quantidade de conteúdo lançado"
   ]
  },
  {
   "cell_type": "markdown",
   "metadata": {},
   "source": [
    "Mostrando também como um gráfico de linhas"
   ]
  },
  {
   "cell_type": "code",
   "execution_count": 29,
   "metadata": {},
   "outputs": [
    {
     "data": {
      "application/vnd.plotly.v1+json": {
       "config": {
        "plotlyServerURL": "https://plot.ly"
       },
       "data": [
        {
         "hovertemplate": "Year=%{x}<br>Total=%{y}<extra></extra>",
         "legendgroup": "",
         "line": {
          "color": "#636efa",
          "dash": "solid"
         },
         "marker": {
          "symbol": "circle"
         },
         "mode": "lines",
         "name": "",
         "orientation": "v",
         "showlegend": false,
         "type": "scatter",
         "x": [
          2008,
          2009,
          2010,
          2011,
          2012,
          2013,
          2014,
          2015,
          2016,
          2017,
          2018,
          2019,
          2020,
          2021,
          null
         ],
         "xaxis": "x",
         "y": [
          2,
          2,
          1,
          13,
          3,
          11,
          25,
          88,
          443,
          1225,
          1685,
          2153,
          2009,
          117,
          10
         ],
         "yaxis": "y"
        }
       ],
       "layout": {
        "legend": {
         "tracegroupgap": 0
        },
        "margin": {
         "t": 60
        },
        "template": {
         "data": {
          "bar": [
           {
            "error_x": {
             "color": "#2a3f5f"
            },
            "error_y": {
             "color": "#2a3f5f"
            },
            "marker": {
             "line": {
              "color": "#E5ECF6",
              "width": 0.5
             },
             "pattern": {
              "fillmode": "overlay",
              "size": 10,
              "solidity": 0.2
             }
            },
            "type": "bar"
           }
          ],
          "barpolar": [
           {
            "marker": {
             "line": {
              "color": "#E5ECF6",
              "width": 0.5
             },
             "pattern": {
              "fillmode": "overlay",
              "size": 10,
              "solidity": 0.2
             }
            },
            "type": "barpolar"
           }
          ],
          "carpet": [
           {
            "aaxis": {
             "endlinecolor": "#2a3f5f",
             "gridcolor": "white",
             "linecolor": "white",
             "minorgridcolor": "white",
             "startlinecolor": "#2a3f5f"
            },
            "baxis": {
             "endlinecolor": "#2a3f5f",
             "gridcolor": "white",
             "linecolor": "white",
             "minorgridcolor": "white",
             "startlinecolor": "#2a3f5f"
            },
            "type": "carpet"
           }
          ],
          "choropleth": [
           {
            "colorbar": {
             "outlinewidth": 0,
             "ticks": ""
            },
            "type": "choropleth"
           }
          ],
          "contour": [
           {
            "colorbar": {
             "outlinewidth": 0,
             "ticks": ""
            },
            "colorscale": [
             [
              0,
              "#0d0887"
             ],
             [
              0.1111111111111111,
              "#46039f"
             ],
             [
              0.2222222222222222,
              "#7201a8"
             ],
             [
              0.3333333333333333,
              "#9c179e"
             ],
             [
              0.4444444444444444,
              "#bd3786"
             ],
             [
              0.5555555555555556,
              "#d8576b"
             ],
             [
              0.6666666666666666,
              "#ed7953"
             ],
             [
              0.7777777777777778,
              "#fb9f3a"
             ],
             [
              0.8888888888888888,
              "#fdca26"
             ],
             [
              1,
              "#f0f921"
             ]
            ],
            "type": "contour"
           }
          ],
          "contourcarpet": [
           {
            "colorbar": {
             "outlinewidth": 0,
             "ticks": ""
            },
            "type": "contourcarpet"
           }
          ],
          "heatmap": [
           {
            "colorbar": {
             "outlinewidth": 0,
             "ticks": ""
            },
            "colorscale": [
             [
              0,
              "#0d0887"
             ],
             [
              0.1111111111111111,
              "#46039f"
             ],
             [
              0.2222222222222222,
              "#7201a8"
             ],
             [
              0.3333333333333333,
              "#9c179e"
             ],
             [
              0.4444444444444444,
              "#bd3786"
             ],
             [
              0.5555555555555556,
              "#d8576b"
             ],
             [
              0.6666666666666666,
              "#ed7953"
             ],
             [
              0.7777777777777778,
              "#fb9f3a"
             ],
             [
              0.8888888888888888,
              "#fdca26"
             ],
             [
              1,
              "#f0f921"
             ]
            ],
            "type": "heatmap"
           }
          ],
          "heatmapgl": [
           {
            "colorbar": {
             "outlinewidth": 0,
             "ticks": ""
            },
            "colorscale": [
             [
              0,
              "#0d0887"
             ],
             [
              0.1111111111111111,
              "#46039f"
             ],
             [
              0.2222222222222222,
              "#7201a8"
             ],
             [
              0.3333333333333333,
              "#9c179e"
             ],
             [
              0.4444444444444444,
              "#bd3786"
             ],
             [
              0.5555555555555556,
              "#d8576b"
             ],
             [
              0.6666666666666666,
              "#ed7953"
             ],
             [
              0.7777777777777778,
              "#fb9f3a"
             ],
             [
              0.8888888888888888,
              "#fdca26"
             ],
             [
              1,
              "#f0f921"
             ]
            ],
            "type": "heatmapgl"
           }
          ],
          "histogram": [
           {
            "marker": {
             "pattern": {
              "fillmode": "overlay",
              "size": 10,
              "solidity": 0.2
             }
            },
            "type": "histogram"
           }
          ],
          "histogram2d": [
           {
            "colorbar": {
             "outlinewidth": 0,
             "ticks": ""
            },
            "colorscale": [
             [
              0,
              "#0d0887"
             ],
             [
              0.1111111111111111,
              "#46039f"
             ],
             [
              0.2222222222222222,
              "#7201a8"
             ],
             [
              0.3333333333333333,
              "#9c179e"
             ],
             [
              0.4444444444444444,
              "#bd3786"
             ],
             [
              0.5555555555555556,
              "#d8576b"
             ],
             [
              0.6666666666666666,
              "#ed7953"
             ],
             [
              0.7777777777777778,
              "#fb9f3a"
             ],
             [
              0.8888888888888888,
              "#fdca26"
             ],
             [
              1,
              "#f0f921"
             ]
            ],
            "type": "histogram2d"
           }
          ],
          "histogram2dcontour": [
           {
            "colorbar": {
             "outlinewidth": 0,
             "ticks": ""
            },
            "colorscale": [
             [
              0,
              "#0d0887"
             ],
             [
              0.1111111111111111,
              "#46039f"
             ],
             [
              0.2222222222222222,
              "#7201a8"
             ],
             [
              0.3333333333333333,
              "#9c179e"
             ],
             [
              0.4444444444444444,
              "#bd3786"
             ],
             [
              0.5555555555555556,
              "#d8576b"
             ],
             [
              0.6666666666666666,
              "#ed7953"
             ],
             [
              0.7777777777777778,
              "#fb9f3a"
             ],
             [
              0.8888888888888888,
              "#fdca26"
             ],
             [
              1,
              "#f0f921"
             ]
            ],
            "type": "histogram2dcontour"
           }
          ],
          "mesh3d": [
           {
            "colorbar": {
             "outlinewidth": 0,
             "ticks": ""
            },
            "type": "mesh3d"
           }
          ],
          "parcoords": [
           {
            "line": {
             "colorbar": {
              "outlinewidth": 0,
              "ticks": ""
             }
            },
            "type": "parcoords"
           }
          ],
          "pie": [
           {
            "automargin": true,
            "type": "pie"
           }
          ],
          "scatter": [
           {
            "fillpattern": {
             "fillmode": "overlay",
             "size": 10,
             "solidity": 0.2
            },
            "type": "scatter"
           }
          ],
          "scatter3d": [
           {
            "line": {
             "colorbar": {
              "outlinewidth": 0,
              "ticks": ""
             }
            },
            "marker": {
             "colorbar": {
              "outlinewidth": 0,
              "ticks": ""
             }
            },
            "type": "scatter3d"
           }
          ],
          "scattercarpet": [
           {
            "marker": {
             "colorbar": {
              "outlinewidth": 0,
              "ticks": ""
             }
            },
            "type": "scattercarpet"
           }
          ],
          "scattergeo": [
           {
            "marker": {
             "colorbar": {
              "outlinewidth": 0,
              "ticks": ""
             }
            },
            "type": "scattergeo"
           }
          ],
          "scattergl": [
           {
            "marker": {
             "colorbar": {
              "outlinewidth": 0,
              "ticks": ""
             }
            },
            "type": "scattergl"
           }
          ],
          "scattermapbox": [
           {
            "marker": {
             "colorbar": {
              "outlinewidth": 0,
              "ticks": ""
             }
            },
            "type": "scattermapbox"
           }
          ],
          "scatterpolar": [
           {
            "marker": {
             "colorbar": {
              "outlinewidth": 0,
              "ticks": ""
             }
            },
            "type": "scatterpolar"
           }
          ],
          "scatterpolargl": [
           {
            "marker": {
             "colorbar": {
              "outlinewidth": 0,
              "ticks": ""
             }
            },
            "type": "scatterpolargl"
           }
          ],
          "scatterternary": [
           {
            "marker": {
             "colorbar": {
              "outlinewidth": 0,
              "ticks": ""
             }
            },
            "type": "scatterternary"
           }
          ],
          "surface": [
           {
            "colorbar": {
             "outlinewidth": 0,
             "ticks": ""
            },
            "colorscale": [
             [
              0,
              "#0d0887"
             ],
             [
              0.1111111111111111,
              "#46039f"
             ],
             [
              0.2222222222222222,
              "#7201a8"
             ],
             [
              0.3333333333333333,
              "#9c179e"
             ],
             [
              0.4444444444444444,
              "#bd3786"
             ],
             [
              0.5555555555555556,
              "#d8576b"
             ],
             [
              0.6666666666666666,
              "#ed7953"
             ],
             [
              0.7777777777777778,
              "#fb9f3a"
             ],
             [
              0.8888888888888888,
              "#fdca26"
             ],
             [
              1,
              "#f0f921"
             ]
            ],
            "type": "surface"
           }
          ],
          "table": [
           {
            "cells": {
             "fill": {
              "color": "#EBF0F8"
             },
             "line": {
              "color": "white"
             }
            },
            "header": {
             "fill": {
              "color": "#C8D4E3"
             },
             "line": {
              "color": "white"
             }
            },
            "type": "table"
           }
          ]
         },
         "layout": {
          "annotationdefaults": {
           "arrowcolor": "#2a3f5f",
           "arrowhead": 0,
           "arrowwidth": 1
          },
          "autotypenumbers": "strict",
          "coloraxis": {
           "colorbar": {
            "outlinewidth": 0,
            "ticks": ""
           }
          },
          "colorscale": {
           "diverging": [
            [
             0,
             "#8e0152"
            ],
            [
             0.1,
             "#c51b7d"
            ],
            [
             0.2,
             "#de77ae"
            ],
            [
             0.3,
             "#f1b6da"
            ],
            [
             0.4,
             "#fde0ef"
            ],
            [
             0.5,
             "#f7f7f7"
            ],
            [
             0.6,
             "#e6f5d0"
            ],
            [
             0.7,
             "#b8e186"
            ],
            [
             0.8,
             "#7fbc41"
            ],
            [
             0.9,
             "#4d9221"
            ],
            [
             1,
             "#276419"
            ]
           ],
           "sequential": [
            [
             0,
             "#0d0887"
            ],
            [
             0.1111111111111111,
             "#46039f"
            ],
            [
             0.2222222222222222,
             "#7201a8"
            ],
            [
             0.3333333333333333,
             "#9c179e"
            ],
            [
             0.4444444444444444,
             "#bd3786"
            ],
            [
             0.5555555555555556,
             "#d8576b"
            ],
            [
             0.6666666666666666,
             "#ed7953"
            ],
            [
             0.7777777777777778,
             "#fb9f3a"
            ],
            [
             0.8888888888888888,
             "#fdca26"
            ],
            [
             1,
             "#f0f921"
            ]
           ],
           "sequentialminus": [
            [
             0,
             "#0d0887"
            ],
            [
             0.1111111111111111,
             "#46039f"
            ],
            [
             0.2222222222222222,
             "#7201a8"
            ],
            [
             0.3333333333333333,
             "#9c179e"
            ],
            [
             0.4444444444444444,
             "#bd3786"
            ],
            [
             0.5555555555555556,
             "#d8576b"
            ],
            [
             0.6666666666666666,
             "#ed7953"
            ],
            [
             0.7777777777777778,
             "#fb9f3a"
            ],
            [
             0.8888888888888888,
             "#fdca26"
            ],
            [
             1,
             "#f0f921"
            ]
           ]
          },
          "colorway": [
           "#636efa",
           "#EF553B",
           "#00cc96",
           "#ab63fa",
           "#FFA15A",
           "#19d3f3",
           "#FF6692",
           "#B6E880",
           "#FF97FF",
           "#FECB52"
          ],
          "font": {
           "color": "#2a3f5f"
          },
          "geo": {
           "bgcolor": "white",
           "lakecolor": "white",
           "landcolor": "#E5ECF6",
           "showlakes": true,
           "showland": true,
           "subunitcolor": "white"
          },
          "hoverlabel": {
           "align": "left"
          },
          "hovermode": "closest",
          "mapbox": {
           "style": "light"
          },
          "paper_bgcolor": "white",
          "plot_bgcolor": "#E5ECF6",
          "polar": {
           "angularaxis": {
            "gridcolor": "white",
            "linecolor": "white",
            "ticks": ""
           },
           "bgcolor": "#E5ECF6",
           "radialaxis": {
            "gridcolor": "white",
            "linecolor": "white",
            "ticks": ""
           }
          },
          "scene": {
           "xaxis": {
            "backgroundcolor": "#E5ECF6",
            "gridcolor": "white",
            "gridwidth": 2,
            "linecolor": "white",
            "showbackground": true,
            "ticks": "",
            "zerolinecolor": "white"
           },
           "yaxis": {
            "backgroundcolor": "#E5ECF6",
            "gridcolor": "white",
            "gridwidth": 2,
            "linecolor": "white",
            "showbackground": true,
            "ticks": "",
            "zerolinecolor": "white"
           },
           "zaxis": {
            "backgroundcolor": "#E5ECF6",
            "gridcolor": "white",
            "gridwidth": 2,
            "linecolor": "white",
            "showbackground": true,
            "ticks": "",
            "zerolinecolor": "white"
           }
          },
          "shapedefaults": {
           "line": {
            "color": "#2a3f5f"
           }
          },
          "ternary": {
           "aaxis": {
            "gridcolor": "white",
            "linecolor": "white",
            "ticks": ""
           },
           "baxis": {
            "gridcolor": "white",
            "linecolor": "white",
            "ticks": ""
           },
           "bgcolor": "#E5ECF6",
           "caxis": {
            "gridcolor": "white",
            "linecolor": "white",
            "ticks": ""
           }
          },
          "title": {
           "x": 0.05
          },
          "xaxis": {
           "automargin": true,
           "gridcolor": "white",
           "linecolor": "white",
           "ticks": "",
           "title": {
            "standoff": 15
           },
           "zerolinecolor": "white",
           "zerolinewidth": 2
          },
          "yaxis": {
           "automargin": true,
           "gridcolor": "white",
           "linecolor": "white",
           "ticks": "",
           "title": {
            "standoff": 15
           },
           "zerolinecolor": "white",
           "zerolinewidth": 2
          }
         }
        },
        "xaxis": {
         "anchor": "y",
         "domain": [
          0,
          1
         ],
         "title": {
          "text": "Year"
         }
        },
        "yaxis": {
         "anchor": "x",
         "domain": [
          0,
          1
         ],
         "title": {
          "text": "Total"
         }
        }
       }
      }
     },
     "metadata": {},
     "output_type": "display_data"
    }
   ],
   "source": [
    "year_df = year_df.sort_values(by=\"Year\")\n",
    "fig = px.line(year_df, x=\"Year\", y=\"Total\")\n",
    "fig.show()"
   ]
  },
  {
   "cell_type": "markdown",
   "metadata": {},
   "source": [
    "### Quantos filmes e séries estão no conjunto de dados? Mostre com um gráfico de barras."
   ]
  },
  {
   "cell_type": "code",
   "execution_count": 30,
   "metadata": {},
   "outputs": [
    {
     "data": {
      "text/html": [
       "<div>\n",
       "<style scoped>\n",
       "    .dataframe tbody tr th:only-of-type {\n",
       "        vertical-align: middle;\n",
       "    }\n",
       "\n",
       "    .dataframe tbody tr th {\n",
       "        vertical-align: top;\n",
       "    }\n",
       "\n",
       "    .dataframe thead th {\n",
       "        text-align: right;\n",
       "    }\n",
       "</style>\n",
       "<table border=\"1\" class=\"dataframe\">\n",
       "  <thead>\n",
       "    <tr style=\"text-align: right;\">\n",
       "      <th></th>\n",
       "      <th>Category</th>\n",
       "      <th>Total</th>\n",
       "    </tr>\n",
       "  </thead>\n",
       "  <tbody>\n",
       "    <tr>\n",
       "      <th>0</th>\n",
       "      <td>Movie</td>\n",
       "      <td>5377</td>\n",
       "    </tr>\n",
       "    <tr>\n",
       "      <th>1</th>\n",
       "      <td>TV Show</td>\n",
       "      <td>2410</td>\n",
       "    </tr>\n",
       "  </tbody>\n",
       "</table>\n",
       "</div>"
      ],
      "text/plain": [
       "  Category  Total\n",
       "0    Movie   5377\n",
       "1  TV Show   2410"
      ]
     },
     "execution_count": 30,
     "metadata": {},
     "output_type": "execute_result"
    }
   ],
   "source": [
    "df_category = db.sql(\"\"\"\n",
    "SELECT \n",
    "    Category, \n",
    "    COUNT(Category) AS Total \n",
    "FROM netflix\n",
    "GROUP BY Category\n",
    "ORDER BY COUNT(Category) DESC;\n",
    "\"\"\").df()\n",
    "df_category"
   ]
  },
  {
   "cell_type": "code",
   "execution_count": 31,
   "metadata": {},
   "outputs": [
    {
     "data": {
      "application/vnd.plotly.v1+json": {
       "config": {
        "plotlyServerURL": "https://plot.ly"
       },
       "data": [
        {
         "alignmentgroup": "True",
         "hovertemplate": "Category=%{x}<br>Total=%{y}<extra></extra>",
         "legendgroup": "",
         "marker": {
          "color": "#636efa",
          "pattern": {
           "shape": ""
          }
         },
         "name": "",
         "offsetgroup": "",
         "orientation": "v",
         "showlegend": false,
         "textposition": "auto",
         "texttemplate": "%{y}",
         "type": "bar",
         "x": [
          "Movie",
          "TV Show"
         ],
         "xaxis": "x",
         "y": [
          5377,
          2410
         ],
         "yaxis": "y"
        }
       ],
       "layout": {
        "barmode": "relative",
        "legend": {
         "tracegroupgap": 0
        },
        "margin": {
         "t": 60
        },
        "template": {
         "data": {
          "bar": [
           {
            "error_x": {
             "color": "#2a3f5f"
            },
            "error_y": {
             "color": "#2a3f5f"
            },
            "marker": {
             "line": {
              "color": "#E5ECF6",
              "width": 0.5
             },
             "pattern": {
              "fillmode": "overlay",
              "size": 10,
              "solidity": 0.2
             }
            },
            "type": "bar"
           }
          ],
          "barpolar": [
           {
            "marker": {
             "line": {
              "color": "#E5ECF6",
              "width": 0.5
             },
             "pattern": {
              "fillmode": "overlay",
              "size": 10,
              "solidity": 0.2
             }
            },
            "type": "barpolar"
           }
          ],
          "carpet": [
           {
            "aaxis": {
             "endlinecolor": "#2a3f5f",
             "gridcolor": "white",
             "linecolor": "white",
             "minorgridcolor": "white",
             "startlinecolor": "#2a3f5f"
            },
            "baxis": {
             "endlinecolor": "#2a3f5f",
             "gridcolor": "white",
             "linecolor": "white",
             "minorgridcolor": "white",
             "startlinecolor": "#2a3f5f"
            },
            "type": "carpet"
           }
          ],
          "choropleth": [
           {
            "colorbar": {
             "outlinewidth": 0,
             "ticks": ""
            },
            "type": "choropleth"
           }
          ],
          "contour": [
           {
            "colorbar": {
             "outlinewidth": 0,
             "ticks": ""
            },
            "colorscale": [
             [
              0,
              "#0d0887"
             ],
             [
              0.1111111111111111,
              "#46039f"
             ],
             [
              0.2222222222222222,
              "#7201a8"
             ],
             [
              0.3333333333333333,
              "#9c179e"
             ],
             [
              0.4444444444444444,
              "#bd3786"
             ],
             [
              0.5555555555555556,
              "#d8576b"
             ],
             [
              0.6666666666666666,
              "#ed7953"
             ],
             [
              0.7777777777777778,
              "#fb9f3a"
             ],
             [
              0.8888888888888888,
              "#fdca26"
             ],
             [
              1,
              "#f0f921"
             ]
            ],
            "type": "contour"
           }
          ],
          "contourcarpet": [
           {
            "colorbar": {
             "outlinewidth": 0,
             "ticks": ""
            },
            "type": "contourcarpet"
           }
          ],
          "heatmap": [
           {
            "colorbar": {
             "outlinewidth": 0,
             "ticks": ""
            },
            "colorscale": [
             [
              0,
              "#0d0887"
             ],
             [
              0.1111111111111111,
              "#46039f"
             ],
             [
              0.2222222222222222,
              "#7201a8"
             ],
             [
              0.3333333333333333,
              "#9c179e"
             ],
             [
              0.4444444444444444,
              "#bd3786"
             ],
             [
              0.5555555555555556,
              "#d8576b"
             ],
             [
              0.6666666666666666,
              "#ed7953"
             ],
             [
              0.7777777777777778,
              "#fb9f3a"
             ],
             [
              0.8888888888888888,
              "#fdca26"
             ],
             [
              1,
              "#f0f921"
             ]
            ],
            "type": "heatmap"
           }
          ],
          "heatmapgl": [
           {
            "colorbar": {
             "outlinewidth": 0,
             "ticks": ""
            },
            "colorscale": [
             [
              0,
              "#0d0887"
             ],
             [
              0.1111111111111111,
              "#46039f"
             ],
             [
              0.2222222222222222,
              "#7201a8"
             ],
             [
              0.3333333333333333,
              "#9c179e"
             ],
             [
              0.4444444444444444,
              "#bd3786"
             ],
             [
              0.5555555555555556,
              "#d8576b"
             ],
             [
              0.6666666666666666,
              "#ed7953"
             ],
             [
              0.7777777777777778,
              "#fb9f3a"
             ],
             [
              0.8888888888888888,
              "#fdca26"
             ],
             [
              1,
              "#f0f921"
             ]
            ],
            "type": "heatmapgl"
           }
          ],
          "histogram": [
           {
            "marker": {
             "pattern": {
              "fillmode": "overlay",
              "size": 10,
              "solidity": 0.2
             }
            },
            "type": "histogram"
           }
          ],
          "histogram2d": [
           {
            "colorbar": {
             "outlinewidth": 0,
             "ticks": ""
            },
            "colorscale": [
             [
              0,
              "#0d0887"
             ],
             [
              0.1111111111111111,
              "#46039f"
             ],
             [
              0.2222222222222222,
              "#7201a8"
             ],
             [
              0.3333333333333333,
              "#9c179e"
             ],
             [
              0.4444444444444444,
              "#bd3786"
             ],
             [
              0.5555555555555556,
              "#d8576b"
             ],
             [
              0.6666666666666666,
              "#ed7953"
             ],
             [
              0.7777777777777778,
              "#fb9f3a"
             ],
             [
              0.8888888888888888,
              "#fdca26"
             ],
             [
              1,
              "#f0f921"
             ]
            ],
            "type": "histogram2d"
           }
          ],
          "histogram2dcontour": [
           {
            "colorbar": {
             "outlinewidth": 0,
             "ticks": ""
            },
            "colorscale": [
             [
              0,
              "#0d0887"
             ],
             [
              0.1111111111111111,
              "#46039f"
             ],
             [
              0.2222222222222222,
              "#7201a8"
             ],
             [
              0.3333333333333333,
              "#9c179e"
             ],
             [
              0.4444444444444444,
              "#bd3786"
             ],
             [
              0.5555555555555556,
              "#d8576b"
             ],
             [
              0.6666666666666666,
              "#ed7953"
             ],
             [
              0.7777777777777778,
              "#fb9f3a"
             ],
             [
              0.8888888888888888,
              "#fdca26"
             ],
             [
              1,
              "#f0f921"
             ]
            ],
            "type": "histogram2dcontour"
           }
          ],
          "mesh3d": [
           {
            "colorbar": {
             "outlinewidth": 0,
             "ticks": ""
            },
            "type": "mesh3d"
           }
          ],
          "parcoords": [
           {
            "line": {
             "colorbar": {
              "outlinewidth": 0,
              "ticks": ""
             }
            },
            "type": "parcoords"
           }
          ],
          "pie": [
           {
            "automargin": true,
            "type": "pie"
           }
          ],
          "scatter": [
           {
            "fillpattern": {
             "fillmode": "overlay",
             "size": 10,
             "solidity": 0.2
            },
            "type": "scatter"
           }
          ],
          "scatter3d": [
           {
            "line": {
             "colorbar": {
              "outlinewidth": 0,
              "ticks": ""
             }
            },
            "marker": {
             "colorbar": {
              "outlinewidth": 0,
              "ticks": ""
             }
            },
            "type": "scatter3d"
           }
          ],
          "scattercarpet": [
           {
            "marker": {
             "colorbar": {
              "outlinewidth": 0,
              "ticks": ""
             }
            },
            "type": "scattercarpet"
           }
          ],
          "scattergeo": [
           {
            "marker": {
             "colorbar": {
              "outlinewidth": 0,
              "ticks": ""
             }
            },
            "type": "scattergeo"
           }
          ],
          "scattergl": [
           {
            "marker": {
             "colorbar": {
              "outlinewidth": 0,
              "ticks": ""
             }
            },
            "type": "scattergl"
           }
          ],
          "scattermapbox": [
           {
            "marker": {
             "colorbar": {
              "outlinewidth": 0,
              "ticks": ""
             }
            },
            "type": "scattermapbox"
           }
          ],
          "scatterpolar": [
           {
            "marker": {
             "colorbar": {
              "outlinewidth": 0,
              "ticks": ""
             }
            },
            "type": "scatterpolar"
           }
          ],
          "scatterpolargl": [
           {
            "marker": {
             "colorbar": {
              "outlinewidth": 0,
              "ticks": ""
             }
            },
            "type": "scatterpolargl"
           }
          ],
          "scatterternary": [
           {
            "marker": {
             "colorbar": {
              "outlinewidth": 0,
              "ticks": ""
             }
            },
            "type": "scatterternary"
           }
          ],
          "surface": [
           {
            "colorbar": {
             "outlinewidth": 0,
             "ticks": ""
            },
            "colorscale": [
             [
              0,
              "#0d0887"
             ],
             [
              0.1111111111111111,
              "#46039f"
             ],
             [
              0.2222222222222222,
              "#7201a8"
             ],
             [
              0.3333333333333333,
              "#9c179e"
             ],
             [
              0.4444444444444444,
              "#bd3786"
             ],
             [
              0.5555555555555556,
              "#d8576b"
             ],
             [
              0.6666666666666666,
              "#ed7953"
             ],
             [
              0.7777777777777778,
              "#fb9f3a"
             ],
             [
              0.8888888888888888,
              "#fdca26"
             ],
             [
              1,
              "#f0f921"
             ]
            ],
            "type": "surface"
           }
          ],
          "table": [
           {
            "cells": {
             "fill": {
              "color": "#EBF0F8"
             },
             "line": {
              "color": "white"
             }
            },
            "header": {
             "fill": {
              "color": "#C8D4E3"
             },
             "line": {
              "color": "white"
             }
            },
            "type": "table"
           }
          ]
         },
         "layout": {
          "annotationdefaults": {
           "arrowcolor": "#2a3f5f",
           "arrowhead": 0,
           "arrowwidth": 1
          },
          "autotypenumbers": "strict",
          "coloraxis": {
           "colorbar": {
            "outlinewidth": 0,
            "ticks": ""
           }
          },
          "colorscale": {
           "diverging": [
            [
             0,
             "#8e0152"
            ],
            [
             0.1,
             "#c51b7d"
            ],
            [
             0.2,
             "#de77ae"
            ],
            [
             0.3,
             "#f1b6da"
            ],
            [
             0.4,
             "#fde0ef"
            ],
            [
             0.5,
             "#f7f7f7"
            ],
            [
             0.6,
             "#e6f5d0"
            ],
            [
             0.7,
             "#b8e186"
            ],
            [
             0.8,
             "#7fbc41"
            ],
            [
             0.9,
             "#4d9221"
            ],
            [
             1,
             "#276419"
            ]
           ],
           "sequential": [
            [
             0,
             "#0d0887"
            ],
            [
             0.1111111111111111,
             "#46039f"
            ],
            [
             0.2222222222222222,
             "#7201a8"
            ],
            [
             0.3333333333333333,
             "#9c179e"
            ],
            [
             0.4444444444444444,
             "#bd3786"
            ],
            [
             0.5555555555555556,
             "#d8576b"
            ],
            [
             0.6666666666666666,
             "#ed7953"
            ],
            [
             0.7777777777777778,
             "#fb9f3a"
            ],
            [
             0.8888888888888888,
             "#fdca26"
            ],
            [
             1,
             "#f0f921"
            ]
           ],
           "sequentialminus": [
            [
             0,
             "#0d0887"
            ],
            [
             0.1111111111111111,
             "#46039f"
            ],
            [
             0.2222222222222222,
             "#7201a8"
            ],
            [
             0.3333333333333333,
             "#9c179e"
            ],
            [
             0.4444444444444444,
             "#bd3786"
            ],
            [
             0.5555555555555556,
             "#d8576b"
            ],
            [
             0.6666666666666666,
             "#ed7953"
            ],
            [
             0.7777777777777778,
             "#fb9f3a"
            ],
            [
             0.8888888888888888,
             "#fdca26"
            ],
            [
             1,
             "#f0f921"
            ]
           ]
          },
          "colorway": [
           "#636efa",
           "#EF553B",
           "#00cc96",
           "#ab63fa",
           "#FFA15A",
           "#19d3f3",
           "#FF6692",
           "#B6E880",
           "#FF97FF",
           "#FECB52"
          ],
          "font": {
           "color": "#2a3f5f"
          },
          "geo": {
           "bgcolor": "white",
           "lakecolor": "white",
           "landcolor": "#E5ECF6",
           "showlakes": true,
           "showland": true,
           "subunitcolor": "white"
          },
          "hoverlabel": {
           "align": "left"
          },
          "hovermode": "closest",
          "mapbox": {
           "style": "light"
          },
          "paper_bgcolor": "white",
          "plot_bgcolor": "#E5ECF6",
          "polar": {
           "angularaxis": {
            "gridcolor": "white",
            "linecolor": "white",
            "ticks": ""
           },
           "bgcolor": "#E5ECF6",
           "radialaxis": {
            "gridcolor": "white",
            "linecolor": "white",
            "ticks": ""
           }
          },
          "scene": {
           "xaxis": {
            "backgroundcolor": "#E5ECF6",
            "gridcolor": "white",
            "gridwidth": 2,
            "linecolor": "white",
            "showbackground": true,
            "ticks": "",
            "zerolinecolor": "white"
           },
           "yaxis": {
            "backgroundcolor": "#E5ECF6",
            "gridcolor": "white",
            "gridwidth": 2,
            "linecolor": "white",
            "showbackground": true,
            "ticks": "",
            "zerolinecolor": "white"
           },
           "zaxis": {
            "backgroundcolor": "#E5ECF6",
            "gridcolor": "white",
            "gridwidth": 2,
            "linecolor": "white",
            "showbackground": true,
            "ticks": "",
            "zerolinecolor": "white"
           }
          },
          "shapedefaults": {
           "line": {
            "color": "#2a3f5f"
           }
          },
          "ternary": {
           "aaxis": {
            "gridcolor": "white",
            "linecolor": "white",
            "ticks": ""
           },
           "baxis": {
            "gridcolor": "white",
            "linecolor": "white",
            "ticks": ""
           },
           "bgcolor": "#E5ECF6",
           "caxis": {
            "gridcolor": "white",
            "linecolor": "white",
            "ticks": ""
           }
          },
          "title": {
           "x": 0.05
          },
          "xaxis": {
           "automargin": true,
           "gridcolor": "white",
           "linecolor": "white",
           "ticks": "",
           "title": {
            "standoff": 15
           },
           "zerolinecolor": "white",
           "zerolinewidth": 2
          },
          "yaxis": {
           "automargin": true,
           "gridcolor": "white",
           "linecolor": "white",
           "ticks": "",
           "title": {
            "standoff": 15
           },
           "zerolinecolor": "white",
           "zerolinewidth": 2
          }
         }
        },
        "xaxis": {
         "anchor": "y",
         "domain": [
          0,
          1
         ],
         "title": {
          "text": "Category"
         }
        },
        "yaxis": {
         "anchor": "x",
         "domain": [
          0,
          1
         ],
         "title": {
          "text": "Total"
         }
        }
       }
      }
     },
     "metadata": {},
     "output_type": "display_data"
    }
   ],
   "source": [
    "fig = px.bar(df_category, x='Category', y='Total', text_auto=True)\n",
    "fig.show()"
   ]
  },
  {
   "cell_type": "markdown",
   "metadata": {},
   "source": [
    "Mostrando também com um gráfico de pizza"
   ]
  },
  {
   "cell_type": "code",
   "execution_count": 32,
   "metadata": {},
   "outputs": [
    {
     "data": {
      "application/vnd.plotly.v1+json": {
       "config": {
        "plotlyServerURL": "https://plot.ly"
       },
       "data": [
        {
         "domain": {
          "x": [
           0,
           1
          ],
          "y": [
           0,
           1
          ]
         },
         "hovertemplate": "Category=%{label}<br>Total=%{value}<extra></extra>",
         "labels": [
          "Movie",
          "TV Show"
         ],
         "legendgroup": "",
         "name": "",
         "showlegend": true,
         "type": "pie",
         "values": [
          5377,
          2410
         ]
        }
       ],
       "layout": {
        "legend": {
         "tracegroupgap": 0
        },
        "margin": {
         "t": 60
        },
        "piecolorway": [
         "lightblue",
         "blue"
        ],
        "template": {
         "data": {
          "bar": [
           {
            "error_x": {
             "color": "#2a3f5f"
            },
            "error_y": {
             "color": "#2a3f5f"
            },
            "marker": {
             "line": {
              "color": "#E5ECF6",
              "width": 0.5
             },
             "pattern": {
              "fillmode": "overlay",
              "size": 10,
              "solidity": 0.2
             }
            },
            "type": "bar"
           }
          ],
          "barpolar": [
           {
            "marker": {
             "line": {
              "color": "#E5ECF6",
              "width": 0.5
             },
             "pattern": {
              "fillmode": "overlay",
              "size": 10,
              "solidity": 0.2
             }
            },
            "type": "barpolar"
           }
          ],
          "carpet": [
           {
            "aaxis": {
             "endlinecolor": "#2a3f5f",
             "gridcolor": "white",
             "linecolor": "white",
             "minorgridcolor": "white",
             "startlinecolor": "#2a3f5f"
            },
            "baxis": {
             "endlinecolor": "#2a3f5f",
             "gridcolor": "white",
             "linecolor": "white",
             "minorgridcolor": "white",
             "startlinecolor": "#2a3f5f"
            },
            "type": "carpet"
           }
          ],
          "choropleth": [
           {
            "colorbar": {
             "outlinewidth": 0,
             "ticks": ""
            },
            "type": "choropleth"
           }
          ],
          "contour": [
           {
            "colorbar": {
             "outlinewidth": 0,
             "ticks": ""
            },
            "colorscale": [
             [
              0,
              "#0d0887"
             ],
             [
              0.1111111111111111,
              "#46039f"
             ],
             [
              0.2222222222222222,
              "#7201a8"
             ],
             [
              0.3333333333333333,
              "#9c179e"
             ],
             [
              0.4444444444444444,
              "#bd3786"
             ],
             [
              0.5555555555555556,
              "#d8576b"
             ],
             [
              0.6666666666666666,
              "#ed7953"
             ],
             [
              0.7777777777777778,
              "#fb9f3a"
             ],
             [
              0.8888888888888888,
              "#fdca26"
             ],
             [
              1,
              "#f0f921"
             ]
            ],
            "type": "contour"
           }
          ],
          "contourcarpet": [
           {
            "colorbar": {
             "outlinewidth": 0,
             "ticks": ""
            },
            "type": "contourcarpet"
           }
          ],
          "heatmap": [
           {
            "colorbar": {
             "outlinewidth": 0,
             "ticks": ""
            },
            "colorscale": [
             [
              0,
              "#0d0887"
             ],
             [
              0.1111111111111111,
              "#46039f"
             ],
             [
              0.2222222222222222,
              "#7201a8"
             ],
             [
              0.3333333333333333,
              "#9c179e"
             ],
             [
              0.4444444444444444,
              "#bd3786"
             ],
             [
              0.5555555555555556,
              "#d8576b"
             ],
             [
              0.6666666666666666,
              "#ed7953"
             ],
             [
              0.7777777777777778,
              "#fb9f3a"
             ],
             [
              0.8888888888888888,
              "#fdca26"
             ],
             [
              1,
              "#f0f921"
             ]
            ],
            "type": "heatmap"
           }
          ],
          "heatmapgl": [
           {
            "colorbar": {
             "outlinewidth": 0,
             "ticks": ""
            },
            "colorscale": [
             [
              0,
              "#0d0887"
             ],
             [
              0.1111111111111111,
              "#46039f"
             ],
             [
              0.2222222222222222,
              "#7201a8"
             ],
             [
              0.3333333333333333,
              "#9c179e"
             ],
             [
              0.4444444444444444,
              "#bd3786"
             ],
             [
              0.5555555555555556,
              "#d8576b"
             ],
             [
              0.6666666666666666,
              "#ed7953"
             ],
             [
              0.7777777777777778,
              "#fb9f3a"
             ],
             [
              0.8888888888888888,
              "#fdca26"
             ],
             [
              1,
              "#f0f921"
             ]
            ],
            "type": "heatmapgl"
           }
          ],
          "histogram": [
           {
            "marker": {
             "pattern": {
              "fillmode": "overlay",
              "size": 10,
              "solidity": 0.2
             }
            },
            "type": "histogram"
           }
          ],
          "histogram2d": [
           {
            "colorbar": {
             "outlinewidth": 0,
             "ticks": ""
            },
            "colorscale": [
             [
              0,
              "#0d0887"
             ],
             [
              0.1111111111111111,
              "#46039f"
             ],
             [
              0.2222222222222222,
              "#7201a8"
             ],
             [
              0.3333333333333333,
              "#9c179e"
             ],
             [
              0.4444444444444444,
              "#bd3786"
             ],
             [
              0.5555555555555556,
              "#d8576b"
             ],
             [
              0.6666666666666666,
              "#ed7953"
             ],
             [
              0.7777777777777778,
              "#fb9f3a"
             ],
             [
              0.8888888888888888,
              "#fdca26"
             ],
             [
              1,
              "#f0f921"
             ]
            ],
            "type": "histogram2d"
           }
          ],
          "histogram2dcontour": [
           {
            "colorbar": {
             "outlinewidth": 0,
             "ticks": ""
            },
            "colorscale": [
             [
              0,
              "#0d0887"
             ],
             [
              0.1111111111111111,
              "#46039f"
             ],
             [
              0.2222222222222222,
              "#7201a8"
             ],
             [
              0.3333333333333333,
              "#9c179e"
             ],
             [
              0.4444444444444444,
              "#bd3786"
             ],
             [
              0.5555555555555556,
              "#d8576b"
             ],
             [
              0.6666666666666666,
              "#ed7953"
             ],
             [
              0.7777777777777778,
              "#fb9f3a"
             ],
             [
              0.8888888888888888,
              "#fdca26"
             ],
             [
              1,
              "#f0f921"
             ]
            ],
            "type": "histogram2dcontour"
           }
          ],
          "mesh3d": [
           {
            "colorbar": {
             "outlinewidth": 0,
             "ticks": ""
            },
            "type": "mesh3d"
           }
          ],
          "parcoords": [
           {
            "line": {
             "colorbar": {
              "outlinewidth": 0,
              "ticks": ""
             }
            },
            "type": "parcoords"
           }
          ],
          "pie": [
           {
            "automargin": true,
            "type": "pie"
           }
          ],
          "scatter": [
           {
            "fillpattern": {
             "fillmode": "overlay",
             "size": 10,
             "solidity": 0.2
            },
            "type": "scatter"
           }
          ],
          "scatter3d": [
           {
            "line": {
             "colorbar": {
              "outlinewidth": 0,
              "ticks": ""
             }
            },
            "marker": {
             "colorbar": {
              "outlinewidth": 0,
              "ticks": ""
             }
            },
            "type": "scatter3d"
           }
          ],
          "scattercarpet": [
           {
            "marker": {
             "colorbar": {
              "outlinewidth": 0,
              "ticks": ""
             }
            },
            "type": "scattercarpet"
           }
          ],
          "scattergeo": [
           {
            "marker": {
             "colorbar": {
              "outlinewidth": 0,
              "ticks": ""
             }
            },
            "type": "scattergeo"
           }
          ],
          "scattergl": [
           {
            "marker": {
             "colorbar": {
              "outlinewidth": 0,
              "ticks": ""
             }
            },
            "type": "scattergl"
           }
          ],
          "scattermapbox": [
           {
            "marker": {
             "colorbar": {
              "outlinewidth": 0,
              "ticks": ""
             }
            },
            "type": "scattermapbox"
           }
          ],
          "scatterpolar": [
           {
            "marker": {
             "colorbar": {
              "outlinewidth": 0,
              "ticks": ""
             }
            },
            "type": "scatterpolar"
           }
          ],
          "scatterpolargl": [
           {
            "marker": {
             "colorbar": {
              "outlinewidth": 0,
              "ticks": ""
             }
            },
            "type": "scatterpolargl"
           }
          ],
          "scatterternary": [
           {
            "marker": {
             "colorbar": {
              "outlinewidth": 0,
              "ticks": ""
             }
            },
            "type": "scatterternary"
           }
          ],
          "surface": [
           {
            "colorbar": {
             "outlinewidth": 0,
             "ticks": ""
            },
            "colorscale": [
             [
              0,
              "#0d0887"
             ],
             [
              0.1111111111111111,
              "#46039f"
             ],
             [
              0.2222222222222222,
              "#7201a8"
             ],
             [
              0.3333333333333333,
              "#9c179e"
             ],
             [
              0.4444444444444444,
              "#bd3786"
             ],
             [
              0.5555555555555556,
              "#d8576b"
             ],
             [
              0.6666666666666666,
              "#ed7953"
             ],
             [
              0.7777777777777778,
              "#fb9f3a"
             ],
             [
              0.8888888888888888,
              "#fdca26"
             ],
             [
              1,
              "#f0f921"
             ]
            ],
            "type": "surface"
           }
          ],
          "table": [
           {
            "cells": {
             "fill": {
              "color": "#EBF0F8"
             },
             "line": {
              "color": "white"
             }
            },
            "header": {
             "fill": {
              "color": "#C8D4E3"
             },
             "line": {
              "color": "white"
             }
            },
            "type": "table"
           }
          ]
         },
         "layout": {
          "annotationdefaults": {
           "arrowcolor": "#2a3f5f",
           "arrowhead": 0,
           "arrowwidth": 1
          },
          "autotypenumbers": "strict",
          "coloraxis": {
           "colorbar": {
            "outlinewidth": 0,
            "ticks": ""
           }
          },
          "colorscale": {
           "diverging": [
            [
             0,
             "#8e0152"
            ],
            [
             0.1,
             "#c51b7d"
            ],
            [
             0.2,
             "#de77ae"
            ],
            [
             0.3,
             "#f1b6da"
            ],
            [
             0.4,
             "#fde0ef"
            ],
            [
             0.5,
             "#f7f7f7"
            ],
            [
             0.6,
             "#e6f5d0"
            ],
            [
             0.7,
             "#b8e186"
            ],
            [
             0.8,
             "#7fbc41"
            ],
            [
             0.9,
             "#4d9221"
            ],
            [
             1,
             "#276419"
            ]
           ],
           "sequential": [
            [
             0,
             "#0d0887"
            ],
            [
             0.1111111111111111,
             "#46039f"
            ],
            [
             0.2222222222222222,
             "#7201a8"
            ],
            [
             0.3333333333333333,
             "#9c179e"
            ],
            [
             0.4444444444444444,
             "#bd3786"
            ],
            [
             0.5555555555555556,
             "#d8576b"
            ],
            [
             0.6666666666666666,
             "#ed7953"
            ],
            [
             0.7777777777777778,
             "#fb9f3a"
            ],
            [
             0.8888888888888888,
             "#fdca26"
            ],
            [
             1,
             "#f0f921"
            ]
           ],
           "sequentialminus": [
            [
             0,
             "#0d0887"
            ],
            [
             0.1111111111111111,
             "#46039f"
            ],
            [
             0.2222222222222222,
             "#7201a8"
            ],
            [
             0.3333333333333333,
             "#9c179e"
            ],
            [
             0.4444444444444444,
             "#bd3786"
            ],
            [
             0.5555555555555556,
             "#d8576b"
            ],
            [
             0.6666666666666666,
             "#ed7953"
            ],
            [
             0.7777777777777778,
             "#fb9f3a"
            ],
            [
             0.8888888888888888,
             "#fdca26"
            ],
            [
             1,
             "#f0f921"
            ]
           ]
          },
          "colorway": [
           "#636efa",
           "#EF553B",
           "#00cc96",
           "#ab63fa",
           "#FFA15A",
           "#19d3f3",
           "#FF6692",
           "#B6E880",
           "#FF97FF",
           "#FECB52"
          ],
          "font": {
           "color": "#2a3f5f"
          },
          "geo": {
           "bgcolor": "white",
           "lakecolor": "white",
           "landcolor": "#E5ECF6",
           "showlakes": true,
           "showland": true,
           "subunitcolor": "white"
          },
          "hoverlabel": {
           "align": "left"
          },
          "hovermode": "closest",
          "mapbox": {
           "style": "light"
          },
          "paper_bgcolor": "white",
          "plot_bgcolor": "#E5ECF6",
          "polar": {
           "angularaxis": {
            "gridcolor": "white",
            "linecolor": "white",
            "ticks": ""
           },
           "bgcolor": "#E5ECF6",
           "radialaxis": {
            "gridcolor": "white",
            "linecolor": "white",
            "ticks": ""
           }
          },
          "scene": {
           "xaxis": {
            "backgroundcolor": "#E5ECF6",
            "gridcolor": "white",
            "gridwidth": 2,
            "linecolor": "white",
            "showbackground": true,
            "ticks": "",
            "zerolinecolor": "white"
           },
           "yaxis": {
            "backgroundcolor": "#E5ECF6",
            "gridcolor": "white",
            "gridwidth": 2,
            "linecolor": "white",
            "showbackground": true,
            "ticks": "",
            "zerolinecolor": "white"
           },
           "zaxis": {
            "backgroundcolor": "#E5ECF6",
            "gridcolor": "white",
            "gridwidth": 2,
            "linecolor": "white",
            "showbackground": true,
            "ticks": "",
            "zerolinecolor": "white"
           }
          },
          "shapedefaults": {
           "line": {
            "color": "#2a3f5f"
           }
          },
          "ternary": {
           "aaxis": {
            "gridcolor": "white",
            "linecolor": "white",
            "ticks": ""
           },
           "baxis": {
            "gridcolor": "white",
            "linecolor": "white",
            "ticks": ""
           },
           "bgcolor": "#E5ECF6",
           "caxis": {
            "gridcolor": "white",
            "linecolor": "white",
            "ticks": ""
           }
          },
          "title": {
           "x": 0.05
          },
          "xaxis": {
           "automargin": true,
           "gridcolor": "white",
           "linecolor": "white",
           "ticks": "",
           "title": {
            "standoff": 15
           },
           "zerolinecolor": "white",
           "zerolinewidth": 2
          },
          "yaxis": {
           "automargin": true,
           "gridcolor": "white",
           "linecolor": "white",
           "ticks": "",
           "title": {
            "standoff": 15
           },
           "zerolinecolor": "white",
           "zerolinewidth": 2
          }
         }
        }
       }
      }
     },
     "metadata": {},
     "output_type": "display_data"
    }
   ],
   "source": [
    "fig = px.pie(df_category, values='Total', \n",
    "             names='Category', \n",
    "             color_discrete_sequence=[\"lightblue\", \"blue\"])\n",
    "fig.show()"
   ]
  },
  {
   "cell_type": "markdown",
   "metadata": {},
   "source": [
    "### Mostre todos os filmes lançados em 2000"
   ]
  },
  {
   "cell_type": "code",
   "execution_count": 33,
   "metadata": {},
   "outputs": [
    {
     "data": {
      "text/plain": [
       "┌─────────┬──────────┬─────────┬──────────┬─────────┬─────────┬───┬─────────┬──────────┬─────────┬─────────────┬───────┐\n",
       "│ Show_Id │ Category │  Title  │ Director │  Cast   │ Country │ … │ Rating  │ Duration │  Type   │ Description │ Year  │\n",
       "│ varchar │ varchar  │ varchar │ varchar  │ varchar │ varchar │   │ varchar │ varchar  │ varchar │   varchar   │ int32 │\n",
       "├──────────────────────────────────────────────────────────────────────────────────────────────────────────────────────┤\n",
       "│                                                        0 rows                                                        │\n",
       "└──────────────────────────────────────────────────────────────────────────────────────────────────────────────────────┘"
      ]
     },
     "execution_count": 33,
     "metadata": {},
     "output_type": "execute_result"
    }
   ],
   "source": [
    "db.sql(\"SELECT * FROM netflix WHERE Year = 2000\")\n",
    "\n",
    "# Não possui dados de filmes referentes a 2000, até pode ser visto na questão 2 "
   ]
  },
  {
   "cell_type": "code",
   "execution_count": 34,
   "metadata": {},
   "outputs": [
    {
     "data": {
      "text/plain": [
       "┌─────────┬──────────┬──────────────────────┬───┬──────────────────────┬──────────────────────┬───────┐\n",
       "│ Show_Id │ Category │        Title         │ … │         Type         │     Description      │ Year  │\n",
       "│ varchar │ varchar  │       varchar        │   │       varchar        │       varchar        │ int32 │\n",
       "├─────────┼──────────┼──────────────────────┼───┼──────────────────────┼──────────────────────┼───────┤\n",
       "│ s1011   │ TV Show  │ Bo on the Go!        │ … │ Kids' TV             │ Staying at home do…  │  2019 │\n",
       "│ s102    │ Movie    │ 3 Seconds Divorce    │ … │ Documentaries, Fai…  │ A Muslim women's a…  │  2019 │\n",
       "│ s104    │ Movie    │ 30 Days of Luxury    │ … │ Comedies, Internat…  │ With the help of h…  │  2019 │\n",
       "│ s1074   │ TV Show  │ Brain Games          │ … │ Docuseries, Scienc…  │ This interactive s…  │  2019 │\n",
       "│ s1095   │ Movie    │ Brené Brown: The C…  │ … │ Documentaries        │ With humor and emp…  │  2019 │\n",
       "│ s1200   │ Movie    │ Candyflip            │ … │ Dramas, Independen…  │ On the incandescen…  │  2019 │\n",
       "│ s1282   │ Movie    │ Charlie's Angels: …  │ … │ Action & Adventure…  │ In this reboot of …  │  2019 │\n",
       "│ s1331   │ TV Show  │ Chief of Staff       │ … │ International TV S…  │ As a chief of staf…  │  2019 │\n",
       "│ s1374   │ Movie    │ Christopher Robin    │ … │ Children & Family …  │ Now a careworn mid…  │  2019 │\n",
       "│ s1377   │ TV Show  │ ChuChu TV Kids Son…  │ … │ Kids' TV             │ This educational s…  │  2019 │\n",
       "│   ·     │   ·      │     ·                │ · │    ·                 │          ·           │    ·  │\n",
       "│   ·     │   ·      │     ·                │ · │    ·                 │          ·           │    ·  │\n",
       "│   ·     │   ·      │     ·                │ · │    ·                 │          ·           │    ·  │\n",
       "│ s7377   │ Movie    │ Used Goods           │ … │ Action & Adventure…  │ To evade greedy ph…  │  2019 │\n",
       "│ s7378   │ Movie    │ USS Indianapolis: …  │ … │ Action & Adventure   │ After becoming str…  │  2019 │\n",
       "│ s7478   │ Movie    │ War Chhod Na Yaar    │ … │ Comedies, Dramas, …  │ Set in an India-Pa…  │  2019 │\n",
       "│ s7481   │ Movie    │ War on Everyone      │ … │ Action & Adventure…  │ Terry and Bob exce…  │  2019 │\n",
       "│ s750    │ Movie    │ Barcelona: A Love …  │ … │ Dramas, Internatio…  │ While pursuing a d…  │  2019 │\n",
       "│ s7620   │ Movie    │ Wild Child           │ … │ Comedies, Romantic…  │ When a spoiled gir…  │  2019 │\n",
       "│ s827    │ Movie    │ Belmonte             │ … │ Dramas, Independen…  │ An artist muddles …  │  2019 │\n",
       "│ s957    │ TV Show  │ Black Mirror         │ … │ British TV Shows, …  │ This sci-fi anthol…  │  2019 │\n",
       "│ s962    │ Movie    │ Black Sea            │ … │ Action & Adventure…  │ A hard-driving sub…  │  2019 │\n",
       "│ s995    │ TV Show  │ Blown Away           │ … │ International TV S…  │ Ten master artists…  │  2019 │\n",
       "├─────────┴──────────┴──────────────────────┴───┴──────────────────────┴──────────────────────┴───────┤\n",
       "│ 2153 rows (20 shown)                                                           12 columns (6 shown) │\n",
       "└─────────────────────────────────────────────────────────────────────────────────────────────────────┘"
      ]
     },
     "execution_count": 34,
     "metadata": {},
     "output_type": "execute_result"
    }
   ],
   "source": [
    "# Fazendo uma verificação com 2019\n",
    "db.sql(\"SELECT * FROM netflix WHERE Year = 2019\")"
   ]
  },
  {
   "cell_type": "markdown",
   "metadata": {},
   "source": [
    "### 5 - Mostre apenas os títulos de todas as séries de TV lançadas apenas na Índia."
   ]
  },
  {
   "cell_type": "code",
   "execution_count": 35,
   "metadata": {},
   "outputs": [
    {
     "data": {
      "text/html": [
       "<div>\n",
       "<style scoped>\n",
       "    .dataframe tbody tr th:only-of-type {\n",
       "        vertical-align: middle;\n",
       "    }\n",
       "\n",
       "    .dataframe tbody tr th {\n",
       "        vertical-align: top;\n",
       "    }\n",
       "\n",
       "    .dataframe thead th {\n",
       "        text-align: right;\n",
       "    }\n",
       "</style>\n",
       "<table border=\"1\" class=\"dataframe\">\n",
       "  <thead>\n",
       "    <tr style=\"text-align: right;\">\n",
       "      <th></th>\n",
       "      <th>Title</th>\n",
       "    </tr>\n",
       "  </thead>\n",
       "  <tbody>\n",
       "    <tr>\n",
       "      <th>0</th>\n",
       "      <td>Stories by Rabindranath Tagore</td>\n",
       "    </tr>\n",
       "    <tr>\n",
       "      <th>1</th>\n",
       "      <td>Girls Hostel</td>\n",
       "    </tr>\n",
       "    <tr>\n",
       "      <th>2</th>\n",
       "      <td>Inmates</td>\n",
       "    </tr>\n",
       "    <tr>\n",
       "      <th>3</th>\n",
       "      <td>Anjaan: Special Crimes Unit</td>\n",
       "    </tr>\n",
       "    <tr>\n",
       "      <th>4</th>\n",
       "      <td>Bhaag Beanie Bhaag</td>\n",
       "    </tr>\n",
       "    <tr>\n",
       "      <th>...</th>\n",
       "      <td>...</td>\n",
       "    </tr>\n",
       "    <tr>\n",
       "      <th>66</th>\n",
       "      <td>Little Singham</td>\n",
       "    </tr>\n",
       "    <tr>\n",
       "      <th>67</th>\n",
       "      <td>Thackeray</td>\n",
       "    </tr>\n",
       "    <tr>\n",
       "      <th>68</th>\n",
       "      <td>Ramayan</td>\n",
       "    </tr>\n",
       "    <tr>\n",
       "      <th>69</th>\n",
       "      <td>Razia Sultan</td>\n",
       "    </tr>\n",
       "    <tr>\n",
       "      <th>70</th>\n",
       "      <td>Badalte Rishton Ki Dastaan</td>\n",
       "    </tr>\n",
       "  </tbody>\n",
       "</table>\n",
       "<p>71 rows × 1 columns</p>\n",
       "</div>"
      ],
      "text/plain": [
       "                             Title\n",
       "0   Stories by Rabindranath Tagore\n",
       "1                     Girls Hostel\n",
       "2                          Inmates\n",
       "3      Anjaan: Special Crimes Unit\n",
       "4               Bhaag Beanie Bhaag\n",
       "..                             ...\n",
       "66                  Little Singham\n",
       "67                       Thackeray\n",
       "68                         Ramayan\n",
       "69                    Razia Sultan\n",
       "70      Badalte Rishton Ki Dastaan\n",
       "\n",
       "[71 rows x 1 columns]"
      ]
     },
     "execution_count": 35,
     "metadata": {},
     "output_type": "execute_result"
    }
   ],
   "source": [
    "# Pra uma visualização mais amigável transformei para dataframe pandas\n",
    "db.sql(\"SELECT Title FROM netflix WHERE Country = 'India' AND Category = 'TV Show'\").df()"
   ]
  },
  {
   "cell_type": "markdown",
   "metadata": {},
   "source": [
    "### 6 - Mostre os 10 principais diretores, que deram o maior número de filmes e séries para a Netflix."
   ]
  },
  {
   "cell_type": "code",
   "execution_count": 36,
   "metadata": {},
   "outputs": [
    {
     "data": {
      "text/plain": [
       "┌───────────────────────────┐\n",
       "│         Director          │\n",
       "│          varchar          │\n",
       "├───────────────────────────┤\n",
       "│ NULL                      │\n",
       "│ Sandra Restrepo           │\n",
       "│ McG                       │\n",
       "│ Ang Lee                   │\n",
       "│ Zachary Heinzerling       │\n",
       "│ Manish Saini              │\n",
       "│ Habib Faisal              │\n",
       "│ Jorge Michel Grau         │\n",
       "│ Ben Young                 │\n",
       "│ Kees Van Oostrum          │\n",
       "│        ·                  │\n",
       "│        ·                  │\n",
       "│        ·                  │\n",
       "│ Andy Devonshire           │\n",
       "│ Monika Mitchell           │\n",
       "│ John Banas                │\n",
       "│ Matt Angel, Suzanne Coote │\n",
       "│ Joseph Ruben              │\n",
       "│ Sukum Maetawanitch        │\n",
       "│ Babak Anvari              │\n",
       "│ John Michael McDonagh     │\n",
       "│ David Serrano             │\n",
       "│ Steve Bencich             │\n",
       "├───────────────────────────┤\n",
       "│   4051 rows (20 shown)    │\n",
       "└───────────────────────────┘"
      ]
     },
     "execution_count": 36,
     "metadata": {},
     "output_type": "execute_result"
    }
   ],
   "source": [
    "db.sql(\"SELECT DISTINCT Director FROM netflix\")"
   ]
  },
  {
   "cell_type": "code",
   "execution_count": 37,
   "metadata": {},
   "outputs": [
    {
     "data": {
      "text/plain": [
       "┌─────────────────────┬───────┐\n",
       "│      Director       │ Total │\n",
       "│       varchar       │ int64 │\n",
       "├─────────────────────┼───────┤\n",
       "│ Jan Suter           │    21 │\n",
       "│ Raúl Campos         │    19 │\n",
       "│ Marcus Raboy        │    16 │\n",
       "│ Jay Karas           │    15 │\n",
       "│ Cathy Garcia-Molina │    13 │\n",
       "│ Martin Scorsese     │    12 │\n",
       "│ Jay Chapman         │    12 │\n",
       "│ Youssef Chahine     │    12 │\n",
       "│ Steven Spielberg    │    10 │\n",
       "│ Shannon Hartman     │     9 │\n",
       "├─────────────────────┴───────┤\n",
       "│ 10 rows           2 columns │\n",
       "└─────────────────────────────┘"
      ]
     },
     "execution_count": 37,
     "metadata": {},
     "output_type": "execute_result"
    }
   ],
   "source": [
    "# Como possuem diretores que estão agrupados em um filme, estou os separando para uma contagem real\n",
    "db.sql(\"\"\"\n",
    "       SELECT Director, COUNT(*) AS Total \n",
    "       FROM\n",
    "       (\n",
    "         SELECT \n",
    "         TRIM(UNNEST(SPLIT(Director, ','))) AS Director\n",
    "         FROM netflix\n",
    "       )\n",
    "       GROUP BY Director\n",
    "       ORDER BY COUNT(*) DESC\n",
    "       LIMIT 10;\n",
    "\n",
    "    \"\"\")"
   ]
  },
  {
   "cell_type": "markdown",
   "metadata": {},
   "source": [
    "Logo, vemos os 10 principais diretores que deram maior conteúdo para a netflix"
   ]
  },
  {
   "cell_type": "markdown",
   "metadata": {},
   "source": [
    "E agora irei separar por filme e série"
   ]
  },
  {
   "cell_type": "code",
   "execution_count": 38,
   "metadata": {},
   "outputs": [
    {
     "data": {
      "text/plain": [
       "┌─────────────────────┬───────┐\n",
       "│      Director       │ Total │\n",
       "│       varchar       │ int64 │\n",
       "├─────────────────────┼───────┤\n",
       "│ Jan Suter           │    21 │\n",
       "│ Raúl Campos         │    19 │\n",
       "│ Jay Karas           │    15 │\n",
       "│ Marcus Raboy        │    15 │\n",
       "│ Cathy Garcia-Molina │    13 │\n",
       "│ Jay Chapman         │    12 │\n",
       "│ Martin Scorsese     │    12 │\n",
       "│ Youssef Chahine     │    12 │\n",
       "│ Steven Spielberg    │    10 │\n",
       "│ David Dhawan        │     9 │\n",
       "├─────────────────────┴───────┤\n",
       "│ 10 rows           2 columns │\n",
       "└─────────────────────────────┘"
      ]
     },
     "execution_count": 38,
     "metadata": {},
     "output_type": "execute_result"
    }
   ],
   "source": [
    "# Por filme\n",
    "db.sql(\"\"\"\n",
    "       SELECT Director, COUNT(*) AS Total \n",
    "       FROM\n",
    "       (\n",
    "         SELECT \n",
    "         TRIM(UNNEST(SPLIT(Director, ','))) AS Director\n",
    "         FROM netflix\n",
    "         WHERE Category = 'Movie'\n",
    "       )\n",
    "       GROUP BY Director\n",
    "       ORDER BY COUNT(*) DESC\n",
    "       LIMIT 10;\n",
    "\n",
    "    \"\"\")"
   ]
  },
  {
   "cell_type": "code",
   "execution_count": 39,
   "metadata": {},
   "outputs": [
    {
     "data": {
      "text/plain": [
       "┌─────────────────────┬───────┐\n",
       "│      Director       │ Total │\n",
       "│       varchar       │ int64 │\n",
       "├─────────────────────┼───────┤\n",
       "│ Ken Burns           │     3 │\n",
       "│ Alastair Fothergill │     3 │\n",
       "│ Rob Seidenglanz     │     2 │\n",
       "│ Jung-ah Im          │     2 │\n",
       "│ Lynn Novick         │     2 │\n",
       "│ Stan Lathan         │     2 │\n",
       "│ Iginio Straffi      │     2 │\n",
       "│ Shin Won-ho         │     2 │\n",
       "│ Faris Godus         │     1 │\n",
       "│ Tig Notaro          │     1 │\n",
       "├─────────────────────┴───────┤\n",
       "│ 10 rows           2 columns │\n",
       "└─────────────────────────────┘"
      ]
     },
     "execution_count": 39,
     "metadata": {},
     "output_type": "execute_result"
    }
   ],
   "source": [
    "# Por série\n",
    "db.sql(\"\"\"\n",
    "       SELECT Director, COUNT(*) AS Total \n",
    "       FROM\n",
    "       (\n",
    "         SELECT \n",
    "         TRIM(UNNEST(SPLIT(Director, ','))) AS Director\n",
    "         FROM netflix\n",
    "         WHERE Category = 'TV Show'\n",
    "       )\n",
    "       GROUP BY Director\n",
    "       ORDER BY COUNT(*) DESC\n",
    "       LIMIT 10;\n",
    "    \"\"\")"
   ]
  },
  {
   "cell_type": "markdown",
   "metadata": {},
   "source": [
    "### 7 - Mostre todos os registros, onde \"Categoria é Filme e Tipo é Comédias\" ou \"País é Reino Unido\"."
   ]
  },
  {
   "cell_type": "code",
   "execution_count": 40,
   "metadata": {},
   "outputs": [
    {
     "data": {
      "text/html": [
       "<div>\n",
       "<style scoped>\n",
       "    .dataframe tbody tr th:only-of-type {\n",
       "        vertical-align: middle;\n",
       "    }\n",
       "\n",
       "    .dataframe tbody tr th {\n",
       "        vertical-align: top;\n",
       "    }\n",
       "\n",
       "    .dataframe thead th {\n",
       "        text-align: right;\n",
       "    }\n",
       "</style>\n",
       "<table border=\"1\" class=\"dataframe\">\n",
       "  <thead>\n",
       "    <tr style=\"text-align: right;\">\n",
       "      <th></th>\n",
       "      <th>Country</th>\n",
       "    </tr>\n",
       "  </thead>\n",
       "  <tbody>\n",
       "    <tr>\n",
       "      <th>0</th>\n",
       "      <td>India</td>\n",
       "    </tr>\n",
       "    <tr>\n",
       "      <th>1</th>\n",
       "      <td>Egypt</td>\n",
       "    </tr>\n",
       "    <tr>\n",
       "      <th>2</th>\n",
       "      <td>Ireland</td>\n",
       "    </tr>\n",
       "    <tr>\n",
       "      <th>3</th>\n",
       "      <td>Japan</td>\n",
       "    </tr>\n",
       "    <tr>\n",
       "      <th>4</th>\n",
       "      <td>France, China, Japan, United States</td>\n",
       "    </tr>\n",
       "    <tr>\n",
       "      <th>...</th>\n",
       "      <td>...</td>\n",
       "    </tr>\n",
       "    <tr>\n",
       "      <th>677</th>\n",
       "      <td>Philippines, Singapore</td>\n",
       "    </tr>\n",
       "    <tr>\n",
       "      <th>678</th>\n",
       "      <td>Jordan</td>\n",
       "    </tr>\n",
       "    <tr>\n",
       "      <th>679</th>\n",
       "      <td>Finland</td>\n",
       "    </tr>\n",
       "    <tr>\n",
       "      <th>680</th>\n",
       "      <td>Australia, United Kingdom, United States, New ...</td>\n",
       "    </tr>\n",
       "    <tr>\n",
       "      <th>681</th>\n",
       "      <td>United States, Canada, Japan, Panama</td>\n",
       "    </tr>\n",
       "  </tbody>\n",
       "</table>\n",
       "<p>682 rows × 1 columns</p>\n",
       "</div>"
      ],
      "text/plain": [
       "                                               Country\n",
       "0                                                India\n",
       "1                                                Egypt\n",
       "2                                              Ireland\n",
       "3                                                Japan\n",
       "4                  France, China, Japan, United States\n",
       "..                                                 ...\n",
       "677                             Philippines, Singapore\n",
       "678                                             Jordan\n",
       "679                                            Finland\n",
       "680  Australia, United Kingdom, United States, New ...\n",
       "681               United States, Canada, Japan, Panama\n",
       "\n",
       "[682 rows x 1 columns]"
      ]
     },
     "execution_count": 40,
     "metadata": {},
     "output_type": "execute_result"
    }
   ],
   "source": [
    "db.sql(\"SELECT DISTINCT Country FROM netflix \").df()"
   ]
  },
  {
   "cell_type": "code",
   "execution_count": 41,
   "metadata": {},
   "outputs": [
    {
     "data": {
      "text/html": [
       "<div>\n",
       "<style scoped>\n",
       "    .dataframe tbody tr th:only-of-type {\n",
       "        vertical-align: middle;\n",
       "    }\n",
       "\n",
       "    .dataframe tbody tr th {\n",
       "        vertical-align: top;\n",
       "    }\n",
       "\n",
       "    .dataframe thead th {\n",
       "        text-align: right;\n",
       "    }\n",
       "</style>\n",
       "<table border=\"1\" class=\"dataframe\">\n",
       "  <thead>\n",
       "    <tr style=\"text-align: right;\">\n",
       "      <th></th>\n",
       "      <th>Type</th>\n",
       "    </tr>\n",
       "  </thead>\n",
       "  <tbody>\n",
       "    <tr>\n",
       "      <th>0</th>\n",
       "      <td>Dramas, Thrillers</td>\n",
       "    </tr>\n",
       "    <tr>\n",
       "      <th>1</th>\n",
       "      <td>Comedies, Dramas, Romantic Movies</td>\n",
       "    </tr>\n",
       "    <tr>\n",
       "      <th>2</th>\n",
       "      <td>Comedies, International Movies, Music &amp; Musicals</td>\n",
       "    </tr>\n",
       "    <tr>\n",
       "      <th>3</th>\n",
       "      <td>Independent Movies, Thrillers</td>\n",
       "    </tr>\n",
       "    <tr>\n",
       "      <th>4</th>\n",
       "      <td>Dramas, International Movies, Thrillers</td>\n",
       "    </tr>\n",
       "    <tr>\n",
       "      <th>...</th>\n",
       "      <td>...</td>\n",
       "    </tr>\n",
       "    <tr>\n",
       "      <th>487</th>\n",
       "      <td>Classic Movies, Thrillers</td>\n",
       "    </tr>\n",
       "    <tr>\n",
       "      <th>488</th>\n",
       "      <td>Kids' TV, Reality TV, Science &amp; Nature TV</td>\n",
       "    </tr>\n",
       "    <tr>\n",
       "      <th>489</th>\n",
       "      <td>Docuseries, Kids' TV, Science &amp; Nature TV</td>\n",
       "    </tr>\n",
       "    <tr>\n",
       "      <th>490</th>\n",
       "      <td>Classic &amp; Cult TV, Kids' TV, TV Action &amp; Adven...</td>\n",
       "    </tr>\n",
       "    <tr>\n",
       "      <th>491</th>\n",
       "      <td>Classic &amp; Cult TV, TV Dramas, TV Sci-Fi &amp; Fantasy</td>\n",
       "    </tr>\n",
       "  </tbody>\n",
       "</table>\n",
       "<p>492 rows × 1 columns</p>\n",
       "</div>"
      ],
      "text/plain": [
       "                                                  Type\n",
       "0                                    Dramas, Thrillers\n",
       "1                    Comedies, Dramas, Romantic Movies\n",
       "2     Comedies, International Movies, Music & Musicals\n",
       "3                        Independent Movies, Thrillers\n",
       "4              Dramas, International Movies, Thrillers\n",
       "..                                                 ...\n",
       "487                          Classic Movies, Thrillers\n",
       "488          Kids' TV, Reality TV, Science & Nature TV\n",
       "489          Docuseries, Kids' TV, Science & Nature TV\n",
       "490  Classic & Cult TV, Kids' TV, TV Action & Adven...\n",
       "491  Classic & Cult TV, TV Dramas, TV Sci-Fi & Fantasy\n",
       "\n",
       "[492 rows x 1 columns]"
      ]
     },
     "execution_count": 41,
     "metadata": {},
     "output_type": "execute_result"
    }
   ],
   "source": [
    "db.sql(\"SELECT DISTINCT Type FROM netflix \").df()"
   ]
  },
  {
   "cell_type": "code",
   "execution_count": 42,
   "metadata": {},
   "outputs": [
    {
     "data": {
      "text/html": [
       "<div>\n",
       "<style scoped>\n",
       "    .dataframe tbody tr th:only-of-type {\n",
       "        vertical-align: middle;\n",
       "    }\n",
       "\n",
       "    .dataframe tbody tr th {\n",
       "        vertical-align: top;\n",
       "    }\n",
       "\n",
       "    .dataframe thead th {\n",
       "        text-align: right;\n",
       "    }\n",
       "</style>\n",
       "<table border=\"1\" class=\"dataframe\">\n",
       "  <thead>\n",
       "    <tr style=\"text-align: right;\">\n",
       "      <th></th>\n",
       "      <th>Show_Id</th>\n",
       "      <th>Category</th>\n",
       "      <th>Title</th>\n",
       "      <th>Director</th>\n",
       "      <th>Cast</th>\n",
       "      <th>Country</th>\n",
       "      <th>Release_Date</th>\n",
       "      <th>Rating</th>\n",
       "      <th>Duration</th>\n",
       "      <th>Type</th>\n",
       "      <th>Description</th>\n",
       "      <th>Year</th>\n",
       "    </tr>\n",
       "  </thead>\n",
       "  <tbody>\n",
       "    <tr>\n",
       "      <th>0</th>\n",
       "      <td>s1404</td>\n",
       "      <td>Movie</td>\n",
       "      <td>City of Tiny Lights</td>\n",
       "      <td>Pete Travis</td>\n",
       "      <td>Riz Ahmed, Billie Piper, James Floyd, Cush Jum...</td>\n",
       "      <td>United Kingdom</td>\n",
       "      <td>2017-07-21</td>\n",
       "      <td>TV-MA</td>\n",
       "      <td>110 min</td>\n",
       "      <td>Dramas, International Movies, Thrillers</td>\n",
       "      <td>In moody London, a burned-out sleuth sinks int...</td>\n",
       "      <td>2017.0</td>\n",
       "    </tr>\n",
       "    <tr>\n",
       "      <th>1</th>\n",
       "      <td>s1618</td>\n",
       "      <td>Movie</td>\n",
       "      <td>Dark Places</td>\n",
       "      <td>Gilles Paquet-Brenner</td>\n",
       "      <td>Charlize Theron, Nicholas Hoult, Chloë Grace M...</td>\n",
       "      <td>United States, United Kingdom, France</td>\n",
       "      <td>2018-07-26</td>\n",
       "      <td>R</td>\n",
       "      <td>113 min</td>\n",
       "      <td>Dramas, International Movies, Thrillers</td>\n",
       "      <td>Years after surviving a brutal crime as a chil...</td>\n",
       "      <td>2018.0</td>\n",
       "    </tr>\n",
       "    <tr>\n",
       "      <th>2</th>\n",
       "      <td>s2131</td>\n",
       "      <td>TV Show</td>\n",
       "      <td>Father Brown</td>\n",
       "      <td>Ian Barber</td>\n",
       "      <td>Mark Williams, Sorcha Cusack, Nancy Carroll, A...</td>\n",
       "      <td>United Kingdom</td>\n",
       "      <td>2018-03-31</td>\n",
       "      <td>TV-14</td>\n",
       "      <td>6 Seasons</td>\n",
       "      <td>British TV Shows, Crime TV Shows, TV Dramas</td>\n",
       "      <td>A modest, compassionate priest doubles as an e...</td>\n",
       "      <td>2018.0</td>\n",
       "    </tr>\n",
       "    <tr>\n",
       "      <th>3</th>\n",
       "      <td>s2226</td>\n",
       "      <td>Movie</td>\n",
       "      <td>For Love or Money</td>\n",
       "      <td>Mark Murphy</td>\n",
       "      <td>Robert Kazinsky, Samantha Barks, Ed Speleers, ...</td>\n",
       "      <td>United Kingdom</td>\n",
       "      <td>2019-08-16</td>\n",
       "      <td>TV-MA</td>\n",
       "      <td>95 min</td>\n",
       "      <td>Comedies</td>\n",
       "      <td>When a goofy but likable millionaire discovers...</td>\n",
       "      <td>2019.0</td>\n",
       "    </tr>\n",
       "    <tr>\n",
       "      <th>4</th>\n",
       "      <td>s2236</td>\n",
       "      <td>TV Show</td>\n",
       "      <td>Forces of Nature</td>\n",
       "      <td>None</td>\n",
       "      <td>None</td>\n",
       "      <td>United Kingdom</td>\n",
       "      <td>2017-03-01</td>\n",
       "      <td>TV-PG</td>\n",
       "      <td>1 Season</td>\n",
       "      <td>British TV Shows, Docuseries, Science &amp; Nature TV</td>\n",
       "      <td>This dynamic series spans the globe to explain...</td>\n",
       "      <td>2017.0</td>\n",
       "    </tr>\n",
       "    <tr>\n",
       "      <th>...</th>\n",
       "      <td>...</td>\n",
       "      <td>...</td>\n",
       "      <td>...</td>\n",
       "      <td>...</td>\n",
       "      <td>...</td>\n",
       "      <td>...</td>\n",
       "      <td>...</td>\n",
       "      <td>...</td>\n",
       "      <td>...</td>\n",
       "      <td>...</td>\n",
       "      <td>...</td>\n",
       "      <td>...</td>\n",
       "    </tr>\n",
       "    <tr>\n",
       "      <th>2104</th>\n",
       "      <td>s7548</td>\n",
       "      <td>Movie</td>\n",
       "      <td>What Are the Odds?</td>\n",
       "      <td>Megha Ramaswamy</td>\n",
       "      <td>Yashaswini Dayama, Karanvir Malhotra, Abhay De...</td>\n",
       "      <td>India</td>\n",
       "      <td>2020-05-20</td>\n",
       "      <td>TV-MA</td>\n",
       "      <td>92 min</td>\n",
       "      <td>Comedies, Dramas, Independent Movies</td>\n",
       "      <td>When two unlikely friends play hooky from scho...</td>\n",
       "      <td>2020.0</td>\n",
       "    </tr>\n",
       "    <tr>\n",
       "      <th>2105</th>\n",
       "      <td>s7663</td>\n",
       "      <td>Movie</td>\n",
       "      <td>Work It</td>\n",
       "      <td>Laura Terruso</td>\n",
       "      <td>Sabrina Carpenter, Jordan Fisher, Liza Koshy, ...</td>\n",
       "      <td>United States</td>\n",
       "      <td>2020-08-07</td>\n",
       "      <td>TV-14</td>\n",
       "      <td>94 min</td>\n",
       "      <td>Comedies</td>\n",
       "      <td>A brilliant but clumsy high school senior vows...</td>\n",
       "      <td>2020.0</td>\n",
       "    </tr>\n",
       "    <tr>\n",
       "      <th>2106</th>\n",
       "      <td>s7759</td>\n",
       "      <td>Movie</td>\n",
       "      <td>Zack and Miri Make a Porno</td>\n",
       "      <td>Kevin Smith</td>\n",
       "      <td>Seth Rogen, Elizabeth Banks, Craig Robinson, J...</td>\n",
       "      <td>United States</td>\n",
       "      <td>2018-10-01</td>\n",
       "      <td>R</td>\n",
       "      <td>101 min</td>\n",
       "      <td>Comedies, Independent Movies, Romantic Movies</td>\n",
       "      <td>Zack and Miri make and star in an adult film t...</td>\n",
       "      <td>2018.0</td>\n",
       "    </tr>\n",
       "    <tr>\n",
       "      <th>2107</th>\n",
       "      <td>s79</td>\n",
       "      <td>Movie</td>\n",
       "      <td>2 States</td>\n",
       "      <td>Abhishek Varman</td>\n",
       "      <td>Alia Bhatt, Arjun Kapoor, Ronit Roy, Amrita Si...</td>\n",
       "      <td>India</td>\n",
       "      <td>2018-08-04</td>\n",
       "      <td>TV-PG</td>\n",
       "      <td>143 min</td>\n",
       "      <td>Comedies, Dramas, International Movies</td>\n",
       "      <td>Graduate students Krish and Ananya hope to win...</td>\n",
       "      <td>2018.0</td>\n",
       "    </tr>\n",
       "    <tr>\n",
       "      <th>2108</th>\n",
       "      <td>s978</td>\n",
       "      <td>Movie</td>\n",
       "      <td>Blessed Benefit</td>\n",
       "      <td>Mahmoud al Massad</td>\n",
       "      <td>Ahmad Thaher, Maher Khammash, Odai Hijazi, Nad...</td>\n",
       "      <td>Germany, Jordan, Netherlands</td>\n",
       "      <td>2017-10-13</td>\n",
       "      <td>TV-14</td>\n",
       "      <td>83 min</td>\n",
       "      <td>Comedies, Dramas, International Movies</td>\n",
       "      <td>After being wrongfully convicted of fraud, an ...</td>\n",
       "      <td>2017.0</td>\n",
       "    </tr>\n",
       "  </tbody>\n",
       "</table>\n",
       "<p>2109 rows × 12 columns</p>\n",
       "</div>"
      ],
      "text/plain": [
       "     Show_Id Category                       Title               Director  \\\n",
       "0      s1404    Movie         City of Tiny Lights            Pete Travis   \n",
       "1      s1618    Movie                 Dark Places  Gilles Paquet-Brenner   \n",
       "2      s2131  TV Show                Father Brown             Ian Barber   \n",
       "3      s2226    Movie           For Love or Money            Mark Murphy   \n",
       "4      s2236  TV Show            Forces of Nature                   None   \n",
       "...      ...      ...                         ...                    ...   \n",
       "2104   s7548    Movie          What Are the Odds?        Megha Ramaswamy   \n",
       "2105   s7663    Movie                     Work It          Laura Terruso   \n",
       "2106   s7759    Movie  Zack and Miri Make a Porno            Kevin Smith   \n",
       "2107     s79    Movie                    2 States        Abhishek Varman   \n",
       "2108    s978    Movie             Blessed Benefit      Mahmoud al Massad   \n",
       "\n",
       "                                                   Cast  \\\n",
       "0     Riz Ahmed, Billie Piper, James Floyd, Cush Jum...   \n",
       "1     Charlize Theron, Nicholas Hoult, Chloë Grace M...   \n",
       "2     Mark Williams, Sorcha Cusack, Nancy Carroll, A...   \n",
       "3     Robert Kazinsky, Samantha Barks, Ed Speleers, ...   \n",
       "4                                                  None   \n",
       "...                                                 ...   \n",
       "2104  Yashaswini Dayama, Karanvir Malhotra, Abhay De...   \n",
       "2105  Sabrina Carpenter, Jordan Fisher, Liza Koshy, ...   \n",
       "2106  Seth Rogen, Elizabeth Banks, Craig Robinson, J...   \n",
       "2107  Alia Bhatt, Arjun Kapoor, Ronit Roy, Amrita Si...   \n",
       "2108  Ahmad Thaher, Maher Khammash, Odai Hijazi, Nad...   \n",
       "\n",
       "                                    Country Release_Date Rating   Duration  \\\n",
       "0                            United Kingdom   2017-07-21  TV-MA    110 min   \n",
       "1     United States, United Kingdom, France   2018-07-26      R    113 min   \n",
       "2                            United Kingdom   2018-03-31  TV-14  6 Seasons   \n",
       "3                            United Kingdom   2019-08-16  TV-MA     95 min   \n",
       "4                            United Kingdom   2017-03-01  TV-PG   1 Season   \n",
       "...                                     ...          ...    ...        ...   \n",
       "2104                                  India   2020-05-20  TV-MA     92 min   \n",
       "2105                          United States   2020-08-07  TV-14     94 min   \n",
       "2106                          United States   2018-10-01      R    101 min   \n",
       "2107                                  India   2018-08-04  TV-PG    143 min   \n",
       "2108           Germany, Jordan, Netherlands   2017-10-13  TV-14     83 min   \n",
       "\n",
       "                                                   Type  \\\n",
       "0               Dramas, International Movies, Thrillers   \n",
       "1               Dramas, International Movies, Thrillers   \n",
       "2           British TV Shows, Crime TV Shows, TV Dramas   \n",
       "3                                              Comedies   \n",
       "4     British TV Shows, Docuseries, Science & Nature TV   \n",
       "...                                                 ...   \n",
       "2104               Comedies, Dramas, Independent Movies   \n",
       "2105                                           Comedies   \n",
       "2106      Comedies, Independent Movies, Romantic Movies   \n",
       "2107             Comedies, Dramas, International Movies   \n",
       "2108             Comedies, Dramas, International Movies   \n",
       "\n",
       "                                            Description    Year  \n",
       "0     In moody London, a burned-out sleuth sinks int...  2017.0  \n",
       "1     Years after surviving a brutal crime as a chil...  2018.0  \n",
       "2     A modest, compassionate priest doubles as an e...  2018.0  \n",
       "3     When a goofy but likable millionaire discovers...  2019.0  \n",
       "4     This dynamic series spans the globe to explain...  2017.0  \n",
       "...                                                 ...     ...  \n",
       "2104  When two unlikely friends play hooky from scho...  2020.0  \n",
       "2105  A brilliant but clumsy high school senior vows...  2020.0  \n",
       "2106  Zack and Miri make and star in an adult film t...  2018.0  \n",
       "2107  Graduate students Krish and Ananya hope to win...  2018.0  \n",
       "2108  After being wrongfully convicted of fraud, an ...  2017.0  \n",
       "\n",
       "[2109 rows x 12 columns]"
      ]
     },
     "execution_count": 42,
     "metadata": {},
     "output_type": "execute_result"
    }
   ],
   "source": [
    "db.sql(\"SELECT * FROM netflix WHERE (Category = 'Movie' AND Type like '%Comedies%') OR Country like '%United Kingdom%'\").df()"
   ]
  },
  {
   "cell_type": "markdown",
   "metadata": {},
   "source": [
    "No total tem 2110 registros que correspondem aos filtros indicados"
   ]
  },
  {
   "cell_type": "markdown",
   "metadata": {},
   "source": [
    "### 8 - Em quantos filmes/séries Tom Cruise atuou?"
   ]
  },
  {
   "cell_type": "code",
   "execution_count": 43,
   "metadata": {},
   "outputs": [
    {
     "data": {
      "text/plain": [
       "┌───────┐\n",
       "│ Total │\n",
       "│ int64 │\n",
       "├───────┤\n",
       "│     2 │\n",
       "└───────┘"
      ]
     },
     "execution_count": 43,
     "metadata": {},
     "output_type": "execute_result"
    }
   ],
   "source": [
    "db.sql(\"SELECT COUNT(*) AS Total FROM netflix n WHERE n.Cast like '%Tom Cruise%'\")"
   ]
  },
  {
   "cell_type": "markdown",
   "metadata": {},
   "source": [
    "No total foram 2 filmes, sendo eles:"
   ]
  },
  {
   "cell_type": "code",
   "execution_count": 44,
   "metadata": {},
   "outputs": [
    {
     "data": {
      "text/html": [
       "<div>\n",
       "<style scoped>\n",
       "    .dataframe tbody tr th:only-of-type {\n",
       "        vertical-align: middle;\n",
       "    }\n",
       "\n",
       "    .dataframe tbody tr th {\n",
       "        vertical-align: top;\n",
       "    }\n",
       "\n",
       "    .dataframe thead th {\n",
       "        text-align: right;\n",
       "    }\n",
       "</style>\n",
       "<table border=\"1\" class=\"dataframe\">\n",
       "  <thead>\n",
       "    <tr style=\"text-align: right;\">\n",
       "      <th></th>\n",
       "      <th>Show_Id</th>\n",
       "      <th>Category</th>\n",
       "      <th>Title</th>\n",
       "      <th>Director</th>\n",
       "      <th>Cast</th>\n",
       "      <th>Country</th>\n",
       "      <th>Release_Date</th>\n",
       "      <th>Rating</th>\n",
       "      <th>Duration</th>\n",
       "      <th>Type</th>\n",
       "      <th>Description</th>\n",
       "      <th>Year</th>\n",
       "    </tr>\n",
       "  </thead>\n",
       "  <tbody>\n",
       "    <tr>\n",
       "      <th>0</th>\n",
       "      <td>s5071</td>\n",
       "      <td>Movie</td>\n",
       "      <td>Rain Man</td>\n",
       "      <td>Barry Levinson</td>\n",
       "      <td>Dustin Hoffman, Tom Cruise, Valeria Golino, Ge...</td>\n",
       "      <td>United States</td>\n",
       "      <td>2019-07-01</td>\n",
       "      <td>R</td>\n",
       "      <td>134 min</td>\n",
       "      <td>Classic Movies, Dramas</td>\n",
       "      <td>A fast-talking yuppie is forced to slow down w...</td>\n",
       "      <td>2019</td>\n",
       "    </tr>\n",
       "    <tr>\n",
       "      <th>1</th>\n",
       "      <td>s3861</td>\n",
       "      <td>Movie</td>\n",
       "      <td>Magnolia</td>\n",
       "      <td>Paul Thomas Anderson</td>\n",
       "      <td>Jeremy Blackman, Tom Cruise, Melinda Dillon, A...</td>\n",
       "      <td>United States</td>\n",
       "      <td>2020-01-01</td>\n",
       "      <td>R</td>\n",
       "      <td>189 min</td>\n",
       "      <td>Dramas, Independent Movies</td>\n",
       "      <td>Through chance, human action, past history and...</td>\n",
       "      <td>2020</td>\n",
       "    </tr>\n",
       "  </tbody>\n",
       "</table>\n",
       "</div>"
      ],
      "text/plain": [
       "  Show_Id Category     Title              Director  \\\n",
       "0   s5071    Movie  Rain Man        Barry Levinson   \n",
       "1   s3861    Movie  Magnolia  Paul Thomas Anderson   \n",
       "\n",
       "                                                Cast        Country  \\\n",
       "0  Dustin Hoffman, Tom Cruise, Valeria Golino, Ge...  United States   \n",
       "1  Jeremy Blackman, Tom Cruise, Melinda Dillon, A...  United States   \n",
       "\n",
       "  Release_Date Rating Duration                        Type  \\\n",
       "0   2019-07-01      R  134 min      Classic Movies, Dramas   \n",
       "1   2020-01-01      R  189 min  Dramas, Independent Movies   \n",
       "\n",
       "                                         Description  Year  \n",
       "0  A fast-talking yuppie is forced to slow down w...  2019  \n",
       "1  Through chance, human action, past history and...  2020  "
      ]
     },
     "execution_count": 44,
     "metadata": {},
     "output_type": "execute_result"
    }
   ],
   "source": [
    "db.sql(\"SELECT * FROM netflix n WHERE n.Cast like '%Tom Cruise%'\").df()"
   ]
  },
  {
   "cell_type": "markdown",
   "metadata": {},
   "source": [
    "### 9 - Quais são as diferentes classificações definidas pela Netflix?"
   ]
  },
  {
   "cell_type": "code",
   "execution_count": 45,
   "metadata": {},
   "outputs": [
    {
     "data": {
      "text/html": [
       "<div>\n",
       "<style scoped>\n",
       "    .dataframe tbody tr th:only-of-type {\n",
       "        vertical-align: middle;\n",
       "    }\n",
       "\n",
       "    .dataframe tbody tr th {\n",
       "        vertical-align: top;\n",
       "    }\n",
       "\n",
       "    .dataframe thead th {\n",
       "        text-align: right;\n",
       "    }\n",
       "</style>\n",
       "<table border=\"1\" class=\"dataframe\">\n",
       "  <thead>\n",
       "    <tr style=\"text-align: right;\">\n",
       "      <th></th>\n",
       "      <th>Rating</th>\n",
       "    </tr>\n",
       "  </thead>\n",
       "  <tbody>\n",
       "    <tr>\n",
       "      <th>0</th>\n",
       "      <td>NC-17</td>\n",
       "    </tr>\n",
       "    <tr>\n",
       "      <th>1</th>\n",
       "      <td>TV-PG</td>\n",
       "    </tr>\n",
       "    <tr>\n",
       "      <th>2</th>\n",
       "      <td>TV-MA</td>\n",
       "    </tr>\n",
       "    <tr>\n",
       "      <th>3</th>\n",
       "      <td>R</td>\n",
       "    </tr>\n",
       "    <tr>\n",
       "      <th>4</th>\n",
       "      <td>TV-G</td>\n",
       "    </tr>\n",
       "    <tr>\n",
       "      <th>5</th>\n",
       "      <td>PG</td>\n",
       "    </tr>\n",
       "    <tr>\n",
       "      <th>6</th>\n",
       "      <td>PG-13</td>\n",
       "    </tr>\n",
       "    <tr>\n",
       "      <th>7</th>\n",
       "      <td>NR</td>\n",
       "    </tr>\n",
       "    <tr>\n",
       "      <th>8</th>\n",
       "      <td>G</td>\n",
       "    </tr>\n",
       "    <tr>\n",
       "      <th>9</th>\n",
       "      <td>TV-Y7</td>\n",
       "    </tr>\n",
       "    <tr>\n",
       "      <th>10</th>\n",
       "      <td>UR</td>\n",
       "    </tr>\n",
       "    <tr>\n",
       "      <th>11</th>\n",
       "      <td>TV-Y</td>\n",
       "    </tr>\n",
       "    <tr>\n",
       "      <th>12</th>\n",
       "      <td>TV-14</td>\n",
       "    </tr>\n",
       "    <tr>\n",
       "      <th>13</th>\n",
       "      <td>None</td>\n",
       "    </tr>\n",
       "    <tr>\n",
       "      <th>14</th>\n",
       "      <td>TV-Y7-FV</td>\n",
       "    </tr>\n",
       "  </tbody>\n",
       "</table>\n",
       "</div>"
      ],
      "text/plain": [
       "      Rating\n",
       "0      NC-17\n",
       "1      TV-PG\n",
       "2      TV-MA\n",
       "3          R\n",
       "4       TV-G\n",
       "5         PG\n",
       "6      PG-13\n",
       "7         NR\n",
       "8          G\n",
       "9      TV-Y7\n",
       "10        UR\n",
       "11      TV-Y\n",
       "12     TV-14\n",
       "13      None\n",
       "14  TV-Y7-FV"
      ]
     },
     "execution_count": 45,
     "metadata": {},
     "output_type": "execute_result"
    }
   ],
   "source": [
    "# As classificações são\n",
    "db.sql(\"SELECT DISTINCT Rating FROM netflix\").df()"
   ]
  },
  {
   "cell_type": "code",
   "execution_count": 46,
   "metadata": {},
   "outputs": [
    {
     "data": {
      "text/html": [
       "<div>\n",
       "<style scoped>\n",
       "    .dataframe tbody tr th:only-of-type {\n",
       "        vertical-align: middle;\n",
       "    }\n",
       "\n",
       "    .dataframe tbody tr th {\n",
       "        vertical-align: top;\n",
       "    }\n",
       "\n",
       "    .dataframe thead th {\n",
       "        text-align: right;\n",
       "    }\n",
       "</style>\n",
       "<table border=\"1\" class=\"dataframe\">\n",
       "  <thead>\n",
       "    <tr style=\"text-align: right;\">\n",
       "      <th></th>\n",
       "      <th>Rating</th>\n",
       "      <th>Total</th>\n",
       "    </tr>\n",
       "  </thead>\n",
       "  <tbody>\n",
       "    <tr>\n",
       "      <th>0</th>\n",
       "      <td>TV-MA</td>\n",
       "      <td>2863</td>\n",
       "    </tr>\n",
       "    <tr>\n",
       "      <th>1</th>\n",
       "      <td>TV-14</td>\n",
       "      <td>1931</td>\n",
       "    </tr>\n",
       "    <tr>\n",
       "      <th>2</th>\n",
       "      <td>TV-PG</td>\n",
       "      <td>806</td>\n",
       "    </tr>\n",
       "    <tr>\n",
       "      <th>3</th>\n",
       "      <td>R</td>\n",
       "      <td>665</td>\n",
       "    </tr>\n",
       "    <tr>\n",
       "      <th>4</th>\n",
       "      <td>PG-13</td>\n",
       "      <td>386</td>\n",
       "    </tr>\n",
       "    <tr>\n",
       "      <th>5</th>\n",
       "      <td>TV-Y</td>\n",
       "      <td>280</td>\n",
       "    </tr>\n",
       "    <tr>\n",
       "      <th>6</th>\n",
       "      <td>TV-Y7</td>\n",
       "      <td>271</td>\n",
       "    </tr>\n",
       "    <tr>\n",
       "      <th>7</th>\n",
       "      <td>PG</td>\n",
       "      <td>247</td>\n",
       "    </tr>\n",
       "    <tr>\n",
       "      <th>8</th>\n",
       "      <td>TV-G</td>\n",
       "      <td>194</td>\n",
       "    </tr>\n",
       "    <tr>\n",
       "      <th>9</th>\n",
       "      <td>NR</td>\n",
       "      <td>84</td>\n",
       "    </tr>\n",
       "    <tr>\n",
       "      <th>10</th>\n",
       "      <td>G</td>\n",
       "      <td>39</td>\n",
       "    </tr>\n",
       "    <tr>\n",
       "      <th>11</th>\n",
       "      <td>None</td>\n",
       "      <td>7</td>\n",
       "    </tr>\n",
       "    <tr>\n",
       "      <th>12</th>\n",
       "      <td>TV-Y7-FV</td>\n",
       "      <td>6</td>\n",
       "    </tr>\n",
       "    <tr>\n",
       "      <th>13</th>\n",
       "      <td>UR</td>\n",
       "      <td>5</td>\n",
       "    </tr>\n",
       "    <tr>\n",
       "      <th>14</th>\n",
       "      <td>NC-17</td>\n",
       "      <td>3</td>\n",
       "    </tr>\n",
       "  </tbody>\n",
       "</table>\n",
       "</div>"
      ],
      "text/plain": [
       "      Rating  Total\n",
       "0      TV-MA   2863\n",
       "1      TV-14   1931\n",
       "2      TV-PG    806\n",
       "3          R    665\n",
       "4      PG-13    386\n",
       "5       TV-Y    280\n",
       "6      TV-Y7    271\n",
       "7         PG    247\n",
       "8       TV-G    194\n",
       "9         NR     84\n",
       "10         G     39\n",
       "11      None      7\n",
       "12  TV-Y7-FV      6\n",
       "13        UR      5\n",
       "14     NC-17      3"
      ]
     },
     "execution_count": 46,
     "metadata": {},
     "output_type": "execute_result"
    }
   ],
   "source": [
    "df_rating = db.sql(\"SELECT Rating, COUNT(*) AS Total FROM netflix GROUP BY Rating ORDER BY COUNT(*) DESC;\").df()\n",
    "df_rating"
   ]
  },
  {
   "cell_type": "code",
   "execution_count": 47,
   "metadata": {},
   "outputs": [
    {
     "data": {
      "application/vnd.plotly.v1+json": {
       "config": {
        "plotlyServerURL": "https://plot.ly"
       },
       "data": [
        {
         "alignmentgroup": "True",
         "hovertemplate": "Rating=%{x}<br>Total=%{y}<extra></extra>",
         "legendgroup": "",
         "marker": {
          "color": "#636efa",
          "pattern": {
           "shape": ""
          }
         },
         "name": "",
         "offsetgroup": "",
         "orientation": "v",
         "showlegend": false,
         "textposition": "auto",
         "texttemplate": "%{y}",
         "type": "bar",
         "x": [
          "NC-17",
          "UR",
          "TV-Y7-FV",
          null,
          "G",
          "NR",
          "TV-G",
          "PG",
          "TV-Y7",
          "TV-Y",
          "PG-13",
          "R",
          "TV-PG",
          "TV-14",
          "TV-MA"
         ],
         "xaxis": "x",
         "y": [
          3,
          5,
          6,
          7,
          39,
          84,
          194,
          247,
          271,
          280,
          386,
          665,
          806,
          1931,
          2863
         ],
         "yaxis": "y"
        }
       ],
       "layout": {
        "barmode": "relative",
        "legend": {
         "tracegroupgap": 0
        },
        "margin": {
         "t": 60
        },
        "template": {
         "data": {
          "bar": [
           {
            "error_x": {
             "color": "#2a3f5f"
            },
            "error_y": {
             "color": "#2a3f5f"
            },
            "marker": {
             "line": {
              "color": "#E5ECF6",
              "width": 0.5
             },
             "pattern": {
              "fillmode": "overlay",
              "size": 10,
              "solidity": 0.2
             }
            },
            "type": "bar"
           }
          ],
          "barpolar": [
           {
            "marker": {
             "line": {
              "color": "#E5ECF6",
              "width": 0.5
             },
             "pattern": {
              "fillmode": "overlay",
              "size": 10,
              "solidity": 0.2
             }
            },
            "type": "barpolar"
           }
          ],
          "carpet": [
           {
            "aaxis": {
             "endlinecolor": "#2a3f5f",
             "gridcolor": "white",
             "linecolor": "white",
             "minorgridcolor": "white",
             "startlinecolor": "#2a3f5f"
            },
            "baxis": {
             "endlinecolor": "#2a3f5f",
             "gridcolor": "white",
             "linecolor": "white",
             "minorgridcolor": "white",
             "startlinecolor": "#2a3f5f"
            },
            "type": "carpet"
           }
          ],
          "choropleth": [
           {
            "colorbar": {
             "outlinewidth": 0,
             "ticks": ""
            },
            "type": "choropleth"
           }
          ],
          "contour": [
           {
            "colorbar": {
             "outlinewidth": 0,
             "ticks": ""
            },
            "colorscale": [
             [
              0,
              "#0d0887"
             ],
             [
              0.1111111111111111,
              "#46039f"
             ],
             [
              0.2222222222222222,
              "#7201a8"
             ],
             [
              0.3333333333333333,
              "#9c179e"
             ],
             [
              0.4444444444444444,
              "#bd3786"
             ],
             [
              0.5555555555555556,
              "#d8576b"
             ],
             [
              0.6666666666666666,
              "#ed7953"
             ],
             [
              0.7777777777777778,
              "#fb9f3a"
             ],
             [
              0.8888888888888888,
              "#fdca26"
             ],
             [
              1,
              "#f0f921"
             ]
            ],
            "type": "contour"
           }
          ],
          "contourcarpet": [
           {
            "colorbar": {
             "outlinewidth": 0,
             "ticks": ""
            },
            "type": "contourcarpet"
           }
          ],
          "heatmap": [
           {
            "colorbar": {
             "outlinewidth": 0,
             "ticks": ""
            },
            "colorscale": [
             [
              0,
              "#0d0887"
             ],
             [
              0.1111111111111111,
              "#46039f"
             ],
             [
              0.2222222222222222,
              "#7201a8"
             ],
             [
              0.3333333333333333,
              "#9c179e"
             ],
             [
              0.4444444444444444,
              "#bd3786"
             ],
             [
              0.5555555555555556,
              "#d8576b"
             ],
             [
              0.6666666666666666,
              "#ed7953"
             ],
             [
              0.7777777777777778,
              "#fb9f3a"
             ],
             [
              0.8888888888888888,
              "#fdca26"
             ],
             [
              1,
              "#f0f921"
             ]
            ],
            "type": "heatmap"
           }
          ],
          "heatmapgl": [
           {
            "colorbar": {
             "outlinewidth": 0,
             "ticks": ""
            },
            "colorscale": [
             [
              0,
              "#0d0887"
             ],
             [
              0.1111111111111111,
              "#46039f"
             ],
             [
              0.2222222222222222,
              "#7201a8"
             ],
             [
              0.3333333333333333,
              "#9c179e"
             ],
             [
              0.4444444444444444,
              "#bd3786"
             ],
             [
              0.5555555555555556,
              "#d8576b"
             ],
             [
              0.6666666666666666,
              "#ed7953"
             ],
             [
              0.7777777777777778,
              "#fb9f3a"
             ],
             [
              0.8888888888888888,
              "#fdca26"
             ],
             [
              1,
              "#f0f921"
             ]
            ],
            "type": "heatmapgl"
           }
          ],
          "histogram": [
           {
            "marker": {
             "pattern": {
              "fillmode": "overlay",
              "size": 10,
              "solidity": 0.2
             }
            },
            "type": "histogram"
           }
          ],
          "histogram2d": [
           {
            "colorbar": {
             "outlinewidth": 0,
             "ticks": ""
            },
            "colorscale": [
             [
              0,
              "#0d0887"
             ],
             [
              0.1111111111111111,
              "#46039f"
             ],
             [
              0.2222222222222222,
              "#7201a8"
             ],
             [
              0.3333333333333333,
              "#9c179e"
             ],
             [
              0.4444444444444444,
              "#bd3786"
             ],
             [
              0.5555555555555556,
              "#d8576b"
             ],
             [
              0.6666666666666666,
              "#ed7953"
             ],
             [
              0.7777777777777778,
              "#fb9f3a"
             ],
             [
              0.8888888888888888,
              "#fdca26"
             ],
             [
              1,
              "#f0f921"
             ]
            ],
            "type": "histogram2d"
           }
          ],
          "histogram2dcontour": [
           {
            "colorbar": {
             "outlinewidth": 0,
             "ticks": ""
            },
            "colorscale": [
             [
              0,
              "#0d0887"
             ],
             [
              0.1111111111111111,
              "#46039f"
             ],
             [
              0.2222222222222222,
              "#7201a8"
             ],
             [
              0.3333333333333333,
              "#9c179e"
             ],
             [
              0.4444444444444444,
              "#bd3786"
             ],
             [
              0.5555555555555556,
              "#d8576b"
             ],
             [
              0.6666666666666666,
              "#ed7953"
             ],
             [
              0.7777777777777778,
              "#fb9f3a"
             ],
             [
              0.8888888888888888,
              "#fdca26"
             ],
             [
              1,
              "#f0f921"
             ]
            ],
            "type": "histogram2dcontour"
           }
          ],
          "mesh3d": [
           {
            "colorbar": {
             "outlinewidth": 0,
             "ticks": ""
            },
            "type": "mesh3d"
           }
          ],
          "parcoords": [
           {
            "line": {
             "colorbar": {
              "outlinewidth": 0,
              "ticks": ""
             }
            },
            "type": "parcoords"
           }
          ],
          "pie": [
           {
            "automargin": true,
            "type": "pie"
           }
          ],
          "scatter": [
           {
            "fillpattern": {
             "fillmode": "overlay",
             "size": 10,
             "solidity": 0.2
            },
            "type": "scatter"
           }
          ],
          "scatter3d": [
           {
            "line": {
             "colorbar": {
              "outlinewidth": 0,
              "ticks": ""
             }
            },
            "marker": {
             "colorbar": {
              "outlinewidth": 0,
              "ticks": ""
             }
            },
            "type": "scatter3d"
           }
          ],
          "scattercarpet": [
           {
            "marker": {
             "colorbar": {
              "outlinewidth": 0,
              "ticks": ""
             }
            },
            "type": "scattercarpet"
           }
          ],
          "scattergeo": [
           {
            "marker": {
             "colorbar": {
              "outlinewidth": 0,
              "ticks": ""
             }
            },
            "type": "scattergeo"
           }
          ],
          "scattergl": [
           {
            "marker": {
             "colorbar": {
              "outlinewidth": 0,
              "ticks": ""
             }
            },
            "type": "scattergl"
           }
          ],
          "scattermapbox": [
           {
            "marker": {
             "colorbar": {
              "outlinewidth": 0,
              "ticks": ""
             }
            },
            "type": "scattermapbox"
           }
          ],
          "scatterpolar": [
           {
            "marker": {
             "colorbar": {
              "outlinewidth": 0,
              "ticks": ""
             }
            },
            "type": "scatterpolar"
           }
          ],
          "scatterpolargl": [
           {
            "marker": {
             "colorbar": {
              "outlinewidth": 0,
              "ticks": ""
             }
            },
            "type": "scatterpolargl"
           }
          ],
          "scatterternary": [
           {
            "marker": {
             "colorbar": {
              "outlinewidth": 0,
              "ticks": ""
             }
            },
            "type": "scatterternary"
           }
          ],
          "surface": [
           {
            "colorbar": {
             "outlinewidth": 0,
             "ticks": ""
            },
            "colorscale": [
             [
              0,
              "#0d0887"
             ],
             [
              0.1111111111111111,
              "#46039f"
             ],
             [
              0.2222222222222222,
              "#7201a8"
             ],
             [
              0.3333333333333333,
              "#9c179e"
             ],
             [
              0.4444444444444444,
              "#bd3786"
             ],
             [
              0.5555555555555556,
              "#d8576b"
             ],
             [
              0.6666666666666666,
              "#ed7953"
             ],
             [
              0.7777777777777778,
              "#fb9f3a"
             ],
             [
              0.8888888888888888,
              "#fdca26"
             ],
             [
              1,
              "#f0f921"
             ]
            ],
            "type": "surface"
           }
          ],
          "table": [
           {
            "cells": {
             "fill": {
              "color": "#EBF0F8"
             },
             "line": {
              "color": "white"
             }
            },
            "header": {
             "fill": {
              "color": "#C8D4E3"
             },
             "line": {
              "color": "white"
             }
            },
            "type": "table"
           }
          ]
         },
         "layout": {
          "annotationdefaults": {
           "arrowcolor": "#2a3f5f",
           "arrowhead": 0,
           "arrowwidth": 1
          },
          "autotypenumbers": "strict",
          "coloraxis": {
           "colorbar": {
            "outlinewidth": 0,
            "ticks": ""
           }
          },
          "colorscale": {
           "diverging": [
            [
             0,
             "#8e0152"
            ],
            [
             0.1,
             "#c51b7d"
            ],
            [
             0.2,
             "#de77ae"
            ],
            [
             0.3,
             "#f1b6da"
            ],
            [
             0.4,
             "#fde0ef"
            ],
            [
             0.5,
             "#f7f7f7"
            ],
            [
             0.6,
             "#e6f5d0"
            ],
            [
             0.7,
             "#b8e186"
            ],
            [
             0.8,
             "#7fbc41"
            ],
            [
             0.9,
             "#4d9221"
            ],
            [
             1,
             "#276419"
            ]
           ],
           "sequential": [
            [
             0,
             "#0d0887"
            ],
            [
             0.1111111111111111,
             "#46039f"
            ],
            [
             0.2222222222222222,
             "#7201a8"
            ],
            [
             0.3333333333333333,
             "#9c179e"
            ],
            [
             0.4444444444444444,
             "#bd3786"
            ],
            [
             0.5555555555555556,
             "#d8576b"
            ],
            [
             0.6666666666666666,
             "#ed7953"
            ],
            [
             0.7777777777777778,
             "#fb9f3a"
            ],
            [
             0.8888888888888888,
             "#fdca26"
            ],
            [
             1,
             "#f0f921"
            ]
           ],
           "sequentialminus": [
            [
             0,
             "#0d0887"
            ],
            [
             0.1111111111111111,
             "#46039f"
            ],
            [
             0.2222222222222222,
             "#7201a8"
            ],
            [
             0.3333333333333333,
             "#9c179e"
            ],
            [
             0.4444444444444444,
             "#bd3786"
            ],
            [
             0.5555555555555556,
             "#d8576b"
            ],
            [
             0.6666666666666666,
             "#ed7953"
            ],
            [
             0.7777777777777778,
             "#fb9f3a"
            ],
            [
             0.8888888888888888,
             "#fdca26"
            ],
            [
             1,
             "#f0f921"
            ]
           ]
          },
          "colorway": [
           "#636efa",
           "#EF553B",
           "#00cc96",
           "#ab63fa",
           "#FFA15A",
           "#19d3f3",
           "#FF6692",
           "#B6E880",
           "#FF97FF",
           "#FECB52"
          ],
          "font": {
           "color": "#2a3f5f"
          },
          "geo": {
           "bgcolor": "white",
           "lakecolor": "white",
           "landcolor": "#E5ECF6",
           "showlakes": true,
           "showland": true,
           "subunitcolor": "white"
          },
          "hoverlabel": {
           "align": "left"
          },
          "hovermode": "closest",
          "mapbox": {
           "style": "light"
          },
          "paper_bgcolor": "white",
          "plot_bgcolor": "#E5ECF6",
          "polar": {
           "angularaxis": {
            "gridcolor": "white",
            "linecolor": "white",
            "ticks": ""
           },
           "bgcolor": "#E5ECF6",
           "radialaxis": {
            "gridcolor": "white",
            "linecolor": "white",
            "ticks": ""
           }
          },
          "scene": {
           "xaxis": {
            "backgroundcolor": "#E5ECF6",
            "gridcolor": "white",
            "gridwidth": 2,
            "linecolor": "white",
            "showbackground": true,
            "ticks": "",
            "zerolinecolor": "white"
           },
           "yaxis": {
            "backgroundcolor": "#E5ECF6",
            "gridcolor": "white",
            "gridwidth": 2,
            "linecolor": "white",
            "showbackground": true,
            "ticks": "",
            "zerolinecolor": "white"
           },
           "zaxis": {
            "backgroundcolor": "#E5ECF6",
            "gridcolor": "white",
            "gridwidth": 2,
            "linecolor": "white",
            "showbackground": true,
            "ticks": "",
            "zerolinecolor": "white"
           }
          },
          "shapedefaults": {
           "line": {
            "color": "#2a3f5f"
           }
          },
          "ternary": {
           "aaxis": {
            "gridcolor": "white",
            "linecolor": "white",
            "ticks": ""
           },
           "baxis": {
            "gridcolor": "white",
            "linecolor": "white",
            "ticks": ""
           },
           "bgcolor": "#E5ECF6",
           "caxis": {
            "gridcolor": "white",
            "linecolor": "white",
            "ticks": ""
           }
          },
          "title": {
           "x": 0.05
          },
          "xaxis": {
           "automargin": true,
           "gridcolor": "white",
           "linecolor": "white",
           "ticks": "",
           "title": {
            "standoff": 15
           },
           "zerolinecolor": "white",
           "zerolinewidth": 2
          },
          "yaxis": {
           "automargin": true,
           "gridcolor": "white",
           "linecolor": "white",
           "ticks": "",
           "title": {
            "standoff": 15
           },
           "zerolinecolor": "white",
           "zerolinewidth": 2
          }
         }
        },
        "xaxis": {
         "anchor": "y",
         "domain": [
          0,
          1
         ],
         "title": {
          "text": "Rating"
         }
        },
        "yaxis": {
         "anchor": "x",
         "domain": [
          0,
          1
         ],
         "title": {
          "text": "Total"
         }
        }
       }
      }
     },
     "metadata": {},
     "output_type": "display_data"
    }
   ],
   "source": [
    "df_rating = df_rating.sort_values(by='Total')\n",
    "fig = px.bar(df_rating, x='Rating', y='Total', text_auto=True)\n",
    "fig.show()"
   ]
  },
  {
   "cell_type": "markdown",
   "metadata": {},
   "source": [
    "#### Quantos filmes receberam a classificação 'TV-14' no Canadá?"
   ]
  },
  {
   "cell_type": "code",
   "execution_count": 48,
   "metadata": {},
   "outputs": [
    {
     "data": {
      "text/plain": [
       "┌───────┐\n",
       "│ Total │\n",
       "│ int64 │\n",
       "├───────┤\n",
       "│    26 │\n",
       "└───────┘"
      ]
     },
     "execution_count": 48,
     "metadata": {},
     "output_type": "execute_result"
    }
   ],
   "source": [
    "db.sql(\"\"\"\n",
    "       SELECT \n",
    "            COUNT(*) AS Total \n",
    "        FROM netflix \n",
    "        WHERE \n",
    "            Country LIKE '%Canada%' \n",
    "            AND Rating ='TV-14'\n",
    "            AND Category = 'Movie';\n",
    "       \"\"\")"
   ]
  },
  {
   "cell_type": "markdown",
   "metadata": {},
   "source": [
    "No total 26 filmes receberam a classificação TV-14 no Canadá"
   ]
  },
  {
   "cell_type": "markdown",
   "metadata": {},
   "source": [
    "Sendo os filmes:"
   ]
  },
  {
   "cell_type": "code",
   "execution_count": 49,
   "metadata": {},
   "outputs": [
    {
     "data": {
      "text/html": [
       "<div>\n",
       "<style scoped>\n",
       "    .dataframe tbody tr th:only-of-type {\n",
       "        vertical-align: middle;\n",
       "    }\n",
       "\n",
       "    .dataframe tbody tr th {\n",
       "        vertical-align: top;\n",
       "    }\n",
       "\n",
       "    .dataframe thead th {\n",
       "        text-align: right;\n",
       "    }\n",
       "</style>\n",
       "<table border=\"1\" class=\"dataframe\">\n",
       "  <thead>\n",
       "    <tr style=\"text-align: right;\">\n",
       "      <th></th>\n",
       "      <th>Title</th>\n",
       "    </tr>\n",
       "  </thead>\n",
       "  <tbody>\n",
       "    <tr>\n",
       "      <th>0</th>\n",
       "      <td>Sardaar ji</td>\n",
       "    </tr>\n",
       "    <tr>\n",
       "      <th>1</th>\n",
       "      <td>The Wrong Babysitter</td>\n",
       "    </tr>\n",
       "    <tr>\n",
       "      <th>2</th>\n",
       "      <td>#cats_the_mewvie</td>\n",
       "    </tr>\n",
       "    <tr>\n",
       "      <th>3</th>\n",
       "      <td>#Roxy</td>\n",
       "    </tr>\n",
       "    <tr>\n",
       "      <th>4</th>\n",
       "      <td>House of Z</td>\n",
       "    </tr>\n",
       "    <tr>\n",
       "      <th>5</th>\n",
       "      <td>At First Light</td>\n",
       "    </tr>\n",
       "    <tr>\n",
       "      <th>6</th>\n",
       "      <td>ATM</td>\n",
       "    </tr>\n",
       "    <tr>\n",
       "      <th>7</th>\n",
       "      <td>The Healer</td>\n",
       "    </tr>\n",
       "    <tr>\n",
       "      <th>8</th>\n",
       "      <td>Tokyo Idols</td>\n",
       "    </tr>\n",
       "    <tr>\n",
       "      <th>9</th>\n",
       "      <td>The Power of Grayskull: The Definitive History...</td>\n",
       "    </tr>\n",
       "    <tr>\n",
       "      <th>10</th>\n",
       "      <td>We Are All For The Fatherland</td>\n",
       "    </tr>\n",
       "    <tr>\n",
       "      <th>11</th>\n",
       "      <td>Star Men</td>\n",
       "    </tr>\n",
       "    <tr>\n",
       "      <th>12</th>\n",
       "      <td>Punjab 1984</td>\n",
       "    </tr>\n",
       "    <tr>\n",
       "      <th>13</th>\n",
       "      <td>Romeo Ranjha</td>\n",
       "    </tr>\n",
       "    <tr>\n",
       "      <th>14</th>\n",
       "      <td>There's Something in the Water</td>\n",
       "    </tr>\n",
       "    <tr>\n",
       "      <th>15</th>\n",
       "      <td>Long Time Running</td>\n",
       "    </tr>\n",
       "    <tr>\n",
       "      <th>16</th>\n",
       "      <td>The Accountant of Auschwitz</td>\n",
       "    </tr>\n",
       "    <tr>\n",
       "      <th>17</th>\n",
       "      <td>Whispers</td>\n",
       "    </tr>\n",
       "    <tr>\n",
       "      <th>18</th>\n",
       "      <td>Counterfeiting in Suburbia</td>\n",
       "    </tr>\n",
       "    <tr>\n",
       "      <th>19</th>\n",
       "      <td>The Silence of Others</td>\n",
       "    </tr>\n",
       "    <tr>\n",
       "      <th>20</th>\n",
       "      <td>Union Leader</td>\n",
       "    </tr>\n",
       "    <tr>\n",
       "      <th>21</th>\n",
       "      <td>Empire of Scents</td>\n",
       "    </tr>\n",
       "    <tr>\n",
       "      <th>22</th>\n",
       "      <td>For the Love of Spock</td>\n",
       "    </tr>\n",
       "    <tr>\n",
       "      <th>23</th>\n",
       "      <td>Sadie's Last Days on Earth</td>\n",
       "    </tr>\n",
       "    <tr>\n",
       "      <th>24</th>\n",
       "      <td>I Am the Pretty Thing That Lives in the House</td>\n",
       "    </tr>\n",
       "    <tr>\n",
       "      <th>25</th>\n",
       "      <td>Martin Matte: La vie, la mort...eh la la..!</td>\n",
       "    </tr>\n",
       "  </tbody>\n",
       "</table>\n",
       "</div>"
      ],
      "text/plain": [
       "                                                Title\n",
       "0                                          Sardaar ji\n",
       "1                                The Wrong Babysitter\n",
       "2                                    #cats_the_mewvie\n",
       "3                                               #Roxy\n",
       "4                                          House of Z\n",
       "5                                      At First Light\n",
       "6                                                 ATM\n",
       "7                                          The Healer\n",
       "8                                         Tokyo Idols\n",
       "9   The Power of Grayskull: The Definitive History...\n",
       "10                      We Are All For The Fatherland\n",
       "11                                           Star Men\n",
       "12                                        Punjab 1984\n",
       "13                                       Romeo Ranjha\n",
       "14                     There's Something in the Water\n",
       "15                                  Long Time Running\n",
       "16                        The Accountant of Auschwitz\n",
       "17                                           Whispers\n",
       "18                         Counterfeiting in Suburbia\n",
       "19                              The Silence of Others\n",
       "20                                       Union Leader\n",
       "21                                   Empire of Scents\n",
       "22                              For the Love of Spock\n",
       "23                         Sadie's Last Days on Earth\n",
       "24      I Am the Pretty Thing That Lives in the House\n",
       "25        Martin Matte: La vie, la mort...eh la la..!"
      ]
     },
     "execution_count": 49,
     "metadata": {},
     "output_type": "execute_result"
    }
   ],
   "source": [
    "db.sql(\"\"\"\n",
    "       SELECT \n",
    "            Title \n",
    "        FROM netflix \n",
    "        WHERE \n",
    "            Country LIKE '%Canada%' \n",
    "            AND Rating ='TV-14'\n",
    "            AND Category = 'Movie';\n",
    "       \"\"\").df()"
   ]
  },
  {
   "cell_type": "markdown",
   "metadata": {},
   "source": [
    "#### Quantas séries de TV receberam a classificação 'R', após o ano de 2018?"
   ]
  },
  {
   "cell_type": "code",
   "execution_count": 50,
   "metadata": {},
   "outputs": [
    {
     "data": {
      "text/plain": [
       "┌───────┐\n",
       "│ Total │\n",
       "│ int64 │\n",
       "├───────┤\n",
       "│     1 │\n",
       "└───────┘"
      ]
     },
     "execution_count": 50,
     "metadata": {},
     "output_type": "execute_result"
    }
   ],
   "source": [
    "db.sql(\"\"\"\n",
    "       SELECT \n",
    "            COUNT(*) AS Total\n",
    "        FROM netflix \n",
    "        WHERE \n",
    "            Rating ='R'\n",
    "            AND Year > 2018\n",
    "            AND Category = 'TV Show';\n",
    "       \"\"\")"
   ]
  },
  {
   "cell_type": "markdown",
   "metadata": {},
   "source": [
    "No total 1 série correspondem aos filtros, sendo ela:"
   ]
  },
  {
   "cell_type": "code",
   "execution_count": 51,
   "metadata": {},
   "outputs": [
    {
     "data": {
      "text/plain": [
       "┌─────────────────────────────────────┐\n",
       "│                Title                │\n",
       "│               varchar               │\n",
       "├─────────────────────────────────────┤\n",
       "│ The Hateful Eight: Extended Version │\n",
       "└─────────────────────────────────────┘"
      ]
     },
     "execution_count": 51,
     "metadata": {},
     "output_type": "execute_result"
    }
   ],
   "source": [
    "db.sql(\"\"\"\n",
    "       SELECT \n",
    "            Title\n",
    "        FROM netflix \n",
    "        WHERE \n",
    "            Rating ='R'\n",
    "            AND Year > 2018\n",
    "            AND Category = 'TV Show';\n",
    "       \"\"\")"
   ]
  },
  {
   "cell_type": "markdown",
   "metadata": {},
   "source": [
    "### 10 - Qual é a duração máxima de um filme/série na Netflix?"
   ]
  },
  {
   "cell_type": "code",
   "execution_count": 52,
   "metadata": {},
   "outputs": [
    {
     "data": {
      "text/plain": [
       "┌──────────┬───────────┐\n",
       "│ Category │ TotalTime │\n",
       "│ varchar  │  varchar  │\n",
       "├──────────┼───────────┤\n",
       "│ Movie    │ 312 min   │\n",
       "│ TV Show  │ 16 Season │\n",
       "└──────────┴───────────┘"
      ]
     },
     "execution_count": 52,
     "metadata": {},
     "output_type": "execute_result"
    }
   ],
   "source": [
    "db.sql(\"\"\"\n",
    "       SELECT\n",
    "            Category,\n",
    "            CONCAT(MAX(Duration),' ', ANY_VALUE(TextDuration)) AS TotalTime,\n",
    "       FROM\n",
    "       (\n",
    "            SELECT \n",
    "                CAST(SPLIT_PART(Duration, ' ', 1) AS INTEGER) AS Duration,\n",
    "                SPLIT_PART(Duration, ' ', 2) AS TextDuration,\n",
    "                Category\n",
    "            FROM netflix \n",
    "        )\n",
    "        GROUP BY Category\n",
    "       \"\"\")"
   ]
  },
  {
   "cell_type": "markdown",
   "metadata": {},
   "source": [
    "Logo podemos ver que a duração máxima de um filme na netflix foi de 312 minutos, e a de série foi de 16 temporadas."
   ]
  },
  {
   "cell_type": "markdown",
   "metadata": {},
   "source": [
    "Fazendo mais algumas análises em relação a duração dos filmes"
   ]
  },
  {
   "cell_type": "code",
   "execution_count": 53,
   "metadata": {},
   "outputs": [
    {
     "data": {
      "text/html": [
       "<div>\n",
       "<style scoped>\n",
       "    .dataframe tbody tr th:only-of-type {\n",
       "        vertical-align: middle;\n",
       "    }\n",
       "\n",
       "    .dataframe tbody tr th {\n",
       "        vertical-align: top;\n",
       "    }\n",
       "\n",
       "    .dataframe thead th {\n",
       "        text-align: right;\n",
       "    }\n",
       "</style>\n",
       "<table border=\"1\" class=\"dataframe\">\n",
       "  <thead>\n",
       "    <tr style=\"text-align: right;\">\n",
       "      <th></th>\n",
       "      <th>Title</th>\n",
       "      <th>Duration</th>\n",
       "      <th>TextDuration</th>\n",
       "      <th>Category</th>\n",
       "      <th>Year</th>\n",
       "    </tr>\n",
       "  </thead>\n",
       "  <tbody>\n",
       "    <tr>\n",
       "      <th>0</th>\n",
       "      <td>BluffMaster!</td>\n",
       "      <td>129</td>\n",
       "      <td>min</td>\n",
       "      <td>Movie</td>\n",
       "      <td>2021.0</td>\n",
       "    </tr>\n",
       "    <tr>\n",
       "      <th>1</th>\n",
       "      <td>Bo on the Go!</td>\n",
       "      <td>1</td>\n",
       "      <td>Season</td>\n",
       "      <td>TV Show</td>\n",
       "      <td>2019.0</td>\n",
       "    </tr>\n",
       "    <tr>\n",
       "      <th>2</th>\n",
       "      <td>3 Seconds Divorce</td>\n",
       "      <td>53</td>\n",
       "      <td>min</td>\n",
       "      <td>Movie</td>\n",
       "      <td>2019.0</td>\n",
       "    </tr>\n",
       "    <tr>\n",
       "      <th>3</th>\n",
       "      <td>30 Days of Luxury</td>\n",
       "      <td>91</td>\n",
       "      <td>min</td>\n",
       "      <td>Movie</td>\n",
       "      <td>2019.0</td>\n",
       "    </tr>\n",
       "    <tr>\n",
       "      <th>4</th>\n",
       "      <td>Born Beautiful</td>\n",
       "      <td>96</td>\n",
       "      <td>min</td>\n",
       "      <td>Movie</td>\n",
       "      <td>2020.0</td>\n",
       "    </tr>\n",
       "    <tr>\n",
       "      <th>...</th>\n",
       "      <td>...</td>\n",
       "      <td>...</td>\n",
       "      <td>...</td>\n",
       "      <td>...</td>\n",
       "      <td>...</td>\n",
       "    </tr>\n",
       "    <tr>\n",
       "      <th>7782</th>\n",
       "      <td>Black Sea</td>\n",
       "      <td>114</td>\n",
       "      <td>min</td>\n",
       "      <td>Movie</td>\n",
       "      <td>2019.0</td>\n",
       "    </tr>\n",
       "    <tr>\n",
       "      <th>7783</th>\n",
       "      <td>Blackfish</td>\n",
       "      <td>83</td>\n",
       "      <td>min</td>\n",
       "      <td>Movie</td>\n",
       "      <td>2020.0</td>\n",
       "    </tr>\n",
       "    <tr>\n",
       "      <th>7784</th>\n",
       "      <td>Blaze</td>\n",
       "      <td>129</td>\n",
       "      <td>min</td>\n",
       "      <td>Movie</td>\n",
       "      <td>2020.0</td>\n",
       "    </tr>\n",
       "    <tr>\n",
       "      <th>7785</th>\n",
       "      <td>Blessed Benefit</td>\n",
       "      <td>83</td>\n",
       "      <td>min</td>\n",
       "      <td>Movie</td>\n",
       "      <td>2017.0</td>\n",
       "    </tr>\n",
       "    <tr>\n",
       "      <th>7786</th>\n",
       "      <td>Blown Away</td>\n",
       "      <td>1</td>\n",
       "      <td>Season</td>\n",
       "      <td>TV Show</td>\n",
       "      <td>2019.0</td>\n",
       "    </tr>\n",
       "  </tbody>\n",
       "</table>\n",
       "<p>7787 rows × 5 columns</p>\n",
       "</div>"
      ],
      "text/plain": [
       "                  Title  Duration TextDuration Category    Year\n",
       "0          BluffMaster!       129          min    Movie  2021.0\n",
       "1         Bo on the Go!         1       Season  TV Show  2019.0\n",
       "2     3 Seconds Divorce        53          min    Movie  2019.0\n",
       "3     30 Days of Luxury        91          min    Movie  2019.0\n",
       "4        Born Beautiful        96          min    Movie  2020.0\n",
       "...                 ...       ...          ...      ...     ...\n",
       "7782          Black Sea       114          min    Movie  2019.0\n",
       "7783          Blackfish        83          min    Movie  2020.0\n",
       "7784              Blaze       129          min    Movie  2020.0\n",
       "7785    Blessed Benefit        83          min    Movie  2017.0\n",
       "7786         Blown Away         1       Season  TV Show  2019.0\n",
       "\n",
       "[7787 rows x 5 columns]"
      ]
     },
     "execution_count": 53,
     "metadata": {},
     "output_type": "execute_result"
    }
   ],
   "source": [
    "df_duration = db.sql(\"\"\"\n",
    "        SELECT \n",
    "            Title,\n",
    "            CAST(SPLIT_PART(Duration, ' ', 1) AS INTEGER) AS Duration,\n",
    "            SPLIT_PART(Duration, ' ', 2) AS TextDuration,\n",
    "            Category,\n",
    "            Year\n",
    "        FROM netflix \n",
    "       \"\"\").df()\n",
    "df_duration"
   ]
  },
  {
   "cell_type": "code",
   "execution_count": 54,
   "metadata": {},
   "outputs": [
    {
     "data": {
      "application/vnd.plotly.v1+json": {
       "config": {
        "plotlyServerURL": "https://plot.ly"
       },
       "data": [
        {
         "alignmentgroup": "True",
         "hovertemplate": "Duration=%{x}<br>Title=%{y}<extra></extra>",
         "legendgroup": "",
         "marker": {
          "color": "#636efa",
          "pattern": {
           "shape": ""
          }
         },
         "name": "",
         "offsetgroup": "",
         "orientation": "h",
         "showlegend": false,
         "textposition": "auto",
         "texttemplate": "%{x}",
         "type": "bar",
         "x": [
          209,
          209,
          214,
          224,
          228,
          230,
          233,
          237,
          253,
          312
         ],
         "xaxis": "x",
         "y": [
          "Kabhi Khushi Kabhie Gham",
          "The Irishman",
          "Jodhaa Akbar",
          "Lagaan",
          "Sangam",
          "Raya and Sakina",
          "Lock Your Girls In",
          "No Longer kids",
          "The School of Mischief",
          "Black Mirror: Bandersnatch"
         ],
         "yaxis": "y"
        }
       ],
       "layout": {
        "barmode": "relative",
        "legend": {
         "tracegroupgap": 0
        },
        "template": {
         "data": {
          "bar": [
           {
            "error_x": {
             "color": "#2a3f5f"
            },
            "error_y": {
             "color": "#2a3f5f"
            },
            "marker": {
             "line": {
              "color": "#E5ECF6",
              "width": 0.5
             },
             "pattern": {
              "fillmode": "overlay",
              "size": 10,
              "solidity": 0.2
             }
            },
            "type": "bar"
           }
          ],
          "barpolar": [
           {
            "marker": {
             "line": {
              "color": "#E5ECF6",
              "width": 0.5
             },
             "pattern": {
              "fillmode": "overlay",
              "size": 10,
              "solidity": 0.2
             }
            },
            "type": "barpolar"
           }
          ],
          "carpet": [
           {
            "aaxis": {
             "endlinecolor": "#2a3f5f",
             "gridcolor": "white",
             "linecolor": "white",
             "minorgridcolor": "white",
             "startlinecolor": "#2a3f5f"
            },
            "baxis": {
             "endlinecolor": "#2a3f5f",
             "gridcolor": "white",
             "linecolor": "white",
             "minorgridcolor": "white",
             "startlinecolor": "#2a3f5f"
            },
            "type": "carpet"
           }
          ],
          "choropleth": [
           {
            "colorbar": {
             "outlinewidth": 0,
             "ticks": ""
            },
            "type": "choropleth"
           }
          ],
          "contour": [
           {
            "colorbar": {
             "outlinewidth": 0,
             "ticks": ""
            },
            "colorscale": [
             [
              0,
              "#0d0887"
             ],
             [
              0.1111111111111111,
              "#46039f"
             ],
             [
              0.2222222222222222,
              "#7201a8"
             ],
             [
              0.3333333333333333,
              "#9c179e"
             ],
             [
              0.4444444444444444,
              "#bd3786"
             ],
             [
              0.5555555555555556,
              "#d8576b"
             ],
             [
              0.6666666666666666,
              "#ed7953"
             ],
             [
              0.7777777777777778,
              "#fb9f3a"
             ],
             [
              0.8888888888888888,
              "#fdca26"
             ],
             [
              1,
              "#f0f921"
             ]
            ],
            "type": "contour"
           }
          ],
          "contourcarpet": [
           {
            "colorbar": {
             "outlinewidth": 0,
             "ticks": ""
            },
            "type": "contourcarpet"
           }
          ],
          "heatmap": [
           {
            "colorbar": {
             "outlinewidth": 0,
             "ticks": ""
            },
            "colorscale": [
             [
              0,
              "#0d0887"
             ],
             [
              0.1111111111111111,
              "#46039f"
             ],
             [
              0.2222222222222222,
              "#7201a8"
             ],
             [
              0.3333333333333333,
              "#9c179e"
             ],
             [
              0.4444444444444444,
              "#bd3786"
             ],
             [
              0.5555555555555556,
              "#d8576b"
             ],
             [
              0.6666666666666666,
              "#ed7953"
             ],
             [
              0.7777777777777778,
              "#fb9f3a"
             ],
             [
              0.8888888888888888,
              "#fdca26"
             ],
             [
              1,
              "#f0f921"
             ]
            ],
            "type": "heatmap"
           }
          ],
          "heatmapgl": [
           {
            "colorbar": {
             "outlinewidth": 0,
             "ticks": ""
            },
            "colorscale": [
             [
              0,
              "#0d0887"
             ],
             [
              0.1111111111111111,
              "#46039f"
             ],
             [
              0.2222222222222222,
              "#7201a8"
             ],
             [
              0.3333333333333333,
              "#9c179e"
             ],
             [
              0.4444444444444444,
              "#bd3786"
             ],
             [
              0.5555555555555556,
              "#d8576b"
             ],
             [
              0.6666666666666666,
              "#ed7953"
             ],
             [
              0.7777777777777778,
              "#fb9f3a"
             ],
             [
              0.8888888888888888,
              "#fdca26"
             ],
             [
              1,
              "#f0f921"
             ]
            ],
            "type": "heatmapgl"
           }
          ],
          "histogram": [
           {
            "marker": {
             "pattern": {
              "fillmode": "overlay",
              "size": 10,
              "solidity": 0.2
             }
            },
            "type": "histogram"
           }
          ],
          "histogram2d": [
           {
            "colorbar": {
             "outlinewidth": 0,
             "ticks": ""
            },
            "colorscale": [
             [
              0,
              "#0d0887"
             ],
             [
              0.1111111111111111,
              "#46039f"
             ],
             [
              0.2222222222222222,
              "#7201a8"
             ],
             [
              0.3333333333333333,
              "#9c179e"
             ],
             [
              0.4444444444444444,
              "#bd3786"
             ],
             [
              0.5555555555555556,
              "#d8576b"
             ],
             [
              0.6666666666666666,
              "#ed7953"
             ],
             [
              0.7777777777777778,
              "#fb9f3a"
             ],
             [
              0.8888888888888888,
              "#fdca26"
             ],
             [
              1,
              "#f0f921"
             ]
            ],
            "type": "histogram2d"
           }
          ],
          "histogram2dcontour": [
           {
            "colorbar": {
             "outlinewidth": 0,
             "ticks": ""
            },
            "colorscale": [
             [
              0,
              "#0d0887"
             ],
             [
              0.1111111111111111,
              "#46039f"
             ],
             [
              0.2222222222222222,
              "#7201a8"
             ],
             [
              0.3333333333333333,
              "#9c179e"
             ],
             [
              0.4444444444444444,
              "#bd3786"
             ],
             [
              0.5555555555555556,
              "#d8576b"
             ],
             [
              0.6666666666666666,
              "#ed7953"
             ],
             [
              0.7777777777777778,
              "#fb9f3a"
             ],
             [
              0.8888888888888888,
              "#fdca26"
             ],
             [
              1,
              "#f0f921"
             ]
            ],
            "type": "histogram2dcontour"
           }
          ],
          "mesh3d": [
           {
            "colorbar": {
             "outlinewidth": 0,
             "ticks": ""
            },
            "type": "mesh3d"
           }
          ],
          "parcoords": [
           {
            "line": {
             "colorbar": {
              "outlinewidth": 0,
              "ticks": ""
             }
            },
            "type": "parcoords"
           }
          ],
          "pie": [
           {
            "automargin": true,
            "type": "pie"
           }
          ],
          "scatter": [
           {
            "fillpattern": {
             "fillmode": "overlay",
             "size": 10,
             "solidity": 0.2
            },
            "type": "scatter"
           }
          ],
          "scatter3d": [
           {
            "line": {
             "colorbar": {
              "outlinewidth": 0,
              "ticks": ""
             }
            },
            "marker": {
             "colorbar": {
              "outlinewidth": 0,
              "ticks": ""
             }
            },
            "type": "scatter3d"
           }
          ],
          "scattercarpet": [
           {
            "marker": {
             "colorbar": {
              "outlinewidth": 0,
              "ticks": ""
             }
            },
            "type": "scattercarpet"
           }
          ],
          "scattergeo": [
           {
            "marker": {
             "colorbar": {
              "outlinewidth": 0,
              "ticks": ""
             }
            },
            "type": "scattergeo"
           }
          ],
          "scattergl": [
           {
            "marker": {
             "colorbar": {
              "outlinewidth": 0,
              "ticks": ""
             }
            },
            "type": "scattergl"
           }
          ],
          "scattermapbox": [
           {
            "marker": {
             "colorbar": {
              "outlinewidth": 0,
              "ticks": ""
             }
            },
            "type": "scattermapbox"
           }
          ],
          "scatterpolar": [
           {
            "marker": {
             "colorbar": {
              "outlinewidth": 0,
              "ticks": ""
             }
            },
            "type": "scatterpolar"
           }
          ],
          "scatterpolargl": [
           {
            "marker": {
             "colorbar": {
              "outlinewidth": 0,
              "ticks": ""
             }
            },
            "type": "scatterpolargl"
           }
          ],
          "scatterternary": [
           {
            "marker": {
             "colorbar": {
              "outlinewidth": 0,
              "ticks": ""
             }
            },
            "type": "scatterternary"
           }
          ],
          "surface": [
           {
            "colorbar": {
             "outlinewidth": 0,
             "ticks": ""
            },
            "colorscale": [
             [
              0,
              "#0d0887"
             ],
             [
              0.1111111111111111,
              "#46039f"
             ],
             [
              0.2222222222222222,
              "#7201a8"
             ],
             [
              0.3333333333333333,
              "#9c179e"
             ],
             [
              0.4444444444444444,
              "#bd3786"
             ],
             [
              0.5555555555555556,
              "#d8576b"
             ],
             [
              0.6666666666666666,
              "#ed7953"
             ],
             [
              0.7777777777777778,
              "#fb9f3a"
             ],
             [
              0.8888888888888888,
              "#fdca26"
             ],
             [
              1,
              "#f0f921"
             ]
            ],
            "type": "surface"
           }
          ],
          "table": [
           {
            "cells": {
             "fill": {
              "color": "#EBF0F8"
             },
             "line": {
              "color": "white"
             }
            },
            "header": {
             "fill": {
              "color": "#C8D4E3"
             },
             "line": {
              "color": "white"
             }
            },
            "type": "table"
           }
          ]
         },
         "layout": {
          "annotationdefaults": {
           "arrowcolor": "#2a3f5f",
           "arrowhead": 0,
           "arrowwidth": 1
          },
          "autotypenumbers": "strict",
          "coloraxis": {
           "colorbar": {
            "outlinewidth": 0,
            "ticks": ""
           }
          },
          "colorscale": {
           "diverging": [
            [
             0,
             "#8e0152"
            ],
            [
             0.1,
             "#c51b7d"
            ],
            [
             0.2,
             "#de77ae"
            ],
            [
             0.3,
             "#f1b6da"
            ],
            [
             0.4,
             "#fde0ef"
            ],
            [
             0.5,
             "#f7f7f7"
            ],
            [
             0.6,
             "#e6f5d0"
            ],
            [
             0.7,
             "#b8e186"
            ],
            [
             0.8,
             "#7fbc41"
            ],
            [
             0.9,
             "#4d9221"
            ],
            [
             1,
             "#276419"
            ]
           ],
           "sequential": [
            [
             0,
             "#0d0887"
            ],
            [
             0.1111111111111111,
             "#46039f"
            ],
            [
             0.2222222222222222,
             "#7201a8"
            ],
            [
             0.3333333333333333,
             "#9c179e"
            ],
            [
             0.4444444444444444,
             "#bd3786"
            ],
            [
             0.5555555555555556,
             "#d8576b"
            ],
            [
             0.6666666666666666,
             "#ed7953"
            ],
            [
             0.7777777777777778,
             "#fb9f3a"
            ],
            [
             0.8888888888888888,
             "#fdca26"
            ],
            [
             1,
             "#f0f921"
            ]
           ],
           "sequentialminus": [
            [
             0,
             "#0d0887"
            ],
            [
             0.1111111111111111,
             "#46039f"
            ],
            [
             0.2222222222222222,
             "#7201a8"
            ],
            [
             0.3333333333333333,
             "#9c179e"
            ],
            [
             0.4444444444444444,
             "#bd3786"
            ],
            [
             0.5555555555555556,
             "#d8576b"
            ],
            [
             0.6666666666666666,
             "#ed7953"
            ],
            [
             0.7777777777777778,
             "#fb9f3a"
            ],
            [
             0.8888888888888888,
             "#fdca26"
            ],
            [
             1,
             "#f0f921"
            ]
           ]
          },
          "colorway": [
           "#636efa",
           "#EF553B",
           "#00cc96",
           "#ab63fa",
           "#FFA15A",
           "#19d3f3",
           "#FF6692",
           "#B6E880",
           "#FF97FF",
           "#FECB52"
          ],
          "font": {
           "color": "#2a3f5f"
          },
          "geo": {
           "bgcolor": "white",
           "lakecolor": "white",
           "landcolor": "#E5ECF6",
           "showlakes": true,
           "showland": true,
           "subunitcolor": "white"
          },
          "hoverlabel": {
           "align": "left"
          },
          "hovermode": "closest",
          "mapbox": {
           "style": "light"
          },
          "paper_bgcolor": "white",
          "plot_bgcolor": "#E5ECF6",
          "polar": {
           "angularaxis": {
            "gridcolor": "white",
            "linecolor": "white",
            "ticks": ""
           },
           "bgcolor": "#E5ECF6",
           "radialaxis": {
            "gridcolor": "white",
            "linecolor": "white",
            "ticks": ""
           }
          },
          "scene": {
           "xaxis": {
            "backgroundcolor": "#E5ECF6",
            "gridcolor": "white",
            "gridwidth": 2,
            "linecolor": "white",
            "showbackground": true,
            "ticks": "",
            "zerolinecolor": "white"
           },
           "yaxis": {
            "backgroundcolor": "#E5ECF6",
            "gridcolor": "white",
            "gridwidth": 2,
            "linecolor": "white",
            "showbackground": true,
            "ticks": "",
            "zerolinecolor": "white"
           },
           "zaxis": {
            "backgroundcolor": "#E5ECF6",
            "gridcolor": "white",
            "gridwidth": 2,
            "linecolor": "white",
            "showbackground": true,
            "ticks": "",
            "zerolinecolor": "white"
           }
          },
          "shapedefaults": {
           "line": {
            "color": "#2a3f5f"
           }
          },
          "ternary": {
           "aaxis": {
            "gridcolor": "white",
            "linecolor": "white",
            "ticks": ""
           },
           "baxis": {
            "gridcolor": "white",
            "linecolor": "white",
            "ticks": ""
           },
           "bgcolor": "#E5ECF6",
           "caxis": {
            "gridcolor": "white",
            "linecolor": "white",
            "ticks": ""
           }
          },
          "title": {
           "x": 0.05
          },
          "xaxis": {
           "automargin": true,
           "gridcolor": "white",
           "linecolor": "white",
           "ticks": "",
           "title": {
            "standoff": 15
           },
           "zerolinecolor": "white",
           "zerolinewidth": 2
          },
          "yaxis": {
           "automargin": true,
           "gridcolor": "white",
           "linecolor": "white",
           "ticks": "",
           "title": {
            "standoff": 15
           },
           "zerolinecolor": "white",
           "zerolinewidth": 2
          }
         }
        },
        "title": {
         "text": "Top 10 filmes com maior duração na netflix"
        },
        "xaxis": {
         "anchor": "y",
         "domain": [
          0,
          1
         ],
         "title": {
          "text": "Duration"
         }
        },
        "yaxis": {
         "anchor": "x",
         "domain": [
          0,
          1
         ],
         "title": {
          "text": "Title"
         }
        }
       }
      }
     },
     "metadata": {},
     "output_type": "display_data"
    }
   ],
   "source": [
    "df_movies_duration = df_duration[df_duration[\"Category\"] == \"Movie\"]\n",
    "df_movies_duration_top_10 = df_movies_duration.nlargest(10, 'Duration').sort_values(by='Duration')\n",
    "fig = px.bar(df_movies_duration_top_10, x='Duration', y='Title', text_auto=True, title='Top 10 filmes com maior duração na netflix')\n",
    "fig.show()"
   ]
  },
  {
   "cell_type": "code",
   "execution_count": 55,
   "metadata": {},
   "outputs": [
    {
     "data": {
      "application/vnd.plotly.v1+json": {
       "config": {
        "plotlyServerURL": "https://plot.ly"
       },
       "data": [
        {
         "alignmentgroup": "True",
         "hovertemplate": "Duration=%{x}<br>Title=%{y}<extra></extra>",
         "legendgroup": "",
         "marker": {
          "color": "#636efa",
          "pattern": {
           "shape": ""
          }
         },
         "name": "",
         "offsetgroup": "",
         "orientation": "h",
         "showlegend": false,
         "textposition": "auto",
         "texttemplate": "%{x}",
         "type": "bar",
         "x": [
          11,
          11,
          11,
          12,
          12,
          13,
          13,
          15,
          15,
          16
         ],
         "xaxis": "x",
         "y": [
          "Cheers",
          "Heartland",
          "Frasier",
          "Trailer Park Boys",
          "Criminal Minds",
          "Red vs. Blue",
          "COMEDIANS of the world",
          "NCIS",
          "Supernatural",
          "Grey's Anatomy"
         ],
         "yaxis": "y"
        }
       ],
       "layout": {
        "barmode": "relative",
        "legend": {
         "tracegroupgap": 0
        },
        "template": {
         "data": {
          "bar": [
           {
            "error_x": {
             "color": "#2a3f5f"
            },
            "error_y": {
             "color": "#2a3f5f"
            },
            "marker": {
             "line": {
              "color": "#E5ECF6",
              "width": 0.5
             },
             "pattern": {
              "fillmode": "overlay",
              "size": 10,
              "solidity": 0.2
             }
            },
            "type": "bar"
           }
          ],
          "barpolar": [
           {
            "marker": {
             "line": {
              "color": "#E5ECF6",
              "width": 0.5
             },
             "pattern": {
              "fillmode": "overlay",
              "size": 10,
              "solidity": 0.2
             }
            },
            "type": "barpolar"
           }
          ],
          "carpet": [
           {
            "aaxis": {
             "endlinecolor": "#2a3f5f",
             "gridcolor": "white",
             "linecolor": "white",
             "minorgridcolor": "white",
             "startlinecolor": "#2a3f5f"
            },
            "baxis": {
             "endlinecolor": "#2a3f5f",
             "gridcolor": "white",
             "linecolor": "white",
             "minorgridcolor": "white",
             "startlinecolor": "#2a3f5f"
            },
            "type": "carpet"
           }
          ],
          "choropleth": [
           {
            "colorbar": {
             "outlinewidth": 0,
             "ticks": ""
            },
            "type": "choropleth"
           }
          ],
          "contour": [
           {
            "colorbar": {
             "outlinewidth": 0,
             "ticks": ""
            },
            "colorscale": [
             [
              0,
              "#0d0887"
             ],
             [
              0.1111111111111111,
              "#46039f"
             ],
             [
              0.2222222222222222,
              "#7201a8"
             ],
             [
              0.3333333333333333,
              "#9c179e"
             ],
             [
              0.4444444444444444,
              "#bd3786"
             ],
             [
              0.5555555555555556,
              "#d8576b"
             ],
             [
              0.6666666666666666,
              "#ed7953"
             ],
             [
              0.7777777777777778,
              "#fb9f3a"
             ],
             [
              0.8888888888888888,
              "#fdca26"
             ],
             [
              1,
              "#f0f921"
             ]
            ],
            "type": "contour"
           }
          ],
          "contourcarpet": [
           {
            "colorbar": {
             "outlinewidth": 0,
             "ticks": ""
            },
            "type": "contourcarpet"
           }
          ],
          "heatmap": [
           {
            "colorbar": {
             "outlinewidth": 0,
             "ticks": ""
            },
            "colorscale": [
             [
              0,
              "#0d0887"
             ],
             [
              0.1111111111111111,
              "#46039f"
             ],
             [
              0.2222222222222222,
              "#7201a8"
             ],
             [
              0.3333333333333333,
              "#9c179e"
             ],
             [
              0.4444444444444444,
              "#bd3786"
             ],
             [
              0.5555555555555556,
              "#d8576b"
             ],
             [
              0.6666666666666666,
              "#ed7953"
             ],
             [
              0.7777777777777778,
              "#fb9f3a"
             ],
             [
              0.8888888888888888,
              "#fdca26"
             ],
             [
              1,
              "#f0f921"
             ]
            ],
            "type": "heatmap"
           }
          ],
          "heatmapgl": [
           {
            "colorbar": {
             "outlinewidth": 0,
             "ticks": ""
            },
            "colorscale": [
             [
              0,
              "#0d0887"
             ],
             [
              0.1111111111111111,
              "#46039f"
             ],
             [
              0.2222222222222222,
              "#7201a8"
             ],
             [
              0.3333333333333333,
              "#9c179e"
             ],
             [
              0.4444444444444444,
              "#bd3786"
             ],
             [
              0.5555555555555556,
              "#d8576b"
             ],
             [
              0.6666666666666666,
              "#ed7953"
             ],
             [
              0.7777777777777778,
              "#fb9f3a"
             ],
             [
              0.8888888888888888,
              "#fdca26"
             ],
             [
              1,
              "#f0f921"
             ]
            ],
            "type": "heatmapgl"
           }
          ],
          "histogram": [
           {
            "marker": {
             "pattern": {
              "fillmode": "overlay",
              "size": 10,
              "solidity": 0.2
             }
            },
            "type": "histogram"
           }
          ],
          "histogram2d": [
           {
            "colorbar": {
             "outlinewidth": 0,
             "ticks": ""
            },
            "colorscale": [
             [
              0,
              "#0d0887"
             ],
             [
              0.1111111111111111,
              "#46039f"
             ],
             [
              0.2222222222222222,
              "#7201a8"
             ],
             [
              0.3333333333333333,
              "#9c179e"
             ],
             [
              0.4444444444444444,
              "#bd3786"
             ],
             [
              0.5555555555555556,
              "#d8576b"
             ],
             [
              0.6666666666666666,
              "#ed7953"
             ],
             [
              0.7777777777777778,
              "#fb9f3a"
             ],
             [
              0.8888888888888888,
              "#fdca26"
             ],
             [
              1,
              "#f0f921"
             ]
            ],
            "type": "histogram2d"
           }
          ],
          "histogram2dcontour": [
           {
            "colorbar": {
             "outlinewidth": 0,
             "ticks": ""
            },
            "colorscale": [
             [
              0,
              "#0d0887"
             ],
             [
              0.1111111111111111,
              "#46039f"
             ],
             [
              0.2222222222222222,
              "#7201a8"
             ],
             [
              0.3333333333333333,
              "#9c179e"
             ],
             [
              0.4444444444444444,
              "#bd3786"
             ],
             [
              0.5555555555555556,
              "#d8576b"
             ],
             [
              0.6666666666666666,
              "#ed7953"
             ],
             [
              0.7777777777777778,
              "#fb9f3a"
             ],
             [
              0.8888888888888888,
              "#fdca26"
             ],
             [
              1,
              "#f0f921"
             ]
            ],
            "type": "histogram2dcontour"
           }
          ],
          "mesh3d": [
           {
            "colorbar": {
             "outlinewidth": 0,
             "ticks": ""
            },
            "type": "mesh3d"
           }
          ],
          "parcoords": [
           {
            "line": {
             "colorbar": {
              "outlinewidth": 0,
              "ticks": ""
             }
            },
            "type": "parcoords"
           }
          ],
          "pie": [
           {
            "automargin": true,
            "type": "pie"
           }
          ],
          "scatter": [
           {
            "fillpattern": {
             "fillmode": "overlay",
             "size": 10,
             "solidity": 0.2
            },
            "type": "scatter"
           }
          ],
          "scatter3d": [
           {
            "line": {
             "colorbar": {
              "outlinewidth": 0,
              "ticks": ""
             }
            },
            "marker": {
             "colorbar": {
              "outlinewidth": 0,
              "ticks": ""
             }
            },
            "type": "scatter3d"
           }
          ],
          "scattercarpet": [
           {
            "marker": {
             "colorbar": {
              "outlinewidth": 0,
              "ticks": ""
             }
            },
            "type": "scattercarpet"
           }
          ],
          "scattergeo": [
           {
            "marker": {
             "colorbar": {
              "outlinewidth": 0,
              "ticks": ""
             }
            },
            "type": "scattergeo"
           }
          ],
          "scattergl": [
           {
            "marker": {
             "colorbar": {
              "outlinewidth": 0,
              "ticks": ""
             }
            },
            "type": "scattergl"
           }
          ],
          "scattermapbox": [
           {
            "marker": {
             "colorbar": {
              "outlinewidth": 0,
              "ticks": ""
             }
            },
            "type": "scattermapbox"
           }
          ],
          "scatterpolar": [
           {
            "marker": {
             "colorbar": {
              "outlinewidth": 0,
              "ticks": ""
             }
            },
            "type": "scatterpolar"
           }
          ],
          "scatterpolargl": [
           {
            "marker": {
             "colorbar": {
              "outlinewidth": 0,
              "ticks": ""
             }
            },
            "type": "scatterpolargl"
           }
          ],
          "scatterternary": [
           {
            "marker": {
             "colorbar": {
              "outlinewidth": 0,
              "ticks": ""
             }
            },
            "type": "scatterternary"
           }
          ],
          "surface": [
           {
            "colorbar": {
             "outlinewidth": 0,
             "ticks": ""
            },
            "colorscale": [
             [
              0,
              "#0d0887"
             ],
             [
              0.1111111111111111,
              "#46039f"
             ],
             [
              0.2222222222222222,
              "#7201a8"
             ],
             [
              0.3333333333333333,
              "#9c179e"
             ],
             [
              0.4444444444444444,
              "#bd3786"
             ],
             [
              0.5555555555555556,
              "#d8576b"
             ],
             [
              0.6666666666666666,
              "#ed7953"
             ],
             [
              0.7777777777777778,
              "#fb9f3a"
             ],
             [
              0.8888888888888888,
              "#fdca26"
             ],
             [
              1,
              "#f0f921"
             ]
            ],
            "type": "surface"
           }
          ],
          "table": [
           {
            "cells": {
             "fill": {
              "color": "#EBF0F8"
             },
             "line": {
              "color": "white"
             }
            },
            "header": {
             "fill": {
              "color": "#C8D4E3"
             },
             "line": {
              "color": "white"
             }
            },
            "type": "table"
           }
          ]
         },
         "layout": {
          "annotationdefaults": {
           "arrowcolor": "#2a3f5f",
           "arrowhead": 0,
           "arrowwidth": 1
          },
          "autotypenumbers": "strict",
          "coloraxis": {
           "colorbar": {
            "outlinewidth": 0,
            "ticks": ""
           }
          },
          "colorscale": {
           "diverging": [
            [
             0,
             "#8e0152"
            ],
            [
             0.1,
             "#c51b7d"
            ],
            [
             0.2,
             "#de77ae"
            ],
            [
             0.3,
             "#f1b6da"
            ],
            [
             0.4,
             "#fde0ef"
            ],
            [
             0.5,
             "#f7f7f7"
            ],
            [
             0.6,
             "#e6f5d0"
            ],
            [
             0.7,
             "#b8e186"
            ],
            [
             0.8,
             "#7fbc41"
            ],
            [
             0.9,
             "#4d9221"
            ],
            [
             1,
             "#276419"
            ]
           ],
           "sequential": [
            [
             0,
             "#0d0887"
            ],
            [
             0.1111111111111111,
             "#46039f"
            ],
            [
             0.2222222222222222,
             "#7201a8"
            ],
            [
             0.3333333333333333,
             "#9c179e"
            ],
            [
             0.4444444444444444,
             "#bd3786"
            ],
            [
             0.5555555555555556,
             "#d8576b"
            ],
            [
             0.6666666666666666,
             "#ed7953"
            ],
            [
             0.7777777777777778,
             "#fb9f3a"
            ],
            [
             0.8888888888888888,
             "#fdca26"
            ],
            [
             1,
             "#f0f921"
            ]
           ],
           "sequentialminus": [
            [
             0,
             "#0d0887"
            ],
            [
             0.1111111111111111,
             "#46039f"
            ],
            [
             0.2222222222222222,
             "#7201a8"
            ],
            [
             0.3333333333333333,
             "#9c179e"
            ],
            [
             0.4444444444444444,
             "#bd3786"
            ],
            [
             0.5555555555555556,
             "#d8576b"
            ],
            [
             0.6666666666666666,
             "#ed7953"
            ],
            [
             0.7777777777777778,
             "#fb9f3a"
            ],
            [
             0.8888888888888888,
             "#fdca26"
            ],
            [
             1,
             "#f0f921"
            ]
           ]
          },
          "colorway": [
           "#636efa",
           "#EF553B",
           "#00cc96",
           "#ab63fa",
           "#FFA15A",
           "#19d3f3",
           "#FF6692",
           "#B6E880",
           "#FF97FF",
           "#FECB52"
          ],
          "font": {
           "color": "#2a3f5f"
          },
          "geo": {
           "bgcolor": "white",
           "lakecolor": "white",
           "landcolor": "#E5ECF6",
           "showlakes": true,
           "showland": true,
           "subunitcolor": "white"
          },
          "hoverlabel": {
           "align": "left"
          },
          "hovermode": "closest",
          "mapbox": {
           "style": "light"
          },
          "paper_bgcolor": "white",
          "plot_bgcolor": "#E5ECF6",
          "polar": {
           "angularaxis": {
            "gridcolor": "white",
            "linecolor": "white",
            "ticks": ""
           },
           "bgcolor": "#E5ECF6",
           "radialaxis": {
            "gridcolor": "white",
            "linecolor": "white",
            "ticks": ""
           }
          },
          "scene": {
           "xaxis": {
            "backgroundcolor": "#E5ECF6",
            "gridcolor": "white",
            "gridwidth": 2,
            "linecolor": "white",
            "showbackground": true,
            "ticks": "",
            "zerolinecolor": "white"
           },
           "yaxis": {
            "backgroundcolor": "#E5ECF6",
            "gridcolor": "white",
            "gridwidth": 2,
            "linecolor": "white",
            "showbackground": true,
            "ticks": "",
            "zerolinecolor": "white"
           },
           "zaxis": {
            "backgroundcolor": "#E5ECF6",
            "gridcolor": "white",
            "gridwidth": 2,
            "linecolor": "white",
            "showbackground": true,
            "ticks": "",
            "zerolinecolor": "white"
           }
          },
          "shapedefaults": {
           "line": {
            "color": "#2a3f5f"
           }
          },
          "ternary": {
           "aaxis": {
            "gridcolor": "white",
            "linecolor": "white",
            "ticks": ""
           },
           "baxis": {
            "gridcolor": "white",
            "linecolor": "white",
            "ticks": ""
           },
           "bgcolor": "#E5ECF6",
           "caxis": {
            "gridcolor": "white",
            "linecolor": "white",
            "ticks": ""
           }
          },
          "title": {
           "x": 0.05
          },
          "xaxis": {
           "automargin": true,
           "gridcolor": "white",
           "linecolor": "white",
           "ticks": "",
           "title": {
            "standoff": 15
           },
           "zerolinecolor": "white",
           "zerolinewidth": 2
          },
          "yaxis": {
           "automargin": true,
           "gridcolor": "white",
           "linecolor": "white",
           "ticks": "",
           "title": {
            "standoff": 15
           },
           "zerolinecolor": "white",
           "zerolinewidth": 2
          }
         }
        },
        "title": {
         "text": "Top 10 séries com mais temporadas na netflix"
        },
        "xaxis": {
         "anchor": "y",
         "domain": [
          0,
          1
         ],
         "title": {
          "text": "Duration"
         }
        },
        "yaxis": {
         "anchor": "x",
         "domain": [
          0,
          1
         ],
         "title": {
          "text": "Title"
         }
        }
       }
      }
     },
     "metadata": {},
     "output_type": "display_data"
    }
   ],
   "source": [
    "df_shows_duration = df_duration[df_duration[\"Category\"] == \"TV Show\"]\n",
    "df_shows_duration_top_10 = df_shows_duration.nlargest(10, 'Duration').sort_values(by='Duration')\n",
    "fig = px.bar(df_shows_duration_top_10, x='Duration', y='Title', text_auto=True, title='Top 10 séries com mais temporadas na netflix')\n",
    "fig.show()"
   ]
  },
  {
   "cell_type": "markdown",
   "metadata": {},
   "source": [
    "Análisando como se distribuem os tempos"
   ]
  },
  {
   "cell_type": "code",
   "execution_count": 56,
   "metadata": {},
   "outputs": [
    {
     "data": {
      "application/vnd.plotly.v1+json": {
       "config": {
        "plotlyServerURL": "https://plot.ly"
       },
       "data": [
        {
         "name": "Movies",
         "type": "histogram",
         "x": [
          129,
          53,
          91,
          96,
          139,
          116,
          77,
          103,
          135,
          104,
          9,
          97,
          116,
          106,
          121,
          96,
          114,
          104,
          104,
          56,
          106,
          110,
          112,
          45,
          75,
          120,
          82,
          103,
          115,
          97,
          91,
          113,
          86,
          100,
          108,
          127,
          118,
          154,
          107,
          106,
          94,
          86,
          46,
          92,
          99,
          93,
          120,
          134,
          122,
          93,
          151,
          52,
          102,
          95,
          76,
          124,
          102,
          118,
          94,
          123,
          49,
          128,
          95,
          61,
          70,
          104,
          88,
          86,
          156,
          148,
          118,
          163,
          90,
          71,
          28,
          106,
          98,
          91,
          114,
          67,
          91,
          138,
          109,
          81,
          133,
          92,
          99,
          79,
          100,
          98,
          81,
          119,
          75,
          94,
          90,
          109,
          87,
          134,
          88,
          96,
          163,
          86,
          59,
          69,
          69,
          62,
          79,
          90,
          214,
          65,
          97,
          101,
          171,
          93,
          120,
          157,
          126,
          84,
          87,
          83,
          89,
          126,
          105,
          117,
          155,
          66,
          103,
          120,
          92,
          66,
          131,
          32,
          118,
          84,
          131,
          110,
          29,
          29,
          114,
          132,
          88,
          54,
          61,
          122,
          60,
          94,
          86,
          102,
          92,
          141,
          96,
          71,
          46,
          58,
          97,
          88,
          77,
          103,
          73,
          45,
          101,
          99,
          88,
          92,
          83,
          108,
          106,
          117,
          23,
          106,
          95,
          97,
          76,
          86,
          86,
          110,
          134,
          89,
          106,
          187,
          90,
          93,
          82,
          81,
          75,
          65,
          97,
          88,
          129,
          152,
          97,
          165,
          120,
          85,
          155,
          90,
          143,
          124,
          119,
          160,
          99,
          114,
          95,
          94,
          105,
          119,
          104,
          157,
          137,
          73,
          114,
          118,
          116,
          109,
          140,
          150,
          121,
          118,
          111,
          94,
          103,
          71,
          115,
          127,
          126,
          107,
          86,
          101,
          23,
          85,
          42,
          95,
          25,
          113,
          154,
          140,
          86,
          123,
          101,
          102,
          148,
          81,
          72,
          89,
          127,
          98,
          135,
          107,
          80,
          96,
          109,
          112,
          114,
          106,
          97,
          148,
          91,
          92,
          95,
          123,
          128,
          105,
          147,
          36,
          129,
          52,
          100,
          113,
          166,
          156,
          96,
          107,
          119,
          98,
          143,
          108,
          148,
          86,
          118,
          92,
          94,
          32,
          147,
          98,
          83,
          103,
          103,
          111,
          89,
          132,
          135,
          95,
          122,
          89,
          90,
          96,
          109,
          94,
          97,
          106,
          74,
          113,
          156,
          29,
          166,
          128,
          68,
          95,
          96,
          85,
          132,
          147,
          106,
          125,
          78,
          110,
          158,
          94,
          91,
          86,
          115,
          94,
          116,
          92,
          149,
          93,
          126,
          124,
          112,
          100,
          81,
          91,
          129,
          128,
          78,
          99,
          99,
          119,
          74,
          82,
          148,
          166,
          164,
          94,
          103,
          62,
          112,
          127,
          105,
          87,
          91,
          115,
          95,
          69,
          56,
          137,
          104,
          81,
          133,
          66,
          137,
          83,
          83,
          137,
          102,
          93,
          103,
          102,
          52,
          90,
          81,
          93,
          40,
          109,
          163,
          96,
          96,
          61,
          110,
          63,
          110,
          101,
          108,
          105,
          98,
          96,
          88,
          79,
          106,
          115,
          82,
          89,
          95,
          57,
          96,
          98,
          145,
          22,
          82,
          77,
          91,
          113,
          96,
          91,
          90,
          101,
          86,
          67,
          107,
          133,
          128,
          73,
          96,
          101,
          94,
          94,
          72,
          88,
          90,
          112,
          106,
          100,
          59,
          99,
          115,
          113,
          90,
          105,
          69,
          71,
          119,
          86,
          72,
          133,
          17,
          98,
          94,
          139,
          148,
          104,
          101,
          116,
          108,
          53,
          110,
          65,
          105,
          35,
          22,
          78,
          24,
          99,
          109,
          85,
          71,
          74,
          113,
          51,
          76,
          71,
          173,
          50,
          38,
          42,
          83,
          110,
          148,
          106,
          136,
          84,
          83,
          119,
          86,
          80,
          84,
          92,
          91,
          103,
          104,
          113,
          102,
          109,
          93,
          113,
          54,
          66,
          88,
          104,
          93,
          96,
          130,
          82,
          137,
          66,
          104,
          116,
          98,
          109,
          129,
          149,
          87,
          24,
          106,
          52,
          164,
          95,
          92,
          96,
          113,
          102,
          126,
          59,
          46,
          111,
          100,
          112,
          28,
          118,
          88,
          118,
          142,
          141,
          72,
          118,
          146,
          61,
          32,
          53,
          77,
          106,
          168,
          131,
          95,
          5,
          92,
          87,
          101,
          47,
          54,
          113,
          96,
          44,
          85,
          24,
          82,
          103,
          110,
          103,
          101,
          125,
          93,
          81,
          98,
          114,
          72,
          93,
          103,
          95,
          107,
          115,
          92,
          102,
          101,
          99,
          95,
          108,
          122,
          116,
          99,
          75,
          112,
          86,
          84,
          131,
          83,
          46,
          137,
          136,
          90,
          102,
          92,
          104,
          40,
          95,
          91,
          98,
          103,
          111,
          85,
          122,
          84,
          99,
          81,
          95,
          111,
          94,
          93,
          56,
          66,
          78,
          78,
          149,
          106,
          88,
          67,
          96,
          134,
          102,
          86,
          122,
          100,
          109,
          93,
          145,
          93,
          130,
          120,
          93,
          100,
          130,
          83,
          38,
          94,
          73,
          93,
          90,
          140,
          91,
          93,
          85,
          115,
          103,
          99,
          87,
          88,
          68,
          61,
          56,
          131,
          124,
          79,
          106,
          130,
          123,
          92,
          89,
          102,
          92,
          96,
          94,
          103,
          78,
          102,
          122,
          86,
          127,
          131,
          100,
          117,
          75,
          87,
          87,
          109,
          102,
          120,
          66,
          105,
          67,
          96,
          81,
          104,
          85,
          76,
          78,
          97,
          92,
          94,
          68,
          82,
          137,
          79,
          174,
          166,
          107,
          169,
          93,
          170,
          165,
          98,
          84,
          20,
          110,
          96,
          103,
          94,
          181,
          118,
          99,
          103,
          132,
          113,
          91,
          139,
          104,
          117,
          100,
          135,
          123,
          87,
          141,
          135,
          115,
          102,
          82,
          95,
          120,
          155,
          111,
          95,
          138,
          88,
          88,
          131,
          116,
          95,
          89,
          96,
          75,
          89,
          124,
          72,
          102,
          148,
          101,
          122,
          72,
          91,
          105,
          137,
          141,
          124,
          128,
          134,
          131,
          124,
          60,
          64,
          62,
          113,
          120,
          65,
          66,
          64,
          60,
          45,
          102,
          81,
          116,
          135,
          96,
          61,
          58,
          85,
          185,
          68,
          93,
          44,
          109,
          92,
          98,
          94,
          233,
          95,
          85,
          140,
          101,
          133,
          95,
          124,
          131,
          150,
          94,
          69,
          132,
          101,
          155,
          103,
          133,
          85,
          72,
          100,
          84,
          115,
          83,
          78,
          98,
          92,
          109,
          93,
          46,
          109,
          91,
          98,
          85,
          185,
          136,
          116,
          44,
          99,
          109,
          80,
          104,
          172,
          112,
          55,
          47,
          107,
          154,
          53,
          166,
          99,
          61,
          117,
          82,
          91,
          87,
          68,
          105,
          102,
          120,
          25,
          22,
          22,
          24,
          55,
          98,
          113,
          84,
          94,
          120,
          59,
          81,
          66,
          15,
          97,
          92,
          78,
          111,
          102,
          109,
          115,
          61,
          168,
          116,
          44,
          94,
          136,
          100,
          83,
          87,
          88,
          100,
          88,
          152,
          96,
          95,
          24,
          25,
          112,
          80,
          109,
          89,
          135,
          91,
          76,
          89,
          118,
          99,
          122,
          116,
          102,
          90,
          186,
          105,
          112,
          107,
          78,
          88,
          107,
          97,
          115,
          108,
          119,
          108,
          88,
          89,
          114,
          129,
          106,
          105,
          96,
          83,
          110,
          201,
          94,
          87,
          87,
          90,
          100,
          98,
          136,
          138,
          101,
          106,
          103,
          94,
          123,
          111,
          119,
          97,
          130,
          103,
          111,
          117,
          128,
          108,
          104,
          104,
          42,
          146,
          97,
          89,
          133,
          94,
          98,
          53,
          137,
          146,
          96,
          104,
          97,
          83,
          110,
          72,
          97,
          91,
          66,
          123,
          72,
          110,
          108,
          81,
          89,
          90,
          82,
          89,
          99,
          101,
          81,
          137,
          29,
          116,
          98,
          130,
          90,
          88,
          77,
          100,
          104,
          148,
          69,
          107,
          144,
          121,
          90,
          164,
          110,
          110,
          110,
          73,
          11,
          77,
          132,
          89,
          115,
          75,
          111,
          101,
          69,
          106,
          89,
          90,
          112,
          106,
          12,
          91,
          114,
          59,
          153,
          93,
          151,
          111,
          101,
          102,
          90,
          165,
          107,
          99,
          105,
          109,
          162,
          88,
          69,
          109,
          113,
          143,
          27,
          90,
          127,
          99,
          92,
          98,
          90,
          119,
          102,
          112,
          135,
          98,
          79,
          110,
          93,
          78,
          62,
          90,
          93,
          94,
          80,
          118,
          127,
          94,
          127,
          82,
          84,
          93,
          104,
          89,
          153,
          96,
          71,
          127,
          84,
          105,
          147,
          101,
          63,
          111,
          81,
          70,
          137,
          96,
          107,
          106,
          106,
          100,
          132,
          128,
          110,
          137,
          86,
          170,
          97,
          95,
          87,
          84,
          98,
          63,
          22,
          58,
          126,
          99,
          140,
          98,
          158,
          111,
          66,
          113,
          89,
          109,
          116,
          102,
          162,
          125,
          103,
          88,
          110,
          97,
          101,
          91,
          79,
          91,
          98,
          112,
          71,
          100,
          94,
          112,
          94,
          90,
          95,
          130,
          93,
          73,
          100,
          101,
          117,
          105,
          97,
          92,
          102,
          121,
          107,
          75,
          85,
          97,
          96,
          64,
          107,
          104,
          61,
          89,
          92,
          54,
          84,
          121,
          103,
          111,
          128,
          120,
          70,
          97,
          118,
          125,
          69,
          128,
          104,
          72,
          126,
          159,
          96,
          112,
          81,
          75,
          98,
          106,
          133,
          109,
          86,
          230,
          59,
          97,
          105,
          87,
          107,
          103,
          89,
          106,
          115,
          82,
          104,
          65,
          52,
          112,
          95,
          63,
          150,
          108,
          54,
          114,
          70,
          103,
          102,
          122,
          83,
          128,
          106,
          97,
          133,
          92,
          94,
          95,
          134,
          80,
          160,
          98,
          129,
          88,
          113,
          113,
          28,
          177,
          87,
          133,
          104,
          88,
          101,
          100,
          130,
          28,
          100,
          85,
          110,
          110,
          105,
          76,
          46,
          150,
          136,
          101,
          168,
          101,
          132,
          73,
          99,
          80,
          98,
          179,
          85,
          97,
          113,
          54,
          86,
          91,
          127,
          122,
          61,
          155,
          96,
          90,
          95,
          108,
          163,
          143,
          91,
          91,
          107,
          123,
          151,
          176,
          57,
          119,
          108,
          114,
          118,
          114,
          82,
          24,
          24,
          76,
          92,
          121,
          119,
          105,
          101,
          68,
          127,
          94,
          75,
          109,
          147,
          92,
          109,
          52,
          203,
          98,
          59,
          94,
          106,
          191,
          124,
          111,
          112,
          107,
          88,
          89,
          105,
          99,
          75,
          92,
          97,
          113,
          106,
          97,
          312,
          83,
          90,
          88,
          99,
          83,
          106,
          117,
          74,
          133,
          14,
          94,
          84,
          104,
          126,
          104,
          117,
          92,
          108,
          141,
          60,
          107,
          121,
          85,
          66,
          88,
          47,
          127,
          130,
          96,
          137,
          73,
          122,
          176,
          117,
          121,
          110,
          146,
          156,
          128,
          96,
          62,
          87,
          96,
          23,
          108,
          90,
          65,
          142,
          94,
          46,
          94,
          124,
          92,
          124,
          151,
          81,
          93,
          59,
          69,
          133,
          79,
          103,
          106,
          82,
          97,
          86,
          91,
          90,
          104,
          145,
          93,
          84,
          118,
          66,
          87,
          32,
          99,
          110,
          126,
          62,
          107,
          52,
          104,
          110,
          115,
          99,
          101,
          84,
          145,
          102,
          98,
          57,
          96,
          78,
          97,
          111,
          110,
          179,
          89,
          122,
          126,
          97,
          88,
          118,
          154,
          95,
          92,
          111,
          101,
          110,
          139,
          80,
          95,
          141,
          87,
          120,
          74,
          91,
          142,
          75,
          92,
          77,
          135,
          128,
          125,
          173,
          118,
          140,
          68,
          62,
          85,
          117,
          65,
          87,
          92,
          112,
          94,
          116,
          116,
          67,
          90,
          89,
          153,
          94,
          86,
          92,
          103,
          103,
          112,
          128,
          73,
          143,
          75,
          109,
          70,
          112,
          80,
          80,
          105,
          102,
          105,
          97,
          76,
          128,
          90,
          96,
          117,
          46,
          76,
          132,
          96,
          150,
          134,
          102,
          100,
          99,
          112,
          66,
          132,
          117,
          116,
          44,
          109,
          157,
          169,
          101,
          83,
          93,
          122,
          90,
          63,
          103,
          84,
          33,
          109,
          95,
          125,
          81,
          130,
          81,
          19,
          138,
          46,
          24,
          102,
          92,
          138,
          150,
          97,
          69,
          98,
          112,
          100,
          102,
          31,
          59,
          91,
          100,
          80,
          42,
          62,
          134,
          116,
          86,
          87,
          71,
          146,
          126,
          93,
          55,
          128,
          146,
          115,
          113,
          119,
          97,
          101,
          96,
          93,
          105,
          3,
          161,
          72,
          101,
          84,
          123,
          142,
          77,
          85,
          108,
          112,
          98,
          91,
          96,
          107,
          63,
          98,
          176,
          91,
          106,
          111,
          124,
          94,
          78,
          108,
          95,
          93,
          117,
          96,
          73,
          101,
          103,
          81,
          118,
          104,
          95,
          124,
          106,
          87,
          89,
          124,
          85,
          53,
          105,
          135,
          91,
          44,
          99,
          96,
          159,
          138,
          40,
          138,
          59,
          124,
          93,
          143,
          125,
          47,
          93,
          95,
          92,
          105,
          112,
          91,
          100,
          107,
          133,
          91,
          75,
          99,
          81,
          63,
          46,
          94,
          82,
          93,
          110,
          117,
          102,
          135,
          40,
          102,
          85,
          99,
          90,
          109,
          106,
          66,
          94,
          74,
          101,
          90,
          95,
          124,
          106,
          109,
          120,
          126,
          98,
          148,
          61,
          154,
          89,
          85,
          102,
          97,
          117,
          104,
          135,
          88,
          91,
          112,
          97,
          89,
          104,
          75,
          96,
          118,
          115,
          80,
          55,
          106,
          99,
          158,
          86,
          151,
          104,
          121,
          52,
          8,
          88,
          108,
          99,
          58,
          161,
          73,
          91,
          53,
          50,
          110,
          69,
          29,
          90,
          86,
          95,
          89,
          115,
          93,
          92,
          127,
          86,
          80,
          84,
          68,
          97,
          141,
          82,
          80,
          106,
          109,
          92,
          94,
          107,
          100,
          97,
          134,
          117,
          90,
          158,
          70,
          60,
          100,
          114,
          117,
          60,
          91,
          93,
          129,
          100,
          58,
          112,
          148,
          150,
          84,
          65,
          70,
          79,
          87,
          150,
          99,
          97,
          117,
          118,
          95,
          87,
          104,
          93,
          80,
          86,
          85,
          85,
          54,
          88,
          112,
          104,
          87,
          95,
          94,
          103,
          118,
          123,
          122,
          125,
          92,
          91,
          143,
          92,
          94,
          90,
          71,
          86,
          181,
          99,
          104,
          94,
          118,
          71,
          62,
          121,
          90,
          111,
          137,
          99,
          95,
          174,
          81,
          79,
          149,
          97,
          86,
          37,
          33,
          101,
          25,
          150,
          22,
          68,
          104,
          111,
          90,
          81,
          66,
          116,
          106,
          81,
          107,
          115,
          56,
          192,
          51,
          105,
          162,
          107,
          55,
          77,
          63,
          136,
          101,
          79,
          106,
          162,
          71,
          97,
          83,
          132,
          57,
          64,
          92,
          119,
          72,
          94,
          94,
          105,
          97,
          136,
          135,
          79,
          103,
          115,
          104,
          141,
          147,
          73,
          130,
          115,
          59,
          137,
          103,
          94,
          54,
          53,
          81,
          53,
          97,
          92,
          90,
          90,
          139,
          103,
          84,
          116,
          106,
          90,
          74,
          93,
          72,
          115,
          105,
          108,
          112,
          114,
          71,
          24,
          23,
          82,
          149,
          153,
          120,
          134,
          76,
          71,
          74,
          95,
          102,
          96,
          103,
          104,
          124,
          93,
          88,
          69,
          117,
          110,
          228,
          44,
          50,
          100,
          93,
          117,
          93,
          54,
          110,
          87,
          110,
          121,
          86,
          95,
          76,
          99,
          108,
          130,
          96,
          75,
          29,
          88,
          88,
          106,
          61,
          96,
          104,
          59,
          25,
          123,
          95,
          140,
          98,
          81,
          81,
          155,
          86,
          131,
          105,
          100,
          115,
          98,
          95,
          106,
          93,
          112,
          60,
          94,
          101,
          92,
          139,
          88,
          97,
          73,
          91,
          161,
          133,
          111,
          101,
          112,
          100,
          84,
          58,
          103,
          93,
          65,
          76,
          116,
          166,
          89,
          93,
          160,
          110,
          107,
          91,
          92,
          90,
          90,
          90,
          253,
          94,
          98,
          58,
          97,
          91,
          136,
          106,
          98,
          92,
          116,
          101,
          117,
          97,
          86,
          158,
          30,
          102,
          99,
          106,
          87,
          89,
          81,
          102,
          107,
          24,
          24,
          123,
          126,
          137,
          114,
          87,
          126,
          100,
          106,
          61,
          78,
          149,
          80,
          99,
          105,
          87,
          75,
          97,
          105,
          104,
          108,
          93,
          147,
          151,
          117,
          88,
          100,
          107,
          90,
          102,
          90,
          99,
          62,
          123,
          106,
          140,
          78,
          116,
          60,
          123,
          88,
          105,
          90,
          105,
          93,
          119,
          92,
          46,
          63,
          98,
          125,
          126,
          110,
          110,
          59,
          86,
          118,
          88,
          28,
          84,
          112,
          107,
          14,
          118,
          70,
          55,
          103,
          101,
          97,
          157,
          87,
          83,
          96,
          97,
          134,
          98,
          27,
          89,
          133,
          52,
          49,
          66,
          102,
          124,
          103,
          96,
          103,
          95,
          125,
          74,
          93,
          87,
          91,
          87,
          110,
          108,
          78,
          95,
          56,
          101,
          126,
          99,
          149,
          137,
          68,
          91,
          117,
          104,
          92,
          87,
          91,
          122,
          129,
          120,
          97,
          104,
          105,
          95,
          128,
          108,
          98,
          129,
          133,
          127,
          129,
          88,
          99,
          127,
          77,
          129,
          130,
          68,
          97,
          61,
          67,
          55,
          98,
          79,
          209,
          113,
          135,
          89,
          70,
          87,
          100,
          80,
          92,
          104,
          133,
          150,
          50,
          111,
          151,
          108,
          158,
          104,
          150,
          68,
          106,
          50,
          71,
          110,
          91,
          95,
          137,
          33,
          70,
          93,
          137,
          83,
          74,
          138,
          143,
          108,
          120,
          86,
          116,
          112,
          102,
          96,
          135,
          84,
          98,
          61,
          100,
          90,
          111,
          107,
          61,
          42,
          117,
          99,
          53,
          113,
          53,
          91,
          122,
          96,
          70,
          101,
          88,
          126,
          89,
          109,
          94,
          89,
          138,
          28,
          90,
          128,
          84,
          91,
          83,
          116,
          158,
          87,
          130,
          137,
          128,
          97,
          120,
          71,
          103,
          115,
          159,
          104,
          104,
          95,
          88,
          139,
          119,
          122,
          152,
          99,
          131,
          110,
          49,
          54,
          55,
          109,
          108,
          85,
          122,
          98,
          88,
          97,
          83,
          96,
          135,
          116,
          52,
          98,
          93,
          127,
          108,
          98,
          90,
          93,
          108,
          114,
          101,
          97,
          108,
          95,
          86,
          17,
          49,
          53,
          96,
          112,
          88,
          101,
          106,
          115,
          95,
          97,
          111,
          111,
          97,
          88,
          103,
          82,
          195,
          40,
          112,
          130,
          101,
          94,
          86,
          89,
          100,
          97,
          92,
          41,
          105,
          94,
          115,
          91,
          53,
          72,
          122,
          84,
          88,
          74,
          94,
          95,
          141,
          119,
          79,
          98,
          102,
          113,
          124,
          110,
          99,
          95,
          104,
          116,
          92,
          95,
          121,
          110,
          116,
          114,
          116,
          72,
          119,
          94,
          99,
          103,
          107,
          98,
          89,
          93,
          92,
          49,
          93,
          63,
          117,
          111,
          92,
          121,
          151,
          150,
          103,
          135,
          132,
          110,
          98,
          126,
          51,
          105,
          51,
          100,
          95,
          101,
          120,
          104,
          111,
          62,
          113,
          105,
          89,
          118,
          117,
          99,
          80,
          107,
          117,
          81,
          90,
          97,
          90,
          94,
          93,
          88,
          88,
          132,
          109,
          88,
          114,
          126,
          109,
          42,
          92,
          89,
          119,
          87,
          119,
          82,
          196,
          133,
          124,
          125,
          99,
          82,
          91,
          94,
          78,
          93,
          83,
          109,
          54,
          106,
          111,
          102,
          95,
          106,
          103,
          60,
          113,
          110,
          100,
          129,
          105,
          99,
          73,
          98,
          119,
          118,
          65,
          126,
          100,
          44,
          106,
          146,
          120,
          85,
          90,
          96,
          84,
          51,
          103,
          176,
          101,
          150,
          99,
          91,
          114,
          99,
          119,
          142,
          90,
          105,
          80,
          85,
          78,
          94,
          70,
          69,
          67,
          64,
          90,
          84,
          133,
          123,
          101,
          85,
          107,
          89,
          132,
          124,
          98,
          105,
          97,
          185,
          32,
          22,
          103,
          40,
          109,
          105,
          85,
          95,
          20,
          68,
          108,
          96,
          93,
          82,
          156,
          121,
          129,
          64,
          152,
          104,
          120,
          95,
          93,
          98,
          118,
          105,
          85,
          82,
          85,
          100,
          57,
          74,
          92,
          91,
          99,
          74,
          102,
          107,
          139,
          44,
          91,
          69,
          76,
          101,
          96,
          97,
          54,
          53,
          110,
          100,
          142,
          10,
          107,
          102,
          100,
          102,
          108,
          106,
          77,
          66,
          112,
          92,
          170,
          85,
          80,
          96,
          108,
          124,
          86,
          84,
          103,
          154,
          91,
          63,
          93,
          122,
          171,
          90,
          116,
          128,
          65,
          83,
          105,
          120,
          104,
          26,
          76,
          49,
          29,
          153,
          90,
          76,
          101,
          55,
          111,
          148,
          111,
          103,
          105,
          101,
          115,
          66,
          97,
          110,
          45,
          94,
          122,
          132,
          117,
          86,
          85,
          126,
          99,
          91,
          94,
          148,
          130,
          78,
          99,
          91,
          79,
          101,
          98,
          126,
          103,
          101,
          90,
          69,
          106,
          112,
          151,
          89,
          124,
          100,
          104,
          101,
          161,
          94,
          99,
          99,
          121,
          95,
          91,
          127,
          137,
          116,
          98,
          93,
          104,
          106,
          87,
          91,
          102,
          116,
          120,
          116,
          87,
          105,
          90,
          124,
          123,
          100,
          121,
          107,
          108,
          83,
          93,
          106,
          83,
          92,
          126,
          47,
          23,
          23,
          125,
          88,
          92,
          98,
          96,
          61,
          103,
          71,
          114,
          104,
          90,
          46,
          128,
          107,
          102,
          95,
          74,
          93,
          115,
          90,
          96,
          96,
          69,
          93,
          90,
          48,
          86,
          105,
          80,
          77,
          69,
          94,
          97,
          88,
          78,
          102,
          116,
          89,
          51,
          81,
          97,
          119,
          93,
          83,
          91,
          120,
          74,
          65,
          91,
          143,
          99,
          111,
          84,
          94,
          110,
          103,
          98,
          106,
          126,
          145,
          129,
          121,
          99,
          146,
          65,
          98,
          124,
          91,
          96,
          106,
          100,
          96,
          101,
          88,
          104,
          90,
          97,
          82,
          22,
          149,
          111,
          99,
          94,
          123,
          69,
          185,
          90,
          22,
          94,
          97,
          46,
          92,
          97,
          110,
          140,
          141,
          74,
          124,
          105,
          99,
          91,
          108,
          110,
          98,
          91,
          60,
          96,
          61,
          74,
          83,
          134,
          100,
          51,
          99,
          86,
          52,
          97,
          98,
          128,
          58,
          98,
          126,
          98,
          30,
          101,
          78,
          95,
          161,
          22,
          75,
          99,
          106,
          95,
          158,
          86,
          98,
          94,
          96,
          99,
          129,
          90,
          124,
          40,
          125,
          54,
          170,
          87,
          136,
          93,
          113,
          110,
          140,
          117,
          107,
          90,
          87,
          114,
          91,
          80,
          86,
          101,
          103,
          106,
          103,
          96,
          140,
          162,
          65,
          76,
          107,
          99,
          80,
          107,
          95,
          138,
          93,
          187,
          99,
          138,
          65,
          61,
          75,
          42,
          182,
          121,
          124,
          100,
          52,
          116,
          83,
          115,
          105,
          97,
          22,
          94,
          95,
          69,
          96,
          88,
          93,
          111,
          93,
          108,
          93,
          189,
          119,
          171,
          114,
          89,
          90,
          63,
          99,
          103,
          100,
          113,
          86,
          115,
          88,
          93,
          84,
          46,
          111,
          61,
          95,
          127,
          91,
          115,
          92,
          131,
          103,
          84,
          124,
          106,
          87,
          133,
          113,
          122,
          120,
          129,
          102,
          146,
          96,
          89,
          95,
          99,
          95,
          163,
          85,
          74,
          84,
          105,
          114,
          73,
          108,
          124,
          127,
          24,
          122,
          124,
          113,
          137,
          46,
          49,
          105,
          103,
          87,
          99,
          132,
          87,
          97,
          63,
          66,
          89,
          107,
          90,
          50,
          111,
          83,
          112,
          94,
          123,
          100,
          59,
          91,
          60,
          134,
          127,
          158,
          89,
          87,
          62,
          93,
          106,
          137,
          106,
          101,
          128,
          108,
          76,
          106,
          97,
          99,
          135,
          125,
          75,
          116,
          97,
          112,
          89,
          168,
          48,
          67,
          102,
          108,
          115,
          101,
          83,
          104,
          90,
          114,
          93,
          102,
          96,
          111,
          100,
          154,
          110,
          103,
          91,
          94,
          96,
          85,
          79,
          123,
          112,
          121,
          130,
          149,
          87,
          108,
          114,
          90,
          94,
          78,
          124,
          89,
          125,
          105,
          108,
          92,
          14,
          101,
          100,
          97,
          96,
          106,
          58,
          89,
          135,
          98,
          96,
          30,
          88,
          78,
          63,
          107,
          47,
          83,
          134,
          96,
          91,
          27,
          108,
          125,
          80,
          143,
          94,
          85,
          105,
          113,
          95,
          78,
          81,
          113,
          99,
          80,
          75,
          124,
          97,
          106,
          100,
          108,
          97,
          91,
          68,
          105,
          92,
          101,
          90,
          87,
          157,
          81,
          159,
          96,
          82,
          56,
          116,
          63,
          86,
          28,
          132,
          117,
          94,
          94,
          92,
          81,
          116,
          93,
          89,
          86,
          108,
          81,
          90,
          103,
          97,
          98,
          135,
          92,
          101,
          91,
          98,
          103,
          45,
          90,
          101,
          78,
          98,
          66,
          74,
          79,
          133,
          92,
          176,
          115,
          112,
          121,
          118,
          113,
          110,
          103,
          90,
          103,
          89,
          74,
          94,
          25,
          90,
          54,
          33,
          117,
          118,
          93,
          88,
          86,
          103,
          72,
          130,
          47,
          109,
          91,
          132,
          70,
          96,
          154,
          103,
          47,
          111,
          129,
          137,
          131,
          65,
          95,
          135,
          89,
          97,
          96,
          137,
          126,
          95,
          91,
          120,
          83,
          104,
          101,
          94,
          108,
          13,
          87,
          99,
          105,
          98,
          101,
          68,
          96,
          109,
          62,
          78,
          79,
          60,
          96,
          52,
          87,
          192,
          112,
          85,
          60,
          96,
          90,
          124,
          90,
          86,
          97,
          101,
          88,
          99,
          56,
          114,
          101,
          101,
          224,
          153,
          82,
          127,
          153,
          78,
          110,
          132,
          59,
          23,
          66,
          28,
          84,
          115,
          119,
          87,
          117,
          99,
          92,
          133,
          89,
          92,
          112,
          94,
          103,
          90,
          75,
          48,
          115,
          103,
          26,
          128,
          136,
          120,
          81,
          23,
          81,
          90,
          80,
          94,
          90,
          96,
          90,
          97,
          92,
          119,
          68,
          93,
          95,
          100,
          114,
          125,
          103,
          53,
          86,
          124,
          102,
          89,
          102,
          135,
          119,
          96,
          103,
          96,
          112,
          124,
          85,
          76,
          50,
          81,
          104,
          97,
          127,
          85,
          88,
          123,
          92,
          132,
          98,
          119,
          154,
          110,
          88,
          127,
          123,
          73,
          90,
          59,
          57,
          124,
          79,
          48,
          101,
          95,
          92,
          98,
          100,
          103,
          110,
          93,
          91,
          72,
          107,
          141,
          92,
          95,
          88,
          195,
          105,
          54,
          55,
          69,
          119,
          106,
          96,
          95,
          110,
          135,
          128,
          79,
          69,
          89,
          91,
          123,
          110,
          24,
          185,
          104,
          84,
          114,
          61,
          88,
          156,
          18,
          91,
          121,
          112,
          101,
          111,
          119,
          93,
          121,
          67,
          104,
          97,
          120,
          106,
          95,
          93,
          165,
          83,
          113,
          68,
          88,
          119,
          132,
          97,
          84,
          110,
          97,
          119,
          103,
          90,
          98,
          86,
          104,
          105,
          97,
          81,
          89,
          139,
          91,
          93,
          157,
          131,
          100,
          84,
          70,
          104,
          94,
          111,
          85,
          78,
          125,
          190,
          108,
          94,
          62,
          106,
          130,
          113,
          102,
          130,
          92,
          32,
          110,
          78,
          86,
          100,
          135,
          171,
          132,
          96,
          52,
          100,
          98,
          105,
          127,
          105,
          107,
          98,
          117,
          105,
          107,
          118,
          80,
          85,
          111,
          26,
          79,
          87,
          86,
          93,
          90,
          105,
          98,
          87,
          151,
          11,
          96,
          83,
          67,
          82,
          135,
          102,
          86,
          116,
          98,
          77,
          172,
          116,
          97,
          110,
          78,
          40,
          107,
          108,
          113,
          77,
          107,
          107,
          124,
          113,
          113,
          111,
          90,
          59,
          97,
          91,
          107,
          92,
          153,
          102,
          106,
          73,
          93,
          128,
          87,
          91,
          69,
          81,
          150,
          90,
          133,
          29,
          90,
          91,
          102,
          44,
          66,
          92,
          81,
          65,
          58,
          116,
          161,
          106,
          98,
          107,
          109,
          108,
          103,
          89,
          90,
          107,
          137,
          102,
          103,
          95,
          66,
          79,
          79,
          95,
          86,
          85,
          126,
          118,
          150,
          104,
          108,
          116,
          47,
          123,
          91,
          100,
          135,
          78,
          140,
          103,
          99,
          116,
          99,
          127,
          101,
          154,
          44,
          94,
          77,
          87,
          58,
          70,
          91,
          126,
          25,
          80,
          117,
          133,
          151,
          132,
          112,
          62,
          60,
          114,
          106,
          95,
          91,
          145,
          81,
          99,
          100,
          100,
          58,
          104,
          105,
          109,
          80,
          99,
          149,
          109,
          111,
          141,
          106,
          129,
          112,
          64,
          131,
          88,
          132,
          84,
          122,
          102,
          19,
          92,
          106,
          94,
          119,
          139,
          91,
          90,
          104,
          106,
          94,
          82,
          86,
          106,
          104,
          98,
          95,
          72,
          82,
          110,
          89,
          91,
          87,
          118,
          92,
          54,
          114,
          125,
          53,
          101,
          116,
          135,
          31,
          86,
          96,
          111,
          105,
          89,
          98,
          111,
          117,
          91,
          48,
          95,
          125,
          65,
          77,
          100,
          93,
          106,
          162,
          113,
          93,
          177,
          104,
          80,
          92,
          66,
          103,
          107,
          92,
          53,
          93,
          90,
          121,
          105,
          64,
          83,
          131,
          127,
          98,
          120,
          96,
          92,
          135,
          105,
          75,
          71,
          143,
          142,
          87,
          80,
          91,
          73,
          94,
          75,
          83,
          92,
          127,
          95,
          130,
          24,
          119,
          139,
          97,
          120,
          120,
          103,
          109,
          117,
          113,
          133,
          112,
          91,
          88,
          89,
          109,
          101,
          149,
          100,
          84,
          117,
          107,
          113,
          158,
          97,
          97,
          136,
          71,
          209,
          105,
          70,
          30,
          118,
          93,
          98,
          46,
          44,
          90,
          116,
          111,
          52,
          100,
          107,
          81,
          99,
          91,
          93,
          123,
          118,
          24,
          104,
          96,
          90,
          117,
          90,
          85,
          77,
          87,
          46,
          86,
          100,
          24,
          83,
          64,
          86,
          91,
          76,
          96,
          81,
          96,
          73,
          93,
          102,
          96,
          100,
          109,
          89,
          112,
          121,
          44,
          137,
          90,
          87,
          120,
          70,
          101,
          107,
          97,
          115,
          110,
          90,
          94,
          60,
          61,
          118,
          105,
          93,
          81,
          113,
          82,
          85,
          84,
          105,
          88,
          87,
          25,
          112,
          34,
          103,
          108,
          51,
          110,
          91,
          94,
          67,
          102,
          64,
          93,
          116,
          81,
          94,
          101,
          92,
          107,
          90,
          128,
          23,
          200,
          105,
          100,
          95,
          73,
          79,
          119,
          103,
          95,
          91,
          29,
          109,
          204,
          60,
          137,
          90,
          93,
          112,
          61,
          135,
          35,
          97,
          101,
          130,
          103,
          85,
          86,
          85,
          105,
          91,
          96,
          95,
          90,
          109,
          117,
          133,
          106,
          110,
          81,
          55,
          101,
          88,
          100,
          86,
          111,
          89,
          86,
          164,
          91,
          102,
          84,
          95,
          82,
          97,
          91,
          102,
          82,
          88,
          97,
          89,
          155,
          71,
          67,
          103,
          77,
          102,
          83,
          90,
          102,
          90,
          106,
          104,
          53,
          62,
          92,
          110,
          107,
          132,
          65,
          93,
          136,
          147,
          143,
          40,
          118,
          68,
          93,
          86,
          118,
          84,
          58,
          114,
          68,
          64,
          83,
          106,
          87,
          102,
          91,
          77,
          81,
          102,
          100,
          109,
          110,
          88,
          97,
          54,
          75,
          95,
          101,
          93,
          100,
          85,
          94,
          104,
          55,
          137,
          103,
          127,
          93,
          95,
          45,
          111,
          101,
          99,
          165,
          53,
          208,
          237,
          84,
          53,
          54,
          53,
          122,
          72,
          103,
          82,
          119,
          78,
          79,
          102,
          93,
          91,
          87,
          89,
          35,
          122,
          100,
          106,
          116,
          72,
          90,
          150,
          80,
          91,
          108,
          24,
          88,
          116,
          32,
          142,
          153,
          139,
          105,
          63,
          137,
          79,
          88,
          108,
          91,
          162,
          131,
          95,
          99,
          88,
          96,
          117,
          109,
          107,
          28,
          105,
          112,
          119,
          105,
          107,
          107,
          107,
          94,
          93,
          81,
          139,
          94,
          140,
          103,
          86,
          91,
          94,
          74,
          83,
          108,
          100,
          140,
          85,
          102,
          92,
          86,
          88,
          95,
          81,
          83,
          120,
          93,
          90,
          113,
          99,
          95,
          92,
          46,
          92,
          108,
          118,
          138,
          121,
          129,
          94,
          85,
          88,
          110,
          66,
          111,
          136,
          120,
          96,
          99,
          126,
          92,
          101,
          88,
          125,
          139,
          58,
          125,
          96,
          108,
          98,
          60,
          74,
          95,
          101,
          96,
          98,
          112,
          125,
          95,
          93,
          119,
          94,
          84,
          105,
          98,
          91,
          72,
          129,
          92,
          126,
          88,
          97,
          110,
          73,
          25,
          90,
          100,
          67,
          38,
          102,
          180,
          108,
          130,
          95,
          97,
          155,
          98,
          22,
          96,
          156,
          95,
          129,
          121,
          113,
          80,
          129,
          87,
          63,
          99,
          148,
          123,
          57,
          98,
          95,
          135,
          87,
          52,
          149,
          93,
          88,
          99,
          134,
          22,
          21,
          148,
          98,
          85,
          65,
          28,
          87,
          88,
          108,
          101,
          110,
          92,
          61,
          91,
          146,
          75,
          111,
          92,
          58,
          163,
          130,
          97,
          92,
          96,
          88,
          167,
          109,
          97,
          68,
          121,
          77,
          122,
          110,
          57,
          90,
          103,
          96,
          143,
          121,
          73,
          84,
          127,
          93,
          122,
          148,
          143,
          111,
          115,
          127,
          141,
          117,
          140,
          110,
          118,
          100,
          95,
          88,
          102,
          44,
          149,
          97,
          90,
          121,
          90,
          107,
          148,
          107,
          108,
          88,
          22,
          53,
          74,
          69,
          135,
          90,
          145,
          151,
          120,
          67,
          103,
          114,
          145,
          104,
          124,
          165,
          111,
          144,
          25,
          102,
          70,
          105,
          98,
          163,
          100,
          129,
          101,
          102,
          134,
          128,
          110,
          109,
          21,
          136,
          89,
          147,
          177,
          73,
          91,
          67,
          54,
          97,
          98,
          88,
          59,
          124,
          90,
          109,
          72,
          121,
          83,
          153,
          172,
          103,
          77,
          44,
          72,
          108,
          91,
          97,
          92,
          94,
          90,
          84,
          91,
          92,
          87,
          90,
          94,
          82,
          119,
          94,
          140,
          92,
          26,
          128,
          92,
          162,
          92,
          98,
          117,
          113,
          89,
          120,
          99,
          83,
          131,
          83,
          171,
          144,
          101,
          121,
          92,
          30,
          136,
          46,
          116,
          135,
          110,
          119,
          63,
          141,
          118,
          83,
          94,
          194,
          64,
          107,
          93,
          73,
          72,
          121,
          65,
          98,
          65,
          64,
          145,
          100,
          90,
          109,
          45,
          141,
          130,
          49,
          155,
          101,
          109,
          97,
          111,
          117,
          93,
          89,
          105,
          94,
          162,
          107,
          121,
          133,
          94,
          90,
          95,
          118,
          97,
          119,
          97,
          99,
          105,
          83,
          97,
          109,
          97,
          124,
          92,
          107,
          86,
          123,
          101,
          100,
          24,
          93,
          140,
          98,
          107,
          101,
          107,
          30,
          159,
          46,
          103,
          104,
          115,
          108,
          94,
          132,
          102,
          120,
          105,
          105,
          103,
          94,
          46,
          94,
          103,
          122,
          130,
          94,
          89,
          180,
          130,
          108,
          84,
          94,
          59,
          130,
          128,
          128,
          162,
          89,
          88,
          101,
          113,
          74,
          127,
          106,
          132,
          72,
          99,
          140,
          95,
          82,
          50,
          118,
          102,
          95,
          107,
          160,
          109,
          131,
          104,
          88,
          89,
          52,
          119,
          119,
          57,
          44,
          108,
          112,
          81,
          66,
          88,
          120,
          70,
          96,
          73,
          94,
          76,
          148,
          94,
          114,
          101,
          93,
          95,
          104,
          126,
          94,
          63,
          90,
          98,
          92,
          61,
          77,
          98,
          114,
          112,
          88,
          102,
          114,
          93,
          96,
          82,
          75,
          112,
          95,
          43,
          91,
          62,
          70,
          142,
          114,
          168,
          93,
          165,
          91,
          99,
          105,
          94,
          69,
          82,
          106,
          127,
          95,
          105,
          123,
          48,
          90,
          81,
          91,
          98,
          78,
          60,
          92,
          92,
          103,
          106,
          112,
          124,
          125,
          86,
          96,
          58,
          58,
          92,
          92,
          103,
          42,
          88,
          101,
          110,
          126,
          138,
          154,
          93,
          108,
          129,
          113,
          83,
          151,
          102,
          105,
          126,
          119,
          81,
          89,
          105,
          102,
          193,
          82,
          116,
          110,
          24,
          116,
          116,
          102,
          93,
          112,
          88,
          92,
          84,
          62,
          63,
          128,
          90,
          110,
          133,
          91,
          154,
          107,
          87,
          109,
          93,
          165,
          84,
          110,
          86,
          121,
          147,
          83,
          104,
          118,
          105,
          88,
          51,
          144,
          106,
          131,
          75,
          150,
          112,
          88,
          86,
          60,
          87,
          109,
          168,
          122,
          74,
          60,
          131,
          131,
          158,
          163,
          104,
          97,
          99,
          91,
          73,
          138,
          171,
          93,
          60,
          51,
          121,
          59,
          97,
          125,
          161,
          131,
          91,
          50,
          53,
          140,
          146,
          89,
          107,
          73,
          72,
          133,
          160,
          92,
          105,
          107,
          163,
          171,
          86,
          63,
          134,
          108,
          106,
          87,
          93,
          119,
          93,
          29,
          163,
          119,
          161,
          57,
          129,
          92,
          100,
          81,
          96,
          112,
          90,
          99,
          101,
          162,
          79,
          143,
          130,
          57,
          172,
          122,
          113,
          159,
          117,
          119,
          173,
          102,
          55,
          126,
          116,
          125,
          126,
          106,
          163,
          121,
          89,
          106,
          87,
          93,
          89,
          92,
          95,
          100,
          113,
          104,
          93,
          94,
          88,
          112,
          125,
          128,
          115,
          84,
          91,
          117,
          97,
          80,
          94,
          119,
          102,
          112,
          82,
          118,
          96,
          107,
          103,
          102,
          112,
          99,
          105,
          104,
          87,
          85,
          95,
          91,
          93,
          94,
          135,
          103,
          102,
          123,
          90,
          118,
          126,
          133,
          110,
          88,
          85,
          60,
          91,
          82,
          121,
          85,
          104,
          126,
          95,
          102,
          76,
          77,
          130,
          91,
          107,
          97,
          90,
          90,
          110,
          138,
          117,
          82,
          127,
          145,
          102,
          100,
          99,
          173,
          72,
          61,
          119,
          82,
          115,
          66,
          111,
          103,
          98,
          106,
          89,
          135,
          103,
          86,
          128,
          74,
          133,
          15,
          113,
          120,
          120,
          99,
          76,
          97,
          112,
          108,
          81,
          127,
          162,
          85,
          47,
          168,
          99,
          161,
          86,
          89,
          80,
          114,
          90,
          63,
          108,
          177,
          125,
          114,
          103,
          98,
          108,
          98,
          96,
          119,
          87,
          85,
          95,
          127,
          69,
          90,
          90,
          103,
          100,
          85,
          97,
          86,
          100,
          71,
          121,
          102,
          94,
          76,
          136,
          127,
          120,
          95,
          104,
          92,
          92,
          162,
          96,
          120,
          109,
          105,
          85,
          90,
          102,
          85,
          120,
          102,
          58,
          40,
          94,
          87,
          105,
          85,
          93,
          134,
          88,
          88,
          78,
          100,
          96,
          130,
          100,
          90,
          92,
          144,
          125,
          106,
          116,
          116,
          99,
          156,
          124,
          86,
          89,
          103,
          142,
          61,
          134,
          97,
          143,
          83,
          79,
          106,
          89,
          106,
          110,
          78,
          58,
          132,
          132,
          132,
          103,
          58,
          80,
          84,
          92,
          101,
          75,
          122,
          105,
          41,
          110,
          116,
          82,
          89,
          63,
          100,
          100,
          106,
          115,
          60,
          26,
          23,
          107,
          109,
          88,
          54,
          48,
          85,
          91,
          87,
          54,
          95,
          60,
          94,
          60,
          69,
          135,
          111,
          99,
          81,
          126,
          79,
          88,
          82,
          81,
          63,
          56,
          129,
          107,
          54,
          91,
          56,
          135,
          110,
          98,
          105,
          99,
          86,
          122,
          102,
          115,
          117,
          52,
          102,
          99,
          86,
          124,
          55,
          44,
          71,
          137,
          110,
          102,
          57,
          90,
          79,
          40,
          88,
          102,
          131,
          83,
          136,
          111,
          93,
          139,
          178,
          24,
          152,
          97,
          97,
          100,
          73,
          110,
          93,
          92,
          95,
          107,
          131,
          139,
          173,
          134,
          88,
          127,
          55,
          146,
          111,
          92,
          86,
          87,
          89,
          130,
          86,
          122,
          16,
          135,
          80,
          75,
          131,
          74,
          115,
          114,
          137,
          121,
          92,
          83,
          93,
          87,
          89,
          90,
          95,
          86,
          63,
          106,
          122,
          113,
          118,
          66,
          75,
          93,
          102,
          97,
          121,
          82,
          111,
          86,
          83,
          205,
          118,
          96,
          141,
          133,
          104,
          127,
          87,
          87,
          95,
          107,
          99,
          98,
          111,
          141,
          133,
          117,
          120,
          67,
          111,
          104,
          113,
          87,
          130,
          72,
          98,
          41,
          99,
          83,
          99,
          60,
          108,
          117,
          74,
          64,
          126,
          24,
          88,
          90,
          121,
          115,
          94,
          90,
          132,
          86,
          79,
          50,
          123,
          109,
          86,
          91,
          94,
          131,
          93,
          144,
          96,
          91,
          17,
          166,
          103,
          88,
          91,
          102,
          84,
          87,
          104,
          94,
          115,
          96,
          100,
          91,
          100,
          98,
          130,
          138,
          114,
          93,
          95,
          82,
          70,
          79,
          116,
          91,
          113,
          102,
          108,
          83,
          116,
          120,
          90,
          95,
          120,
          142,
          81,
          112,
          106,
          71,
          112,
          82,
          63,
          84,
          137,
          86,
          86,
          130,
          88,
          124,
          95,
          62,
          92,
          90,
          101,
          94,
          156,
          92,
          100,
          84,
          86,
          93,
          56,
          140,
          102,
          145,
          144,
          93,
          86,
          46,
          100,
          98,
          82,
          108,
          117,
          98,
          108,
          106,
          89,
          80,
          114,
          72,
          100,
          83,
          83,
          123,
          123,
          105,
          85,
          75,
          104,
          26,
          90,
          96,
          101,
          101,
          93,
          71,
          80,
          104,
          97,
          57,
          117,
          77,
          109,
          58,
          96,
          89,
          87,
          104,
          94,
          86,
          104,
          131,
          117,
          89,
          106,
          67,
          87,
          128,
          78,
          87,
          119,
          45,
          116,
          87,
          108,
          102,
          93,
          91,
          59,
          97,
          44,
          71,
          63,
          92,
          38,
          130,
          105,
          107,
          105,
          160,
          88,
          107,
          122,
          104,
          104,
          76,
          116,
          132,
          22,
          56,
          90,
          94,
          59,
          103,
          89,
          40,
          92,
          96,
          77,
          84,
          98,
          113,
          125,
          100,
          78,
          134,
          99,
          90,
          67,
          87,
          62,
          57,
          89,
          63,
          99,
          129,
          62,
          89,
          100,
          40,
          93,
          72,
          106,
          97,
          94,
          96,
          107,
          116,
          128,
          86,
          100,
          90,
          95,
          85,
          108,
          107,
          96,
          92,
          93,
          102,
          96,
          53,
          127,
          101,
          23,
          121,
          95,
          110,
          92,
          84,
          129,
          93,
          127,
          89,
          61,
          170,
          118,
          146,
          133,
          98,
          86,
          87,
          100,
          143,
          97,
          24,
          125,
          124,
          64,
          117,
          90,
          62,
          84,
          79,
          44,
          45,
          75,
          118,
          90,
          128,
          137,
          86,
          71,
          119,
          86,
          102,
          145,
          126,
          133,
          86,
          87,
          123,
          107,
          116,
          87,
          89,
          77,
          52,
          88,
          78,
          79,
          86,
          137,
          62,
          104,
          94,
          46,
          153,
          83,
          33,
          128,
          140,
          91,
          100,
          85,
          108,
          78,
          63,
          107,
          123,
          133,
          110,
          91,
          116,
          121,
          119,
          137,
          100,
          117,
          90,
          64,
          87,
          110,
          98,
          116,
          106,
          59,
          120,
          122,
          103,
          123,
          151,
          86,
          121,
          139,
          104,
          96,
          130,
          103,
          84,
          190,
          114,
          116,
          93,
          119,
          95,
          138,
          86,
          95,
          70,
          85,
          95,
          111,
          123,
          94,
          91,
          141,
          93,
          140,
          84,
          37,
          81,
          93,
          92,
          110,
          111,
          91,
          115,
          96,
          125,
          101,
          114,
          67,
          110,
          77,
          23,
          108,
          78,
          94,
          88,
          115,
          84,
          114,
          83,
          95,
          130,
          144,
          117,
          109,
          98,
          132,
          91,
          92,
          118,
          98,
          93,
          94,
          94,
          45,
          54,
          72,
          101,
          12,
          143,
          74,
          95,
          77,
          107,
          59,
          34,
          137,
          100,
          114,
          83,
          129,
          83
         ],
         "xaxis": "x",
         "yaxis": "y"
        },
        {
         "name": "Shows",
         "type": "histogram",
         "x": [
          1,
          3,
          1,
          1,
          2,
          2,
          1,
          1,
          1,
          1,
          2,
          2,
          3,
          2,
          1,
          1,
          1,
          1,
          1,
          1,
          1,
          1,
          1,
          2,
          6,
          1,
          1,
          9,
          1,
          2,
          3,
          1,
          1,
          2,
          1,
          1,
          1,
          2,
          1,
          4,
          1,
          1,
          2,
          3,
          1,
          2,
          4,
          2,
          1,
          1,
          1,
          1,
          1,
          1,
          1,
          2,
          4,
          1,
          3,
          1,
          4,
          2,
          3,
          1,
          1,
          1,
          5,
          1,
          1,
          1,
          1,
          2,
          8,
          1,
          1,
          1,
          1,
          1,
          1,
          1,
          3,
          1,
          1,
          1,
          1,
          1,
          1,
          1,
          2,
          1,
          2,
          3,
          1,
          1,
          1,
          1,
          2,
          1,
          1,
          3,
          1,
          4,
          1,
          1,
          1,
          4,
          2,
          1,
          1,
          1,
          1,
          1,
          1,
          1,
          1,
          2,
          2,
          1,
          8,
          1,
          1,
          1,
          1,
          1,
          1,
          1,
          1,
          1,
          2,
          2,
          1,
          1,
          3,
          3,
          2,
          1,
          1,
          1,
          1,
          1,
          1,
          1,
          1,
          1,
          9,
          4,
          1,
          1,
          1,
          1,
          5,
          1,
          1,
          1,
          1,
          1,
          1,
          1,
          1,
          1,
          1,
          3,
          1,
          1,
          1,
          1,
          5,
          6,
          2,
          4,
          4,
          4,
          1,
          1,
          1,
          3,
          3,
          1,
          1,
          1,
          1,
          1,
          1,
          1,
          1,
          2,
          1,
          1,
          1,
          1,
          1,
          1,
          5,
          1,
          1,
          1,
          1,
          1,
          7,
          2,
          1,
          1,
          1,
          1,
          1,
          2,
          1,
          1,
          4,
          1,
          2,
          1,
          1,
          2,
          6,
          2,
          1,
          1,
          2,
          1,
          4,
          1,
          1,
          1,
          1,
          1,
          2,
          1,
          1,
          1,
          1,
          2,
          1,
          1,
          2,
          1,
          1,
          1,
          1,
          5,
          1,
          4,
          1,
          2,
          1,
          1,
          1,
          4,
          3,
          1,
          1,
          1,
          2,
          1,
          1,
          1,
          1,
          2,
          4,
          1,
          1,
          1,
          1,
          5,
          1,
          1,
          1,
          1,
          1,
          1,
          1,
          1,
          1,
          1,
          1,
          1,
          2,
          1,
          1,
          1,
          1,
          2,
          1,
          1,
          1,
          1,
          1,
          1,
          1,
          1,
          2,
          1,
          2,
          1,
          1,
          5,
          1,
          1,
          1,
          1,
          2,
          1,
          1,
          1,
          3,
          1,
          1,
          1,
          1,
          2,
          2,
          1,
          1,
          1,
          2,
          2,
          1,
          1,
          1,
          6,
          1,
          4,
          2,
          1,
          2,
          1,
          3,
          1,
          6,
          6,
          1,
          1,
          2,
          2,
          1,
          2,
          1,
          1,
          1,
          1,
          1,
          4,
          1,
          2,
          1,
          1,
          2,
          4,
          1,
          1,
          1,
          1,
          1,
          1,
          1,
          1,
          1,
          2,
          1,
          1,
          1,
          15,
          1,
          1,
          1,
          3,
          1,
          1,
          1,
          1,
          1,
          1,
          7,
          3,
          1,
          1,
          1,
          2,
          4,
          3,
          3,
          1,
          2,
          1,
          3,
          1,
          1,
          1,
          1,
          1,
          1,
          1,
          3,
          1,
          1,
          1,
          2,
          1,
          1,
          1,
          1,
          1,
          1,
          1,
          1,
          2,
          4,
          1,
          1,
          1,
          1,
          2,
          1,
          2,
          1,
          1,
          1,
          1,
          2,
          1,
          1,
          1,
          2,
          2,
          6,
          1,
          1,
          1,
          1,
          1,
          3,
          2,
          1,
          1,
          1,
          4,
          1,
          1,
          1,
          2,
          1,
          4,
          1,
          2,
          1,
          1,
          3,
          1,
          1,
          1,
          2,
          1,
          1,
          1,
          1,
          1,
          1,
          1,
          3,
          2,
          3,
          1,
          1,
          1,
          1,
          2,
          1,
          1,
          2,
          1,
          1,
          1,
          1,
          1,
          3,
          1,
          1,
          2,
          2,
          1,
          2,
          3,
          1,
          1,
          1,
          2,
          1,
          2,
          1,
          1,
          4,
          2,
          1,
          3,
          4,
          1,
          3,
          1,
          1,
          2,
          1,
          1,
          5,
          1,
          2,
          2,
          1,
          1,
          1,
          1,
          1,
          1,
          5,
          1,
          1,
          1,
          2,
          1,
          5,
          1,
          5,
          1,
          1,
          1,
          2,
          1,
          1,
          2,
          9,
          1,
          2,
          2,
          1,
          1,
          1,
          1,
          2,
          8,
          1,
          1,
          4,
          1,
          2,
          1,
          1,
          1,
          1,
          1,
          1,
          3,
          1,
          1,
          2,
          1,
          1,
          2,
          1,
          1,
          1,
          1,
          1,
          1,
          1,
          1,
          2,
          1,
          1,
          8,
          1,
          1,
          1,
          4,
          1,
          2,
          1,
          1,
          3,
          1,
          1,
          2,
          1,
          1,
          3,
          1,
          1,
          6,
          1,
          2,
          3,
          1,
          1,
          6,
          2,
          2,
          3,
          3,
          1,
          1,
          1,
          2,
          3,
          7,
          6,
          2,
          3,
          1,
          1,
          1,
          7,
          2,
          1,
          1,
          4,
          3,
          2,
          1,
          1,
          1,
          1,
          1,
          1,
          1,
          1,
          1,
          1,
          1,
          5,
          3,
          1,
          2,
          3,
          2,
          1,
          1,
          1,
          2,
          2,
          3,
          1,
          2,
          1,
          1,
          3,
          3,
          1,
          1,
          2,
          1,
          1,
          3,
          3,
          7,
          1,
          1,
          1,
          1,
          1,
          1,
          6,
          1,
          1,
          1,
          1,
          2,
          1,
          1,
          5,
          2,
          1,
          2,
          1,
          1,
          1,
          1,
          1,
          7,
          1,
          8,
          1,
          1,
          2,
          1,
          1,
          1,
          1,
          1,
          1,
          1,
          3,
          1,
          1,
          1,
          1,
          2,
          2,
          1,
          1,
          1,
          1,
          1,
          1,
          1,
          1,
          1,
          1,
          2,
          1,
          2,
          5,
          5,
          1,
          2,
          1,
          1,
          1,
          1,
          2,
          1,
          2,
          1,
          1,
          2,
          1,
          1,
          11,
          6,
          1,
          1,
          1,
          1,
          3,
          1,
          1,
          1,
          1,
          3,
          1,
          1,
          3,
          1,
          5,
          1,
          1,
          1,
          3,
          2,
          1,
          1,
          11,
          2,
          1,
          3,
          1,
          1,
          4,
          1,
          2,
          1,
          1,
          1,
          1,
          1,
          1,
          2,
          1,
          1,
          2,
          1,
          1,
          1,
          1,
          1,
          5,
          1,
          1,
          1,
          1,
          1,
          4,
          1,
          1,
          1,
          1,
          1,
          1,
          1,
          1,
          3,
          1,
          1,
          3,
          1,
          7,
          4,
          1,
          1,
          3,
          1,
          1,
          1,
          5,
          2,
          2,
          1,
          1,
          1,
          1,
          1,
          2,
          2,
          1,
          1,
          1,
          3,
          7,
          1,
          2,
          1,
          1,
          1,
          1,
          2,
          2,
          1,
          2,
          2,
          1,
          1,
          7,
          1,
          1,
          2,
          7,
          1,
          2,
          2,
          4,
          1,
          2,
          3,
          1,
          1,
          1,
          1,
          2,
          3,
          2,
          1,
          5,
          1,
          2,
          2,
          1,
          1,
          7,
          1,
          1,
          3,
          3,
          2,
          2,
          1,
          1,
          1,
          1,
          1,
          2,
          1,
          2,
          1,
          1,
          1,
          1,
          2,
          2,
          1,
          2,
          1,
          1,
          1,
          1,
          1,
          1,
          1,
          1,
          3,
          1,
          1,
          2,
          4,
          1,
          1,
          1,
          1,
          2,
          2,
          1,
          2,
          3,
          2,
          5,
          1,
          5,
          1,
          1,
          1,
          1,
          1,
          5,
          1,
          2,
          2,
          1,
          1,
          1,
          3,
          1,
          1,
          2,
          7,
          1,
          1,
          2,
          2,
          1,
          1,
          1,
          1,
          1,
          2,
          1,
          1,
          1,
          1,
          1,
          5,
          1,
          1,
          1,
          1,
          1,
          1,
          1,
          1,
          1,
          1,
          1,
          1,
          1,
          1,
          1,
          1,
          1,
          1,
          1,
          2,
          2,
          2,
          1,
          5,
          1,
          3,
          2,
          1,
          1,
          1,
          7,
          2,
          1,
          3,
          1,
          2,
          1,
          3,
          1,
          1,
          2,
          1,
          1,
          2,
          1,
          1,
          1,
          1,
          1,
          1,
          1,
          1,
          3,
          1,
          1,
          3,
          2,
          4,
          1,
          3,
          1,
          1,
          1,
          2,
          4,
          4,
          1,
          1,
          1,
          1,
          1,
          5,
          1,
          1,
          1,
          1,
          1,
          1,
          2,
          1,
          1,
          1,
          3,
          1,
          2,
          1,
          1,
          1,
          2,
          1,
          1,
          4,
          1,
          1,
          1,
          1,
          1,
          2,
          1,
          1,
          1,
          10,
          1,
          6,
          1,
          1,
          1,
          1,
          1,
          2,
          2,
          1,
          2,
          2,
          1,
          2,
          3,
          5,
          2,
          5,
          1,
          1,
          4,
          1,
          1,
          1,
          1,
          1,
          1,
          1,
          1,
          2,
          1,
          1,
          1,
          1,
          1,
          1,
          1,
          1,
          1,
          2,
          1,
          1,
          2,
          1,
          2,
          1,
          1,
          1,
          2,
          1,
          1,
          1,
          1,
          4,
          1,
          1,
          2,
          1,
          3,
          2,
          1,
          1,
          1,
          3,
          1,
          1,
          1,
          1,
          1,
          1,
          3,
          1,
          1,
          3,
          1,
          13,
          1,
          1,
          2,
          1,
          1,
          5,
          1,
          1,
          4,
          1,
          1,
          1,
          1,
          1,
          1,
          1,
          3,
          1,
          1,
          1,
          1,
          2,
          1,
          1,
          1,
          1,
          1,
          1,
          1,
          1,
          1,
          1,
          1,
          1,
          1,
          2,
          1,
          1,
          1,
          1,
          1,
          1,
          1,
          1,
          1,
          1,
          1,
          1,
          3,
          1,
          1,
          1,
          3,
          3,
          1,
          1,
          6,
          1,
          1,
          1,
          5,
          3,
          1,
          2,
          1,
          1,
          1,
          1,
          1,
          4,
          2,
          1,
          1,
          1,
          1,
          1,
          2,
          1,
          1,
          1,
          1,
          1,
          1,
          1,
          1,
          1,
          1,
          3,
          1,
          1,
          1,
          2,
          3,
          1,
          1,
          2,
          1,
          2,
          1,
          5,
          2,
          1,
          2,
          1,
          1,
          1,
          4,
          1,
          2,
          1,
          1,
          1,
          3,
          2,
          1,
          3,
          1,
          1,
          1,
          1,
          1,
          1,
          2,
          4,
          2,
          1,
          1,
          1,
          1,
          3,
          5,
          1,
          1,
          1,
          1,
          1,
          1,
          1,
          1,
          4,
          1,
          1,
          4,
          1,
          2,
          6,
          1,
          1,
          1,
          1,
          1,
          1,
          2,
          1,
          3,
          1,
          2,
          1,
          2,
          8,
          1,
          1,
          1,
          2,
          3,
          1,
          1,
          1,
          4,
          2,
          1,
          2,
          1,
          1,
          3,
          1,
          1,
          1,
          1,
          6,
          1,
          1,
          1,
          3,
          9,
          5,
          1,
          3,
          1,
          2,
          1,
          1,
          2,
          1,
          1,
          2,
          3,
          2,
          2,
          1,
          1,
          1,
          1,
          1,
          1,
          1,
          2,
          1,
          6,
          1,
          1,
          1,
          3,
          13,
          1,
          1,
          1,
          3,
          1,
          1,
          1,
          1,
          1,
          1,
          1,
          1,
          1,
          1,
          1,
          1,
          2,
          4,
          1,
          1,
          5,
          1,
          1,
          16,
          3,
          1,
          1,
          2,
          1,
          1,
          2,
          1,
          1,
          2,
          1,
          6,
          1,
          1,
          1,
          1,
          1,
          1,
          1,
          1,
          1,
          1,
          5,
          1,
          1,
          2,
          2,
          2,
          2,
          3,
          1,
          1,
          2,
          1,
          1,
          1,
          1,
          3,
          2,
          1,
          2,
          9,
          1,
          1,
          1,
          3,
          1,
          1,
          1,
          1,
          1,
          1,
          8,
          1,
          1,
          1,
          1,
          1,
          1,
          1,
          4,
          1,
          2,
          2,
          1,
          2,
          1,
          1,
          1,
          2,
          2,
          2,
          1,
          1,
          1,
          1,
          1,
          1,
          2,
          2,
          1,
          1,
          1,
          3,
          1,
          1,
          1,
          12,
          1,
          1,
          3,
          1,
          1,
          1,
          3,
          1,
          1,
          2,
          1,
          1,
          1,
          1,
          2,
          5,
          1,
          1,
          1,
          1,
          1,
          1,
          1,
          1,
          1,
          2,
          1,
          1,
          1,
          2,
          10,
          1,
          1,
          2,
          1,
          1,
          3,
          4,
          5,
          1,
          2,
          2,
          2,
          1,
          1,
          1,
          2,
          1,
          1,
          2,
          1,
          1,
          1,
          1,
          2,
          3,
          1,
          1,
          1,
          1,
          1,
          1,
          2,
          1,
          1,
          1,
          2,
          1,
          1,
          3,
          1,
          1,
          2,
          1,
          1,
          1,
          3,
          1,
          2,
          4,
          5,
          1,
          2,
          1,
          1,
          4,
          2,
          1,
          1,
          3,
          1,
          2,
          6,
          1,
          1,
          1,
          1,
          1,
          1,
          4,
          1,
          6,
          1,
          1,
          3,
          1,
          1,
          1,
          2,
          1,
          3,
          1,
          1,
          1,
          1,
          1,
          3,
          4,
          1,
          1,
          3,
          3,
          1,
          15,
          6,
          1,
          1,
          2,
          1,
          1,
          4,
          2,
          4,
          1,
          3,
          1,
          3,
          1,
          1,
          1,
          1,
          1,
          1,
          1,
          1,
          1,
          1,
          1,
          5,
          1,
          8,
          1,
          2,
          2,
          1,
          3,
          1,
          1,
          1,
          4,
          1,
          1,
          1,
          1,
          1,
          4,
          1,
          1,
          1,
          2,
          1,
          1,
          4,
          1,
          2,
          1,
          1,
          1,
          2,
          2,
          3,
          1,
          3,
          1,
          1,
          1,
          1,
          2,
          4,
          1,
          1,
          1,
          1,
          1,
          1,
          1,
          5,
          2,
          2,
          1,
          1,
          1,
          1,
          1,
          2,
          1,
          1,
          1,
          1,
          3,
          1,
          1,
          1,
          1,
          1,
          3,
          1,
          1,
          2,
          2,
          1,
          2,
          3,
          2,
          1,
          1,
          2,
          1,
          1,
          1,
          1,
          8,
          1,
          1,
          1,
          1,
          2,
          1,
          1,
          1,
          1,
          1,
          1,
          2,
          2,
          5,
          3,
          3,
          2,
          2,
          1,
          1,
          5,
          1,
          1,
          2,
          1,
          1,
          1,
          1,
          3,
          1,
          1,
          1,
          1,
          2,
          1,
          3,
          1,
          1,
          1,
          2,
          1,
          1,
          2,
          4,
          1,
          1,
          1,
          1,
          3,
          1,
          1,
          1,
          3,
          1,
          1,
          1,
          1,
          1,
          1,
          1,
          1,
          3,
          1,
          1,
          1,
          1,
          1,
          1,
          1,
          2,
          3,
          1,
          1,
          1,
          3,
          1,
          1,
          1,
          1,
          3,
          1,
          1,
          1,
          4,
          1,
          1,
          2,
          1,
          1,
          3,
          1,
          1,
          1,
          1,
          1,
          1,
          1,
          2,
          1,
          6,
          1,
          1,
          1,
          5,
          1,
          1,
          1,
          1,
          2,
          2,
          2,
          1,
          1,
          1,
          1,
          1,
          1,
          1,
          2,
          1,
          1,
          1,
          1,
          2,
          3,
          1,
          2,
          1,
          1,
          1,
          1,
          2,
          1,
          2,
          1,
          2,
          4,
          1,
          1,
          4,
          1,
          1,
          2,
          1,
          1,
          1,
          1,
          10,
          1,
          3,
          1,
          1,
          1,
          1,
          1,
          1,
          1,
          1,
          5,
          1,
          7,
          3,
          3,
          1,
          1,
          1,
          1,
          1,
          1,
          3,
          2,
          2,
          1,
          9,
          1,
          1,
          1,
          1,
          1,
          1,
          1,
          1,
          5,
          3,
          2,
          1,
          1,
          1,
          1,
          1,
          4,
          2,
          3,
          1,
          1,
          4,
          2,
          1,
          1,
          2,
          1,
          1,
          1,
          4,
          1,
          1,
          3,
          1,
          3,
          3,
          6,
          1,
          1,
          2,
          1,
          1,
          2,
          1,
          1,
          3,
          3,
          1,
          1,
          2,
          1,
          1,
          1,
          2,
          1,
          1,
          1,
          4,
          1,
          1,
          1,
          1,
          1,
          1,
          1,
          9,
          1,
          1,
          1,
          1,
          1,
          1,
          1,
          3,
          2,
          1,
          1,
          1,
          1,
          8,
          1,
          1,
          1,
          1,
          1,
          1,
          1,
          3,
          4,
          4,
          1,
          3,
          3,
          1,
          4,
          2,
          2,
          1,
          1,
          1,
          1,
          7,
          1,
          1,
          12,
          1,
          4,
          2,
          1,
          1,
          8,
          1,
          1,
          1,
          5,
          1,
          1,
          11,
          10,
          2,
          1,
          1,
          1,
          8,
          2,
          2,
          2,
          2,
          1,
          1,
          4,
          5,
          1,
          1,
          1,
          2,
          1,
          1,
          2,
          1,
          1,
          1,
          1,
          1,
          1,
          1,
          1,
          1,
          3,
          2,
          1,
          1,
          1,
          1,
          6,
          1,
          1,
          1,
          4,
          2,
          1,
          1,
          1,
          1,
          1,
          3,
          5,
          1,
          1,
          2,
          1,
          1,
          1,
          1,
          1,
          1,
          1,
          2,
          1,
          3,
          1,
          1,
          2,
          1,
          1,
          1,
          1,
          2,
          2,
          1,
          2,
          1,
          1,
          3,
          2,
          1,
          1,
          7,
          1,
          5,
          8,
          1,
          5,
          2,
          1,
          1,
          1,
          1,
          6,
          5,
          2,
          2,
          2,
          4,
          4,
          1,
          2,
          1,
          1,
          2,
          1,
          1,
          1,
          2,
          1,
          1,
          1,
          1,
          1,
          1,
          1,
          1,
          2,
          2,
          1,
          1,
          1,
          1,
          1,
          2,
          1,
          1,
          1,
          1,
          8,
          3,
          2,
          1,
          1,
          1,
          3,
          1,
          1,
          1,
          1,
          1,
          4,
          1,
          1,
          3,
          2,
          1,
          1,
          1,
          1,
          1,
          4,
          1,
          1,
          3,
          3,
          1,
          1,
          2,
          1,
          5,
          1,
          3,
          1,
          7,
          1,
          1,
          2,
          1,
          1,
          1,
          2,
          3,
          2,
          4,
          1,
          2,
          3,
          1,
          1,
          1,
          1,
          1,
          1,
          1,
          1,
          1,
          2,
          1,
          1,
          1,
          3,
          1,
          2,
          1,
          1,
          1,
          6,
          1,
          1,
          1,
          1,
          2,
          1,
          1,
          1,
          6,
          2,
          1,
          1,
          1,
          2,
          3,
          1,
          1,
          1,
          1,
          7,
          1,
          1,
          1,
          3,
          1,
          1,
          1,
          1,
          1,
          1,
          2,
          3,
          1,
          1,
          1,
          5,
          3,
          1,
          6,
          2,
          10,
          1,
          1,
          1,
          1,
          2,
          1,
          1,
          1,
          2,
          3,
          3,
          1,
          1,
          2,
          5,
          1,
          1,
          5,
          8,
          1,
          1,
          1,
          8,
          2,
          1,
          1,
          1,
          3,
          1,
          2,
          1,
          3,
          4,
          1,
          1,
          4,
          2,
          3,
          1,
          2,
          4,
          1,
          1,
          1,
          1,
          1,
          2,
          1,
          1,
          3,
          1,
          3,
          1,
          1,
          2,
          9,
          1,
          2,
          1,
          2,
          2,
          1,
          1,
          1,
          1,
          1,
          1,
          8,
          1,
          1,
          1,
          1,
          2,
          2,
          1,
          3,
          3,
          2,
          2,
          1,
          1,
          2,
          1,
          3,
          1,
          2,
          1,
          5,
          1,
          1,
          2,
          2,
          1,
          1,
          1,
          1,
          3,
          5,
          1,
          1,
          6,
          1,
          2,
          1,
          2,
          1,
          1,
          3,
          1,
          1,
          1,
          2,
          7,
          3,
          1,
          1,
          2,
          1,
          1,
          2,
          2,
          2,
          1,
          1,
          1,
          2,
          2,
          1,
          1,
          1,
          5,
          4,
          1,
          1,
          1,
          4,
          1,
          6,
          1,
          1,
          3,
          1,
          2,
          1,
          1,
          2,
          3,
          1,
          1,
          1,
          1,
          1,
          10,
          1,
          1,
          1,
          1,
          1,
          1,
          1,
          4,
          2,
          1,
          3,
          1,
          1,
          1,
          1,
          8,
          3,
          1,
          3,
          1,
          1,
          1,
          2,
          1,
          2,
          1,
          4,
          4,
          1,
          1,
          2,
          1,
          4,
          1,
          1,
          1,
          1,
          2,
          3,
          1,
          1,
          1,
          1,
          1,
          3,
          2,
          4,
          1,
          2,
          3,
          1,
          2,
          1,
          1,
          1,
          5,
          1
         ],
         "xaxis": "x2",
         "yaxis": "y2"
        }
       ],
       "layout": {
        "template": {
         "data": {
          "bar": [
           {
            "error_x": {
             "color": "#2a3f5f"
            },
            "error_y": {
             "color": "#2a3f5f"
            },
            "marker": {
             "line": {
              "color": "#E5ECF6",
              "width": 0.5
             },
             "pattern": {
              "fillmode": "overlay",
              "size": 10,
              "solidity": 0.2
             }
            },
            "type": "bar"
           }
          ],
          "barpolar": [
           {
            "marker": {
             "line": {
              "color": "#E5ECF6",
              "width": 0.5
             },
             "pattern": {
              "fillmode": "overlay",
              "size": 10,
              "solidity": 0.2
             }
            },
            "type": "barpolar"
           }
          ],
          "carpet": [
           {
            "aaxis": {
             "endlinecolor": "#2a3f5f",
             "gridcolor": "white",
             "linecolor": "white",
             "minorgridcolor": "white",
             "startlinecolor": "#2a3f5f"
            },
            "baxis": {
             "endlinecolor": "#2a3f5f",
             "gridcolor": "white",
             "linecolor": "white",
             "minorgridcolor": "white",
             "startlinecolor": "#2a3f5f"
            },
            "type": "carpet"
           }
          ],
          "choropleth": [
           {
            "colorbar": {
             "outlinewidth": 0,
             "ticks": ""
            },
            "type": "choropleth"
           }
          ],
          "contour": [
           {
            "colorbar": {
             "outlinewidth": 0,
             "ticks": ""
            },
            "colorscale": [
             [
              0,
              "#0d0887"
             ],
             [
              0.1111111111111111,
              "#46039f"
             ],
             [
              0.2222222222222222,
              "#7201a8"
             ],
             [
              0.3333333333333333,
              "#9c179e"
             ],
             [
              0.4444444444444444,
              "#bd3786"
             ],
             [
              0.5555555555555556,
              "#d8576b"
             ],
             [
              0.6666666666666666,
              "#ed7953"
             ],
             [
              0.7777777777777778,
              "#fb9f3a"
             ],
             [
              0.8888888888888888,
              "#fdca26"
             ],
             [
              1,
              "#f0f921"
             ]
            ],
            "type": "contour"
           }
          ],
          "contourcarpet": [
           {
            "colorbar": {
             "outlinewidth": 0,
             "ticks": ""
            },
            "type": "contourcarpet"
           }
          ],
          "heatmap": [
           {
            "colorbar": {
             "outlinewidth": 0,
             "ticks": ""
            },
            "colorscale": [
             [
              0,
              "#0d0887"
             ],
             [
              0.1111111111111111,
              "#46039f"
             ],
             [
              0.2222222222222222,
              "#7201a8"
             ],
             [
              0.3333333333333333,
              "#9c179e"
             ],
             [
              0.4444444444444444,
              "#bd3786"
             ],
             [
              0.5555555555555556,
              "#d8576b"
             ],
             [
              0.6666666666666666,
              "#ed7953"
             ],
             [
              0.7777777777777778,
              "#fb9f3a"
             ],
             [
              0.8888888888888888,
              "#fdca26"
             ],
             [
              1,
              "#f0f921"
             ]
            ],
            "type": "heatmap"
           }
          ],
          "heatmapgl": [
           {
            "colorbar": {
             "outlinewidth": 0,
             "ticks": ""
            },
            "colorscale": [
             [
              0,
              "#0d0887"
             ],
             [
              0.1111111111111111,
              "#46039f"
             ],
             [
              0.2222222222222222,
              "#7201a8"
             ],
             [
              0.3333333333333333,
              "#9c179e"
             ],
             [
              0.4444444444444444,
              "#bd3786"
             ],
             [
              0.5555555555555556,
              "#d8576b"
             ],
             [
              0.6666666666666666,
              "#ed7953"
             ],
             [
              0.7777777777777778,
              "#fb9f3a"
             ],
             [
              0.8888888888888888,
              "#fdca26"
             ],
             [
              1,
              "#f0f921"
             ]
            ],
            "type": "heatmapgl"
           }
          ],
          "histogram": [
           {
            "marker": {
             "pattern": {
              "fillmode": "overlay",
              "size": 10,
              "solidity": 0.2
             }
            },
            "type": "histogram"
           }
          ],
          "histogram2d": [
           {
            "colorbar": {
             "outlinewidth": 0,
             "ticks": ""
            },
            "colorscale": [
             [
              0,
              "#0d0887"
             ],
             [
              0.1111111111111111,
              "#46039f"
             ],
             [
              0.2222222222222222,
              "#7201a8"
             ],
             [
              0.3333333333333333,
              "#9c179e"
             ],
             [
              0.4444444444444444,
              "#bd3786"
             ],
             [
              0.5555555555555556,
              "#d8576b"
             ],
             [
              0.6666666666666666,
              "#ed7953"
             ],
             [
              0.7777777777777778,
              "#fb9f3a"
             ],
             [
              0.8888888888888888,
              "#fdca26"
             ],
             [
              1,
              "#f0f921"
             ]
            ],
            "type": "histogram2d"
           }
          ],
          "histogram2dcontour": [
           {
            "colorbar": {
             "outlinewidth": 0,
             "ticks": ""
            },
            "colorscale": [
             [
              0,
              "#0d0887"
             ],
             [
              0.1111111111111111,
              "#46039f"
             ],
             [
              0.2222222222222222,
              "#7201a8"
             ],
             [
              0.3333333333333333,
              "#9c179e"
             ],
             [
              0.4444444444444444,
              "#bd3786"
             ],
             [
              0.5555555555555556,
              "#d8576b"
             ],
             [
              0.6666666666666666,
              "#ed7953"
             ],
             [
              0.7777777777777778,
              "#fb9f3a"
             ],
             [
              0.8888888888888888,
              "#fdca26"
             ],
             [
              1,
              "#f0f921"
             ]
            ],
            "type": "histogram2dcontour"
           }
          ],
          "mesh3d": [
           {
            "colorbar": {
             "outlinewidth": 0,
             "ticks": ""
            },
            "type": "mesh3d"
           }
          ],
          "parcoords": [
           {
            "line": {
             "colorbar": {
              "outlinewidth": 0,
              "ticks": ""
             }
            },
            "type": "parcoords"
           }
          ],
          "pie": [
           {
            "automargin": true,
            "type": "pie"
           }
          ],
          "scatter": [
           {
            "fillpattern": {
             "fillmode": "overlay",
             "size": 10,
             "solidity": 0.2
            },
            "type": "scatter"
           }
          ],
          "scatter3d": [
           {
            "line": {
             "colorbar": {
              "outlinewidth": 0,
              "ticks": ""
             }
            },
            "marker": {
             "colorbar": {
              "outlinewidth": 0,
              "ticks": ""
             }
            },
            "type": "scatter3d"
           }
          ],
          "scattercarpet": [
           {
            "marker": {
             "colorbar": {
              "outlinewidth": 0,
              "ticks": ""
             }
            },
            "type": "scattercarpet"
           }
          ],
          "scattergeo": [
           {
            "marker": {
             "colorbar": {
              "outlinewidth": 0,
              "ticks": ""
             }
            },
            "type": "scattergeo"
           }
          ],
          "scattergl": [
           {
            "marker": {
             "colorbar": {
              "outlinewidth": 0,
              "ticks": ""
             }
            },
            "type": "scattergl"
           }
          ],
          "scattermapbox": [
           {
            "marker": {
             "colorbar": {
              "outlinewidth": 0,
              "ticks": ""
             }
            },
            "type": "scattermapbox"
           }
          ],
          "scatterpolar": [
           {
            "marker": {
             "colorbar": {
              "outlinewidth": 0,
              "ticks": ""
             }
            },
            "type": "scatterpolar"
           }
          ],
          "scatterpolargl": [
           {
            "marker": {
             "colorbar": {
              "outlinewidth": 0,
              "ticks": ""
             }
            },
            "type": "scatterpolargl"
           }
          ],
          "scatterternary": [
           {
            "marker": {
             "colorbar": {
              "outlinewidth": 0,
              "ticks": ""
             }
            },
            "type": "scatterternary"
           }
          ],
          "surface": [
           {
            "colorbar": {
             "outlinewidth": 0,
             "ticks": ""
            },
            "colorscale": [
             [
              0,
              "#0d0887"
             ],
             [
              0.1111111111111111,
              "#46039f"
             ],
             [
              0.2222222222222222,
              "#7201a8"
             ],
             [
              0.3333333333333333,
              "#9c179e"
             ],
             [
              0.4444444444444444,
              "#bd3786"
             ],
             [
              0.5555555555555556,
              "#d8576b"
             ],
             [
              0.6666666666666666,
              "#ed7953"
             ],
             [
              0.7777777777777778,
              "#fb9f3a"
             ],
             [
              0.8888888888888888,
              "#fdca26"
             ],
             [
              1,
              "#f0f921"
             ]
            ],
            "type": "surface"
           }
          ],
          "table": [
           {
            "cells": {
             "fill": {
              "color": "#EBF0F8"
             },
             "line": {
              "color": "white"
             }
            },
            "header": {
             "fill": {
              "color": "#C8D4E3"
             },
             "line": {
              "color": "white"
             }
            },
            "type": "table"
           }
          ]
         },
         "layout": {
          "annotationdefaults": {
           "arrowcolor": "#2a3f5f",
           "arrowhead": 0,
           "arrowwidth": 1
          },
          "autotypenumbers": "strict",
          "coloraxis": {
           "colorbar": {
            "outlinewidth": 0,
            "ticks": ""
           }
          },
          "colorscale": {
           "diverging": [
            [
             0,
             "#8e0152"
            ],
            [
             0.1,
             "#c51b7d"
            ],
            [
             0.2,
             "#de77ae"
            ],
            [
             0.3,
             "#f1b6da"
            ],
            [
             0.4,
             "#fde0ef"
            ],
            [
             0.5,
             "#f7f7f7"
            ],
            [
             0.6,
             "#e6f5d0"
            ],
            [
             0.7,
             "#b8e186"
            ],
            [
             0.8,
             "#7fbc41"
            ],
            [
             0.9,
             "#4d9221"
            ],
            [
             1,
             "#276419"
            ]
           ],
           "sequential": [
            [
             0,
             "#0d0887"
            ],
            [
             0.1111111111111111,
             "#46039f"
            ],
            [
             0.2222222222222222,
             "#7201a8"
            ],
            [
             0.3333333333333333,
             "#9c179e"
            ],
            [
             0.4444444444444444,
             "#bd3786"
            ],
            [
             0.5555555555555556,
             "#d8576b"
            ],
            [
             0.6666666666666666,
             "#ed7953"
            ],
            [
             0.7777777777777778,
             "#fb9f3a"
            ],
            [
             0.8888888888888888,
             "#fdca26"
            ],
            [
             1,
             "#f0f921"
            ]
           ],
           "sequentialminus": [
            [
             0,
             "#0d0887"
            ],
            [
             0.1111111111111111,
             "#46039f"
            ],
            [
             0.2222222222222222,
             "#7201a8"
            ],
            [
             0.3333333333333333,
             "#9c179e"
            ],
            [
             0.4444444444444444,
             "#bd3786"
            ],
            [
             0.5555555555555556,
             "#d8576b"
            ],
            [
             0.6666666666666666,
             "#ed7953"
            ],
            [
             0.7777777777777778,
             "#fb9f3a"
            ],
            [
             0.8888888888888888,
             "#fdca26"
            ],
            [
             1,
             "#f0f921"
            ]
           ]
          },
          "colorway": [
           "#636efa",
           "#EF553B",
           "#00cc96",
           "#ab63fa",
           "#FFA15A",
           "#19d3f3",
           "#FF6692",
           "#B6E880",
           "#FF97FF",
           "#FECB52"
          ],
          "font": {
           "color": "#2a3f5f"
          },
          "geo": {
           "bgcolor": "white",
           "lakecolor": "white",
           "landcolor": "#E5ECF6",
           "showlakes": true,
           "showland": true,
           "subunitcolor": "white"
          },
          "hoverlabel": {
           "align": "left"
          },
          "hovermode": "closest",
          "mapbox": {
           "style": "light"
          },
          "paper_bgcolor": "white",
          "plot_bgcolor": "#E5ECF6",
          "polar": {
           "angularaxis": {
            "gridcolor": "white",
            "linecolor": "white",
            "ticks": ""
           },
           "bgcolor": "#E5ECF6",
           "radialaxis": {
            "gridcolor": "white",
            "linecolor": "white",
            "ticks": ""
           }
          },
          "scene": {
           "xaxis": {
            "backgroundcolor": "#E5ECF6",
            "gridcolor": "white",
            "gridwidth": 2,
            "linecolor": "white",
            "showbackground": true,
            "ticks": "",
            "zerolinecolor": "white"
           },
           "yaxis": {
            "backgroundcolor": "#E5ECF6",
            "gridcolor": "white",
            "gridwidth": 2,
            "linecolor": "white",
            "showbackground": true,
            "ticks": "",
            "zerolinecolor": "white"
           },
           "zaxis": {
            "backgroundcolor": "#E5ECF6",
            "gridcolor": "white",
            "gridwidth": 2,
            "linecolor": "white",
            "showbackground": true,
            "ticks": "",
            "zerolinecolor": "white"
           }
          },
          "shapedefaults": {
           "line": {
            "color": "#2a3f5f"
           }
          },
          "ternary": {
           "aaxis": {
            "gridcolor": "white",
            "linecolor": "white",
            "ticks": ""
           },
           "baxis": {
            "gridcolor": "white",
            "linecolor": "white",
            "ticks": ""
           },
           "bgcolor": "#E5ECF6",
           "caxis": {
            "gridcolor": "white",
            "linecolor": "white",
            "ticks": ""
           }
          },
          "title": {
           "x": 0.05
          },
          "xaxis": {
           "automargin": true,
           "gridcolor": "white",
           "linecolor": "white",
           "ticks": "",
           "title": {
            "standoff": 15
           },
           "zerolinecolor": "white",
           "zerolinewidth": 2
          },
          "yaxis": {
           "automargin": true,
           "gridcolor": "white",
           "linecolor": "white",
           "ticks": "",
           "title": {
            "standoff": 15
           },
           "zerolinecolor": "white",
           "zerolinewidth": 2
          }
         }
        },
        "title": {
         "text": "Distribuição da duração de filmes e séries"
        },
        "xaxis": {
         "anchor": "y",
         "domain": [
          0,
          1
         ],
         "title": {
          "text": "Duração"
         }
        },
        "xaxis2": {
         "anchor": "y2",
         "domain": [
          0,
          1
         ]
        },
        "yaxis": {
         "anchor": "x",
         "domain": [
          0.575,
          1
         ],
         "title": {
          "text": "Qauntidade"
         }
        },
        "yaxis2": {
         "anchor": "x2",
         "domain": [
          0,
          0.425
         ]
        }
       }
      }
     },
     "metadata": {},
     "output_type": "display_data"
    }
   ],
   "source": [
    "fig = make_subplots(rows=2, cols=1)\n",
    "\n",
    "hist_movies = go.Histogram(x=df_movies_duration['Duration'], name='Movies')\n",
    "hist_shows = go.Histogram(x=df_shows_duration['Duration'], name='Shows')\n",
    "\n",
    "fig.append_trace(hist_movies, row=1, col=1)\n",
    "fig.append_trace(hist_shows, row=2, col=1)\n",
    "\n",
    "fig.update_layout(\n",
    "    title_text=\"Distribuição da duração de filmes e séries\",\n",
    "    xaxis=dict(title='Duração'),\n",
    "    yaxis=dict(title='Qauntidade')\n",
    ")\n",
    "\n",
    "fig.show()\n"
   ]
  },
  {
   "cell_type": "markdown",
   "metadata": {},
   "source": [
    "### 11 - Qual país individual tem o maior número de séries de TV?"
   ]
  },
  {
   "cell_type": "code",
   "execution_count": 57,
   "metadata": {},
   "outputs": [
    {
     "data": {
      "text/plain": [
       "┌────────────────┬───────┐\n",
       "│    Country     │ Total │\n",
       "│    varchar     │ int64 │\n",
       "├────────────────┼───────┤\n",
       "│ United States  │   866 │\n",
       "│ United Kingdom │   256 │\n",
       "│ Japan          │   184 │\n",
       "│ South Korea    │   157 │\n",
       "│ Canada         │   126 │\n",
       "│ France         │    84 │\n",
       "│ India          │    75 │\n",
       "│ Taiwan         │    70 │\n",
       "│ Australia      │    60 │\n",
       "│ Spain          │    57 │\n",
       "│   ·            │     · │\n",
       "│   ·            │     · │\n",
       "│   ·            │     · │\n",
       "│ Jordan         │     1 │\n",
       "│ Switzerland    │     1 │\n",
       "│ Austria        │     1 │\n",
       "│ Cuba           │     1 │\n",
       "│ Senegal        │     1 │\n",
       "│ Philippines    │     1 │\n",
       "│ Croatia        │     1 │\n",
       "│ Mauritius      │     1 │\n",
       "│ Malta          │     1 │\n",
       "│ Hungary        │     1 │\n",
       "├────────────────┴───────┤\n",
       "│   65 rows (20 shown)   │\n",
       "└────────────────────────┘"
      ]
     },
     "execution_count": 57,
     "metadata": {},
     "output_type": "execute_result"
    }
   ],
   "source": [
    "# Como alguns países estão separados por vírgula, irei fazer um split deles\n",
    "df_countries = db.sql(\"\"\"\n",
    "        SELECT DISTINCT\n",
    "            Country,\n",
    "            COUNT(*) AS Total\n",
    "        From\n",
    "        (\n",
    "           SELECT \n",
    "                TRIM(UNNEST(SPLIT(Country, ','))) AS Country\n",
    "            FROM netflix\n",
    "            WHERE Category = 'TV Show'\n",
    "        )\n",
    "        GROUP BY Country\n",
    "        ORDER BY COUNT(*) DESC;\n",
    "       \"\"\")\n",
    "df_countries"
   ]
  },
  {
   "cell_type": "markdown",
   "metadata": {},
   "source": [
    "Podemos ver que os Estados Unidos é o país que mais possui séries na netflix"
   ]
  },
  {
   "cell_type": "code",
   "execution_count": 58,
   "metadata": {},
   "outputs": [
    {
     "data": {
      "text/plain": [
       "┌─────────┬───────┐\n",
       "│ Country │ Total │\n",
       "│ varchar │ int64 │\n",
       "├─────────┼───────┤\n",
       "│ Brazil  │    29 │\n",
       "└─────────┴───────┘"
      ]
     },
     "execution_count": 58,
     "metadata": {},
     "output_type": "execute_result"
    }
   ],
   "source": [
    "# Curiosidade\n",
    "db.sql(\"SELECT * FROM df_countries WHERE Country = 'Brazil'\")"
   ]
  },
  {
   "cell_type": "markdown",
   "metadata": {},
   "source": [
    "Onde o brasil possui 29 séries"
   ]
  },
  {
   "cell_type": "markdown",
   "metadata": {},
   "source": [
    "### 12 - Como podemos ordenar o conjunto de dados por ano?"
   ]
  },
  {
   "cell_type": "markdown",
   "metadata": {},
   "source": [
    "Como no inicio fizemos uma manipulação da tabela e adicionamos a coluna de ano, já possuimos a coluna específica para a ordenação"
   ]
  },
  {
   "cell_type": "code",
   "execution_count": 59,
   "metadata": {},
   "outputs": [
    {
     "data": {
      "text/plain": [
       "┌─────────┬──────────┬──────────────────────┬───┬──────────────────────┬──────────────────────┬───────┐\n",
       "│ Show_Id │ Category │        Title         │ … │         Type         │     Description      │ Year  │\n",
       "│ varchar │ varchar  │       varchar        │   │       varchar        │       varchar        │ int32 │\n",
       "├─────────┼──────────┼──────────────────────┼───┼──────────────────────┼──────────────────────┼───────┤\n",
       "│ s1005   │ Movie    │ BluffMaster!         │ … │ Comedies, Internat…  │ When his girlfrien…  │  2021 │\n",
       "│ s2350   │ Movie    │ Gangaajal            │ … │ Dramas, Internatio…  │ Posted to a small,…  │  2021 │\n",
       "│ s3148   │ TV Show  │ Jenni Rivera: Mari…  │ … │ Spanish-Language T…  │ This drama follows…  │  2021 │\n",
       "│ s3545   │ TV Show  │ Last Tango in Hali…  │ … │ British TV Shows, …  │ Two widowed childh…  │  2021 │\n",
       "│ s3559   │ Movie    │ Leap!                │ … │ Children & Family …  │ Félicie and Victor…  │  2021 │\n",
       "│ s5022   │ TV Show  │ QB1: Beyond the Li…  │ … │ Docuseries           │ This riveting seri…  │  2021 │\n",
       "│ s5907   │ Movie    │ Superbad             │ … │ Comedies, Cult Mov…  │ Hoping to have sex…  │  2021 │\n",
       "│ s5980   │ Movie    │ Tanda Tanya          │ … │ Dramas, Internatio…  │ In a story of inte…  │  2021 │\n",
       "│ s2249   │ Movie    │ Four Christmases     │ … │ Comedies, Romantic…  │ A dating couple is…  │  2021 │\n",
       "│ s2270   │ Movie    │ Fred Claus           │ … │ Children & Family …  │ The holiday season…  │  2021 │\n",
       "│   ·     │   ·      │     ·                │ · │          ·           │          ·           │    ·  │\n",
       "│   ·     │   ·      │     ·                │ · │          ·           │          ·           │    ·  │\n",
       "│   ·     │   ·      │     ·                │ · │          ·           │          ·           │    ·  │\n",
       "│ s3493   │ TV Show  │ La Familia P. Luche  │ … │ International TV S…  │ This irreverent si…  │  NULL │\n",
       "│ s259    │ TV Show  │ A Young Doctor's N…  │ … │ British TV Shows, …  │ Set during the Rus…  │  NULL │\n",
       "│ s550    │ TV Show  │ Anthony Bourdain: …  │ … │ Docuseries           │ This CNN original …  │  NULL │\n",
       "│ s3947   │ TV Show  │ Maron                │ … │ TV Comedies          │ Marc Maron stars a…  │  NULL │\n",
       "│ s5138   │ TV Show  │ Red vs. Blue         │ … │ TV Action & Advent…  │ This parody of fir…  │  NULL │\n",
       "│ s2556   │ TV Show  │ Gunslinger Girl      │ … │ Anime Series, Crim…  │ On the surface, th…  │  NULL │\n",
       "│ s6066   │ TV Show  │ The Adventures of …  │ … │ Kids' TV, TV Comed…  │ Imagine your worst…  │  NULL │\n",
       "│ s2264   │ TV Show  │ Frasier              │ … │ Classic & Cult TV,…  │ Frasier Crane is a…  │  NULL │\n",
       "│ s2289   │ TV Show  │ Friends              │ … │ Classic & Cult TV,…  │ This hit sitcom fo…  │  NULL │\n",
       "│ s3375   │ TV Show  │ Kikoriki             │ … │ Kids' TV             │ A wacky rabbit and…  │  NULL │\n",
       "├─────────┴──────────┴──────────────────────┴───┴──────────────────────┴──────────────────────┴───────┤\n",
       "│ 7787 rows (20 shown)                                                           12 columns (6 shown) │\n",
       "└─────────────────────────────────────────────────────────────────────────────────────────────────────┘"
      ]
     },
     "execution_count": 59,
     "metadata": {},
     "output_type": "execute_result"
    }
   ],
   "source": [
    "db.sql(\"SELECT * FROM netflix ORDER BY Year DESC;\")"
   ]
  },
  {
   "cell_type": "markdown",
   "metadata": {},
   "source": [
    "### 13 - Encontre todas as instâncias onde: A categoria é 'Filme' e o tipo é 'Dramas' ou a categoria é 'Série de TV' e o tipo é 'TV Infantil'."
   ]
  },
  {
   "cell_type": "code",
   "execution_count": 60,
   "metadata": {},
   "outputs": [
    {
     "data": {
      "text/plain": [
       "┌─────────┬──────────┬──────────────────────┬───┬──────────────────────┬──────────────────────┬───────┐\n",
       "│ Show_Id │ Category │        Title         │ … │         Type         │     Description      │ Year  │\n",
       "│ varchar │ varchar  │       varchar        │   │       varchar        │       varchar        │ int32 │\n",
       "├─────────┼──────────┼──────────────────────┼───┼──────────────────────┼──────────────────────┼───────┤\n",
       "│ s1054   │ Movie    │ Born Beautiful       │ … │ Comedies, Dramas, …  │ After her best fri…  │  2020 │\n",
       "│ s1060   │ Movie    │ Boss                 │ … │ Action & Adventure…  │ Disowned by his fa…  │  2020 │\n",
       "│ s1094   │ Movie    │ Breath               │ … │ Dramas, Sports Mov…  │ In mid-1970s Austr…  │  2018 │\n",
       "│ s11     │ Movie    │ 1922                 │ … │ Dramas, Thrillers    │ A farmer pens a co…  │  2017 │\n",
       "│ s1200   │ Movie    │ Candyflip            │ … │ Dramas, Independen…  │ On the incandescen…  │  2019 │\n",
       "│ s1204   │ Movie    │ Canvas               │ … │ Children & Family …  │ After a heartbreak…  │  2020 │\n",
       "│ s121    │ Movie    │ 5 to 7               │ … │ Comedies, Dramas, …  │ A young novelist's…  │  2017 │\n",
       "│ s1257   │ Movie    │ Center Stage         │ … │ Dramas               │ Vying for a spot i…  │  2020 │\n",
       "│ s1349   │ Movie    │ Choked: Paisa Bolt…  │ … │ Dramas, Internatio…  │ A bank employee we…  │  2020 │\n",
       "│ s1374   │ Movie    │ Christopher Robin    │ … │ Children & Family …  │ Now a careworn mid…  │  2019 │\n",
       "│   ·     │   ·      │         ·            │ · │    ·                 │          ·           │    ·  │\n",
       "│   ·     │   ·      │         ·            │ · │    ·                 │          ·           │    ·  │\n",
       "│   ·     │   ·      │         ·            │ · │    ·                 │          ·           │    ·  │\n",
       "│ s4929   │ TV Show  │ Power Rangers Dino…  │ … │ Kids' TV             │ In the time of din…  │  2015 │\n",
       "│ s4986   │ TV Show  │ Project Mc²          │ … │ Kids' TV             │ Teenage spy McKeyl…  │  2017 │\n",
       "│ s524    │ TV Show  │ Angry Birds          │ … │ Kids' TV, TV Comed…  │ Birds Red, Chuck a…  │  2019 │\n",
       "│ s5305   │ TV Show  │ Running Man          │ … │ Kids' TV, TV Comed…  │ Wanting to bring h…  │  2021 │\n",
       "│ s5356   │ TV Show  │ Sam & Cat            │ … │ Kids' TV, TV Comed…  │ To earn cash, room…  │  2019 │\n",
       "│ s6631   │ TV Show  │ The Magic School B…  │ … │ Kids' TV             │ Ms. Frizzle's kid …  │  2018 │\n",
       "│ s6999   │ TV Show  │ The Who Was? Show    │ … │ Kids' TV, TV Comed…  │ Fresh voices bring…  │  2018 │\n",
       "│ s7110   │ TV Show  │ Titipo Titipo        │ … │ Kids' TV, Korean T…  │ Titipo the train i…  │  2019 │\n",
       "│ s7246   │ TV Show  │ True Tunes           │ … │ Kids' TV             │ True and her frien…  │  2019 │\n",
       "│ s7250   │ TV Show  │ True: Magical Frie…  │ … │ Kids' TV             │ The power of frien…  │  2018 │\n",
       "├─────────┴──────────┴──────────────────────┴───┴──────────────────────┴──────────────────────┴───────┤\n",
       "│ 2520 rows (20 shown)                                                           12 columns (6 shown) │\n",
       "└─────────────────────────────────────────────────────────────────────────────────────────────────────┘"
      ]
     },
     "execution_count": 60,
     "metadata": {},
     "output_type": "execute_result"
    }
   ],
   "source": [
    "db.sql(\"\"\"\n",
    "       SELECT \n",
    "            *\n",
    "        FROM netflix\n",
    "        WHERE \n",
    "        (Category = 'Movie'\n",
    "        AND Type LIKE '%Drama%')\n",
    "        OR\n",
    "        (Category = 'TV Show'\n",
    "        AND Type LIKE '%Kids'' TV%');\n",
    "        \"\"\")"
   ]
  },
  {
   "cell_type": "markdown",
   "metadata": {},
   "source": [
    "## Outras análises"
   ]
  },
  {
   "cell_type": "markdown",
   "metadata": {},
   "source": [
    "Top tipos"
   ]
  },
  {
   "cell_type": "code",
   "execution_count": 61,
   "metadata": {},
   "outputs": [
    {
     "data": {
      "text/html": [
       "<div>\n",
       "<style scoped>\n",
       "    .dataframe tbody tr th:only-of-type {\n",
       "        vertical-align: middle;\n",
       "    }\n",
       "\n",
       "    .dataframe tbody tr th {\n",
       "        vertical-align: top;\n",
       "    }\n",
       "\n",
       "    .dataframe thead th {\n",
       "        text-align: right;\n",
       "    }\n",
       "</style>\n",
       "<table border=\"1\" class=\"dataframe\">\n",
       "  <thead>\n",
       "    <tr style=\"text-align: right;\">\n",
       "      <th></th>\n",
       "      <th>Type</th>\n",
       "      <th>Category</th>\n",
       "    </tr>\n",
       "  </thead>\n",
       "  <tbody>\n",
       "    <tr>\n",
       "      <th>0</th>\n",
       "      <td>Comedies</td>\n",
       "      <td>Movie</td>\n",
       "    </tr>\n",
       "    <tr>\n",
       "      <th>1</th>\n",
       "      <td>International Movies</td>\n",
       "      <td>Movie</td>\n",
       "    </tr>\n",
       "    <tr>\n",
       "      <th>2</th>\n",
       "      <td>Romantic Movies</td>\n",
       "      <td>Movie</td>\n",
       "    </tr>\n",
       "    <tr>\n",
       "      <th>3</th>\n",
       "      <td>Kids' TV</td>\n",
       "      <td>TV Show</td>\n",
       "    </tr>\n",
       "    <tr>\n",
       "      <th>4</th>\n",
       "      <td>Documentaries</td>\n",
       "      <td>Movie</td>\n",
       "    </tr>\n",
       "    <tr>\n",
       "      <th>...</th>\n",
       "      <td>...</td>\n",
       "      <td>...</td>\n",
       "    </tr>\n",
       "    <tr>\n",
       "      <th>17066</th>\n",
       "      <td>Comedies</td>\n",
       "      <td>Movie</td>\n",
       "    </tr>\n",
       "    <tr>\n",
       "      <th>17067</th>\n",
       "      <td>Dramas</td>\n",
       "      <td>Movie</td>\n",
       "    </tr>\n",
       "    <tr>\n",
       "      <th>17068</th>\n",
       "      <td>International Movies</td>\n",
       "      <td>Movie</td>\n",
       "    </tr>\n",
       "    <tr>\n",
       "      <th>17069</th>\n",
       "      <td>International TV Shows</td>\n",
       "      <td>TV Show</td>\n",
       "    </tr>\n",
       "    <tr>\n",
       "      <th>17070</th>\n",
       "      <td>Reality TV</td>\n",
       "      <td>TV Show</td>\n",
       "    </tr>\n",
       "  </tbody>\n",
       "</table>\n",
       "<p>17071 rows × 2 columns</p>\n",
       "</div>"
      ],
      "text/plain": [
       "                         Type Category\n",
       "0                    Comedies    Movie\n",
       "1        International Movies    Movie\n",
       "2             Romantic Movies    Movie\n",
       "3                    Kids' TV  TV Show\n",
       "4               Documentaries    Movie\n",
       "...                       ...      ...\n",
       "17066                Comedies    Movie\n",
       "17067                  Dramas    Movie\n",
       "17068    International Movies    Movie\n",
       "17069  International TV Shows  TV Show\n",
       "17070              Reality TV  TV Show\n",
       "\n",
       "[17071 rows x 2 columns]"
      ]
     },
     "execution_count": 61,
     "metadata": {},
     "output_type": "execute_result"
    }
   ],
   "source": [
    "# Ajustando a coluna de type, que possui dados agrupados\n",
    "df_types = db.sql(\"\"\"\n",
    "       SELECT \n",
    "            Type, \n",
    "            Category\n",
    "       FROM\n",
    "       (\n",
    "         SELECT \n",
    "         TRIM(UNNEST(SPLIT(Type, ','))) AS Type, \n",
    "         Category\n",
    "         FROM netflix\n",
    "       )\n",
    "    \"\"\").df()\n",
    "df_types"
   ]
  },
  {
   "cell_type": "code",
   "execution_count": 62,
   "metadata": {},
   "outputs": [
    {
     "data": {
      "application/vnd.plotly.v1+json": {
       "config": {
        "plotlyServerURL": "https://plot.ly"
       },
       "data": [
        {
         "alignmentgroup": "True",
         "hovertemplate": "Category=TV Show<br>Contagem=%{text}<br>Tipo=%{y}<extra></extra>",
         "legendgroup": "TV Show",
         "marker": {
          "color": "#636efa",
          "pattern": {
           "shape": ""
          }
         },
         "name": "TV Show",
         "offsetgroup": "TV Show",
         "orientation": "h",
         "showlegend": true,
         "text": [
          12,
          27,
          50,
          52,
          60,
          69,
          76,
          85,
          90,
          147,
          148,
          150,
          150,
          222,
          232,
          333,
          353,
          414,
          427,
          525,
          704,
          1199
         ],
         "textposition": "auto",
         "texttemplate": "%{x}",
         "type": "bar",
         "x": [
          12,
          27,
          50,
          52,
          60,
          69,
          76,
          85,
          90,
          147,
          148,
          150,
          150,
          222,
          232,
          333,
          353,
          414,
          427,
          525,
          704,
          1199
         ],
         "xaxis": "x",
         "y": [
          "TV Shows",
          "Classic & Cult TV",
          "TV Thrillers",
          "Stand-Up Comedy & Talk Shows",
          "Teen TV Shows",
          "TV Horror",
          "TV Sci-Fi & Fantasy",
          "Science & Nature TV",
          "TV Mysteries",
          "Spanish-Language TV Shows",
          "Anime Series",
          "TV Action & Adventure",
          "Korean TV Shows",
          "Reality TV",
          "British TV Shows",
          "Romantic TV Shows",
          "Docuseries",
          "Kids' TV",
          "Crime TV Shows",
          "TV Comedies",
          "TV Dramas",
          "International TV Shows"
         ],
         "yaxis": "y"
        },
        {
         "alignmentgroup": "True",
         "hovertemplate": "Category=Movie<br>Contagem=%{text}<br>Tipo=%{y}<extra></extra>",
         "legendgroup": "Movie",
         "marker": {
          "color": "#EF553B",
          "pattern": {
           "shape": ""
          }
         },
         "name": "Movie",
         "offsetgroup": "Movie",
         "orientation": "h",
         "showlegend": true,
         "text": [
          56,
          57,
          57,
          59,
          90,
          103,
          196,
          218,
          312,
          321,
          329,
          491,
          531,
          532,
          673,
          721,
          786,
          1471,
          2106,
          2437
         ],
         "textposition": "auto",
         "texttemplate": "%{x}",
         "type": "bar",
         "x": [
          56,
          57,
          57,
          59,
          90,
          103,
          196,
          218,
          312,
          321,
          329,
          491,
          531,
          532,
          673,
          721,
          786,
          1471,
          2106,
          2437
         ],
         "xaxis": "x",
         "y": [
          "Movies",
          "Anime Features",
          "Faith & Spirituality",
          "Cult Movies",
          "LGBTQ Movies",
          "Classic Movies",
          "Sports Movies",
          "Sci-Fi & Fantasy",
          "Horror Movies",
          "Music & Musicals",
          "Stand-Up Comedy",
          "Thrillers",
          "Romantic Movies",
          "Children & Family Movies",
          "Independent Movies",
          "Action & Adventure",
          "Documentaries",
          "Comedies",
          "Dramas",
          "International Movies"
         ],
         "yaxis": "y"
        }
       ],
       "layout": {
        "barmode": "relative",
        "legend": {
         "title": {
          "text": "Category"
         },
         "tracegroupgap": 0
        },
        "template": {
         "data": {
          "bar": [
           {
            "error_x": {
             "color": "#2a3f5f"
            },
            "error_y": {
             "color": "#2a3f5f"
            },
            "marker": {
             "line": {
              "color": "#E5ECF6",
              "width": 0.5
             },
             "pattern": {
              "fillmode": "overlay",
              "size": 10,
              "solidity": 0.2
             }
            },
            "type": "bar"
           }
          ],
          "barpolar": [
           {
            "marker": {
             "line": {
              "color": "#E5ECF6",
              "width": 0.5
             },
             "pattern": {
              "fillmode": "overlay",
              "size": 10,
              "solidity": 0.2
             }
            },
            "type": "barpolar"
           }
          ],
          "carpet": [
           {
            "aaxis": {
             "endlinecolor": "#2a3f5f",
             "gridcolor": "white",
             "linecolor": "white",
             "minorgridcolor": "white",
             "startlinecolor": "#2a3f5f"
            },
            "baxis": {
             "endlinecolor": "#2a3f5f",
             "gridcolor": "white",
             "linecolor": "white",
             "minorgridcolor": "white",
             "startlinecolor": "#2a3f5f"
            },
            "type": "carpet"
           }
          ],
          "choropleth": [
           {
            "colorbar": {
             "outlinewidth": 0,
             "ticks": ""
            },
            "type": "choropleth"
           }
          ],
          "contour": [
           {
            "colorbar": {
             "outlinewidth": 0,
             "ticks": ""
            },
            "colorscale": [
             [
              0,
              "#0d0887"
             ],
             [
              0.1111111111111111,
              "#46039f"
             ],
             [
              0.2222222222222222,
              "#7201a8"
             ],
             [
              0.3333333333333333,
              "#9c179e"
             ],
             [
              0.4444444444444444,
              "#bd3786"
             ],
             [
              0.5555555555555556,
              "#d8576b"
             ],
             [
              0.6666666666666666,
              "#ed7953"
             ],
             [
              0.7777777777777778,
              "#fb9f3a"
             ],
             [
              0.8888888888888888,
              "#fdca26"
             ],
             [
              1,
              "#f0f921"
             ]
            ],
            "type": "contour"
           }
          ],
          "contourcarpet": [
           {
            "colorbar": {
             "outlinewidth": 0,
             "ticks": ""
            },
            "type": "contourcarpet"
           }
          ],
          "heatmap": [
           {
            "colorbar": {
             "outlinewidth": 0,
             "ticks": ""
            },
            "colorscale": [
             [
              0,
              "#0d0887"
             ],
             [
              0.1111111111111111,
              "#46039f"
             ],
             [
              0.2222222222222222,
              "#7201a8"
             ],
             [
              0.3333333333333333,
              "#9c179e"
             ],
             [
              0.4444444444444444,
              "#bd3786"
             ],
             [
              0.5555555555555556,
              "#d8576b"
             ],
             [
              0.6666666666666666,
              "#ed7953"
             ],
             [
              0.7777777777777778,
              "#fb9f3a"
             ],
             [
              0.8888888888888888,
              "#fdca26"
             ],
             [
              1,
              "#f0f921"
             ]
            ],
            "type": "heatmap"
           }
          ],
          "heatmapgl": [
           {
            "colorbar": {
             "outlinewidth": 0,
             "ticks": ""
            },
            "colorscale": [
             [
              0,
              "#0d0887"
             ],
             [
              0.1111111111111111,
              "#46039f"
             ],
             [
              0.2222222222222222,
              "#7201a8"
             ],
             [
              0.3333333333333333,
              "#9c179e"
             ],
             [
              0.4444444444444444,
              "#bd3786"
             ],
             [
              0.5555555555555556,
              "#d8576b"
             ],
             [
              0.6666666666666666,
              "#ed7953"
             ],
             [
              0.7777777777777778,
              "#fb9f3a"
             ],
             [
              0.8888888888888888,
              "#fdca26"
             ],
             [
              1,
              "#f0f921"
             ]
            ],
            "type": "heatmapgl"
           }
          ],
          "histogram": [
           {
            "marker": {
             "pattern": {
              "fillmode": "overlay",
              "size": 10,
              "solidity": 0.2
             }
            },
            "type": "histogram"
           }
          ],
          "histogram2d": [
           {
            "colorbar": {
             "outlinewidth": 0,
             "ticks": ""
            },
            "colorscale": [
             [
              0,
              "#0d0887"
             ],
             [
              0.1111111111111111,
              "#46039f"
             ],
             [
              0.2222222222222222,
              "#7201a8"
             ],
             [
              0.3333333333333333,
              "#9c179e"
             ],
             [
              0.4444444444444444,
              "#bd3786"
             ],
             [
              0.5555555555555556,
              "#d8576b"
             ],
             [
              0.6666666666666666,
              "#ed7953"
             ],
             [
              0.7777777777777778,
              "#fb9f3a"
             ],
             [
              0.8888888888888888,
              "#fdca26"
             ],
             [
              1,
              "#f0f921"
             ]
            ],
            "type": "histogram2d"
           }
          ],
          "histogram2dcontour": [
           {
            "colorbar": {
             "outlinewidth": 0,
             "ticks": ""
            },
            "colorscale": [
             [
              0,
              "#0d0887"
             ],
             [
              0.1111111111111111,
              "#46039f"
             ],
             [
              0.2222222222222222,
              "#7201a8"
             ],
             [
              0.3333333333333333,
              "#9c179e"
             ],
             [
              0.4444444444444444,
              "#bd3786"
             ],
             [
              0.5555555555555556,
              "#d8576b"
             ],
             [
              0.6666666666666666,
              "#ed7953"
             ],
             [
              0.7777777777777778,
              "#fb9f3a"
             ],
             [
              0.8888888888888888,
              "#fdca26"
             ],
             [
              1,
              "#f0f921"
             ]
            ],
            "type": "histogram2dcontour"
           }
          ],
          "mesh3d": [
           {
            "colorbar": {
             "outlinewidth": 0,
             "ticks": ""
            },
            "type": "mesh3d"
           }
          ],
          "parcoords": [
           {
            "line": {
             "colorbar": {
              "outlinewidth": 0,
              "ticks": ""
             }
            },
            "type": "parcoords"
           }
          ],
          "pie": [
           {
            "automargin": true,
            "type": "pie"
           }
          ],
          "scatter": [
           {
            "fillpattern": {
             "fillmode": "overlay",
             "size": 10,
             "solidity": 0.2
            },
            "type": "scatter"
           }
          ],
          "scatter3d": [
           {
            "line": {
             "colorbar": {
              "outlinewidth": 0,
              "ticks": ""
             }
            },
            "marker": {
             "colorbar": {
              "outlinewidth": 0,
              "ticks": ""
             }
            },
            "type": "scatter3d"
           }
          ],
          "scattercarpet": [
           {
            "marker": {
             "colorbar": {
              "outlinewidth": 0,
              "ticks": ""
             }
            },
            "type": "scattercarpet"
           }
          ],
          "scattergeo": [
           {
            "marker": {
             "colorbar": {
              "outlinewidth": 0,
              "ticks": ""
             }
            },
            "type": "scattergeo"
           }
          ],
          "scattergl": [
           {
            "marker": {
             "colorbar": {
              "outlinewidth": 0,
              "ticks": ""
             }
            },
            "type": "scattergl"
           }
          ],
          "scattermapbox": [
           {
            "marker": {
             "colorbar": {
              "outlinewidth": 0,
              "ticks": ""
             }
            },
            "type": "scattermapbox"
           }
          ],
          "scatterpolar": [
           {
            "marker": {
             "colorbar": {
              "outlinewidth": 0,
              "ticks": ""
             }
            },
            "type": "scatterpolar"
           }
          ],
          "scatterpolargl": [
           {
            "marker": {
             "colorbar": {
              "outlinewidth": 0,
              "ticks": ""
             }
            },
            "type": "scatterpolargl"
           }
          ],
          "scatterternary": [
           {
            "marker": {
             "colorbar": {
              "outlinewidth": 0,
              "ticks": ""
             }
            },
            "type": "scatterternary"
           }
          ],
          "surface": [
           {
            "colorbar": {
             "outlinewidth": 0,
             "ticks": ""
            },
            "colorscale": [
             [
              0,
              "#0d0887"
             ],
             [
              0.1111111111111111,
              "#46039f"
             ],
             [
              0.2222222222222222,
              "#7201a8"
             ],
             [
              0.3333333333333333,
              "#9c179e"
             ],
             [
              0.4444444444444444,
              "#bd3786"
             ],
             [
              0.5555555555555556,
              "#d8576b"
             ],
             [
              0.6666666666666666,
              "#ed7953"
             ],
             [
              0.7777777777777778,
              "#fb9f3a"
             ],
             [
              0.8888888888888888,
              "#fdca26"
             ],
             [
              1,
              "#f0f921"
             ]
            ],
            "type": "surface"
           }
          ],
          "table": [
           {
            "cells": {
             "fill": {
              "color": "#EBF0F8"
             },
             "line": {
              "color": "white"
             }
            },
            "header": {
             "fill": {
              "color": "#C8D4E3"
             },
             "line": {
              "color": "white"
             }
            },
            "type": "table"
           }
          ]
         },
         "layout": {
          "annotationdefaults": {
           "arrowcolor": "#2a3f5f",
           "arrowhead": 0,
           "arrowwidth": 1
          },
          "autotypenumbers": "strict",
          "coloraxis": {
           "colorbar": {
            "outlinewidth": 0,
            "ticks": ""
           }
          },
          "colorscale": {
           "diverging": [
            [
             0,
             "#8e0152"
            ],
            [
             0.1,
             "#c51b7d"
            ],
            [
             0.2,
             "#de77ae"
            ],
            [
             0.3,
             "#f1b6da"
            ],
            [
             0.4,
             "#fde0ef"
            ],
            [
             0.5,
             "#f7f7f7"
            ],
            [
             0.6,
             "#e6f5d0"
            ],
            [
             0.7,
             "#b8e186"
            ],
            [
             0.8,
             "#7fbc41"
            ],
            [
             0.9,
             "#4d9221"
            ],
            [
             1,
             "#276419"
            ]
           ],
           "sequential": [
            [
             0,
             "#0d0887"
            ],
            [
             0.1111111111111111,
             "#46039f"
            ],
            [
             0.2222222222222222,
             "#7201a8"
            ],
            [
             0.3333333333333333,
             "#9c179e"
            ],
            [
             0.4444444444444444,
             "#bd3786"
            ],
            [
             0.5555555555555556,
             "#d8576b"
            ],
            [
             0.6666666666666666,
             "#ed7953"
            ],
            [
             0.7777777777777778,
             "#fb9f3a"
            ],
            [
             0.8888888888888888,
             "#fdca26"
            ],
            [
             1,
             "#f0f921"
            ]
           ],
           "sequentialminus": [
            [
             0,
             "#0d0887"
            ],
            [
             0.1111111111111111,
             "#46039f"
            ],
            [
             0.2222222222222222,
             "#7201a8"
            ],
            [
             0.3333333333333333,
             "#9c179e"
            ],
            [
             0.4444444444444444,
             "#bd3786"
            ],
            [
             0.5555555555555556,
             "#d8576b"
            ],
            [
             0.6666666666666666,
             "#ed7953"
            ],
            [
             0.7777777777777778,
             "#fb9f3a"
            ],
            [
             0.8888888888888888,
             "#fdca26"
            ],
            [
             1,
             "#f0f921"
            ]
           ]
          },
          "colorway": [
           "#636efa",
           "#EF553B",
           "#00cc96",
           "#ab63fa",
           "#FFA15A",
           "#19d3f3",
           "#FF6692",
           "#B6E880",
           "#FF97FF",
           "#FECB52"
          ],
          "font": {
           "color": "#2a3f5f"
          },
          "geo": {
           "bgcolor": "white",
           "lakecolor": "white",
           "landcolor": "#E5ECF6",
           "showlakes": true,
           "showland": true,
           "subunitcolor": "white"
          },
          "hoverlabel": {
           "align": "left"
          },
          "hovermode": "closest",
          "mapbox": {
           "style": "light"
          },
          "paper_bgcolor": "white",
          "plot_bgcolor": "#E5ECF6",
          "polar": {
           "angularaxis": {
            "gridcolor": "white",
            "linecolor": "white",
            "ticks": ""
           },
           "bgcolor": "#E5ECF6",
           "radialaxis": {
            "gridcolor": "white",
            "linecolor": "white",
            "ticks": ""
           }
          },
          "scene": {
           "xaxis": {
            "backgroundcolor": "#E5ECF6",
            "gridcolor": "white",
            "gridwidth": 2,
            "linecolor": "white",
            "showbackground": true,
            "ticks": "",
            "zerolinecolor": "white"
           },
           "yaxis": {
            "backgroundcolor": "#E5ECF6",
            "gridcolor": "white",
            "gridwidth": 2,
            "linecolor": "white",
            "showbackground": true,
            "ticks": "",
            "zerolinecolor": "white"
           },
           "zaxis": {
            "backgroundcolor": "#E5ECF6",
            "gridcolor": "white",
            "gridwidth": 2,
            "linecolor": "white",
            "showbackground": true,
            "ticks": "",
            "zerolinecolor": "white"
           }
          },
          "shapedefaults": {
           "line": {
            "color": "#2a3f5f"
           }
          },
          "ternary": {
           "aaxis": {
            "gridcolor": "white",
            "linecolor": "white",
            "ticks": ""
           },
           "baxis": {
            "gridcolor": "white",
            "linecolor": "white",
            "ticks": ""
           },
           "bgcolor": "#E5ECF6",
           "caxis": {
            "gridcolor": "white",
            "linecolor": "white",
            "ticks": ""
           }
          },
          "title": {
           "x": 0.05
          },
          "xaxis": {
           "automargin": true,
           "gridcolor": "white",
           "linecolor": "white",
           "ticks": "",
           "title": {
            "standoff": 15
           },
           "zerolinecolor": "white",
           "zerolinewidth": 2
          },
          "yaxis": {
           "automargin": true,
           "gridcolor": "white",
           "linecolor": "white",
           "ticks": "",
           "title": {
            "standoff": 15
           },
           "zerolinecolor": "white",
           "zerolinewidth": 2
          }
         }
        },
        "title": {
         "text": "Contagem de Tipos de Dados"
        },
        "xaxis": {
         "anchor": "y",
         "domain": [
          0,
          1
         ],
         "title": {
          "text": "Contagem"
         }
        },
        "yaxis": {
         "anchor": "x",
         "domain": [
          0,
          1
         ],
         "title": {
          "text": "Tipo"
         }
        }
       }
      }
     },
     "metadata": {},
     "output_type": "display_data"
    }
   ],
   "source": [
    "import plotly.express as px\n",
    "\n",
    "type_counts = df_types.groupby(['Category', 'Type']).size().reset_index(name='Count').sort_values(by='Count')\n",
    "\n",
    "fig = px.bar(type_counts, x='Count', y='Type', color='Category', orientation='h', text='Count', \n",
    "             title='Contagem de Tipos de Dados', labels={'Count': 'Contagem', 'Type': 'Tipo'}, text_auto=True)\n",
    "fig.show()\n"
   ]
  },
  {
   "cell_type": "markdown",
   "metadata": {},
   "source": [
    "Podemos ver também que os filmes e séries não possuem as mesmas categorias"
   ]
  },
  {
   "cell_type": "code",
   "execution_count": 63,
   "metadata": {},
   "outputs": [
    {
     "data": {
      "text/plain": [
       "┌────────────────────────────────────────────────────────┬──────────┐\n",
       "│                          Type                          │ Category │\n",
       "│                        varchar                         │ varchar  │\n",
       "├────────────────────────────────────────────────────────┼──────────┤\n",
       "│ Action & Adventure, Comedies, Dramas                   │ Movie    │\n",
       "│ Dramas, Independent Movies, International Movies       │ Movie    │\n",
       "│ Children & Family Movies, Comedies, Dramas             │ Movie    │\n",
       "│ Dramas, International Movies, Thrillers                │ Movie    │\n",
       "│ Children & Family Movies, Dramas, International Movies │ Movie    │\n",
       "│ Classic Movies, Comedies, Dramas                       │ Movie    │\n",
       "│ Crime TV Shows, TV Dramas                              │ TV Show  │\n",
       "│ International TV Shows, TV Dramas, TV Horror           │ TV Show  │\n",
       "│ Dramas, LGBTQ Movies, Romantic Movies                  │ Movie    │\n",
       "│ Dramas, Music & Musicals, Sci-Fi & Fantasy             │ Movie    │\n",
       "│                     ·                                  │   ·      │\n",
       "│                     ·                                  │   ·      │\n",
       "│                     ·                                  │   ·      │\n",
       "│ Romantic TV Shows, TV Comedies, TV Dramas              │ TV Show  │\n",
       "│ Romantic TV Shows, TV Dramas, TV Sci-Fi & Fantasy      │ TV Show  │\n",
       "│ Classic Movies, Dramas, Independent Movies             │ Movie    │\n",
       "│ International TV Shows, TV Dramas, Teen TV Shows       │ TV Show  │\n",
       "│ TV Action & Adventure, TV Dramas, TV Sci-Fi & Fantasy  │ TV Show  │\n",
       "│ Children & Family Movies, Dramas, Romantic Movies      │ Movie    │\n",
       "│ Classic Movies, Dramas, Sports Movies                  │ Movie    │\n",
       "│ Dramas, LGBTQ Movies                                   │ Movie    │\n",
       "│ Cult Movies, Dramas, International Movies              │ Movie    │\n",
       "│ Children & Family Movies, Dramas, Music & Musicals     │ Movie    │\n",
       "├────────────────────────────────────────────────────────┴──────────┤\n",
       "│ 141 rows (20 shown)                                     2 columns │\n",
       "└───────────────────────────────────────────────────────────────────┘"
      ]
     },
     "execution_count": 63,
     "metadata": {},
     "output_type": "execute_result"
    }
   ],
   "source": [
    "# Para verificar o que escrevi acima, utilizei o tipo drama e podemos ver que epara filmes aparece \"Dramas\" e para série \"TV Dramas\"\n",
    "db.sql(\"SELECT DISTINCT Type, Category FROM netflix WHERE Type like '%Drama%'\")"
   ]
  }
 ],
 "metadata": {
  "kernelspec": {
   "display_name": "Python 3",
   "language": "python",
   "name": "python3"
  },
  "language_info": {
   "codemirror_mode": {
    "name": "ipython",
    "version": 3
   },
   "file_extension": ".py",
   "mimetype": "text/x-python",
   "name": "python",
   "nbconvert_exporter": "python",
   "pygments_lexer": "ipython3",
   "version": "3.12.1"
  }
 },
 "nbformat": 4,
 "nbformat_minor": 2
}
